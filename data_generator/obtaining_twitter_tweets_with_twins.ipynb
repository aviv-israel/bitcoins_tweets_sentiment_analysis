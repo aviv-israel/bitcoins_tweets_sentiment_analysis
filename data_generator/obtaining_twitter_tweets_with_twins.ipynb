{
 "cells": [
  {
   "cell_type": "markdown",
   "metadata": {
    "collapsed": true,
    "pycharm": {
     "name": "#%% md\n"
    }
   },
   "source": [
    "# Obtaining Twitter tweets with twins"
   ]
  },
  {
   "cell_type": "code",
   "execution_count": 1,
   "outputs": [],
   "source": [
    "import twint\n",
    "import nest_asyncio\n",
    "nest_asyncio.apply()\n",
    "import preprocessor as p\n",
    "p.set_options(p.OPT.URL, p.OPT.EMOJI)"
   ],
   "metadata": {
    "collapsed": false,
    "pycharm": {
     "name": "#%%\n"
    }
   }
  },
  {
   "cell_type": "code",
   "execution_count": 10,
   "outputs": [],
   "source": [
    "start = \"2019-05-25\"\n",
    "end = \"2019-06-25\"\n",
    "search = \"#BTC\""
   ],
   "metadata": {
    "collapsed": false,
    "pycharm": {
     "name": "#%%\n"
    }
   }
  },
  {
   "cell_type": "code",
   "execution_count": 11,
   "outputs": [
    {
     "name": "stdout",
     "output_type": "stream",
     "text": [
      "1144394891528511488 2019-06-28 02:59:38 +0300 <CryptoPressNews> $BTC | #BTC - bitcoin's Current Price: ▲ $11182.8063 | 1h ▲ : 0.25 % | 24h ▼ : -13.71 % | 7d ▲ : 16.58% | More on:  https://t.co/K34EJvVQOn\n",
      "1144394756643909632 2019-06-28 02:59:06 +0300 <akitarou_miya> リップルまた暴落　買い時か　もうやめるべきか  https://t.co/VzefPvLo1e　#リップル #XRP #BTC\n",
      "1144394693406388225 2019-06-28 02:58:51 +0300 <k_shidesu> #BTC 寝ショート完璧に決まった\n",
      "1144394617024122880 2019-06-28 02:58:33 +0300 <TradingHorror> I like to hedge shorts on $BTC around defined entry areas and, much more important, profit areas. In this way, I can cover for deeper pullbacks that I expected. Around 9K is my profit area for the first hedge short.   #btc #bitcoin #crypto #cryptocurrency  https://t.co/CrFom87yUv\n",
      "1144394563026661377 2019-06-28 02:58:20 +0300 <theautomatski> Scientists Explain The Creation of Space &amp; Time  https://t.co/NK2uYNwtsQ | #germany #baltimore #reuters #reuters #seattle #newzealand #eth #kickstarter #iot #tech #bonus #btc #honolulu #techcrunch #baltimore #stratis #gamecoin #ICOs #seattle #forthworth #iot #washingtonDc #bonus  https://t.co/w0iA9k0IQ8\n",
      "1144394511939985408 2019-06-28 02:58:08 +0300 <VaderOfCrypto> #Bitcoin #btc dumped thousands today. Now what’s your game plan?\n",
      "1144394510799183872 2019-06-28 02:58:07 +0300 <btc_alert> 🔼 ₿1 = $11,147 (23:58 UTC) $BTC prices rise! #Bitcoin $btcusd #btcusd #btc  https://t.co/jVUGf3zvA8\n",
      "1144394477186031616 2019-06-28 02:57:59 +0300 <sirvivalprepper> I have run out of funds to buy this dip.  So I am putting a leg and my kidney up for sale.. nothing else though.. that would just be weird... #xrp #btc #crypto\n",
      "1144394286013845504 2019-06-28 02:57:14 +0300 <256cub> Craig Wright Intends to Call Three Expert Witnesses to His Evidentiary Hearing #BTCPeek #free #bitcoin #FreeBitcoin #BTC #FreeBTC #cryptocurrency ✅  https://t.co/BxrYCX4w1w  https://t.co/TQSBdBf3F0\n",
      "1144394245341474816 2019-06-28 02:57:04 +0300 <AmateoRa> I know Bitcion doesn't give a shit...  But I really like $BTC in $9k to $13k range.  Feels like fair market value. Not too high or low to scare buyers.   Enough to get the World moving and attention to start a mega-trend. Accumulate wisely. #bitcoin #crypto #btc\n",
      "1144394198789099521 2019-06-28 02:56:53 +0300 <LowFloatTradez> $ndyn $intv GROWING.. solid stocks to be in right now.. IMO 💚💚💚 $CBBT I still think this is a huge play in trips.. ✅✅✅ $HPIL LOAD UP... its 0.0002.. 500 bucks makes a lot at this level.. best trip play for #btc and upcoming catalysts.. spelled \"caTalysts\" ..🤣👍👍👍\n",
      "1144394119663329280 2019-06-28 02:56:34 +0300 <ally222111> #BIZpaye #Marketplace #HODL #BarterCredit #crypto #cryptotrading #BTC #OnlineShopping #Merchants #Ecommerce #B2B #B2C #retail\n",
      "1144394082153721856 2019-06-28 02:56:25 +0300 <BITMAN49678402> マイニングの新時代！パソコンがあれば誰でも簡単にBTCが手に入る！  https://t.co/jHt7HPYc4F #BTC　#仮想通貨　#マイニング　#ビットコイン\n",
      "1144393866923036672 2019-06-28 02:55:34 +0300 <iE2bKVdUE9QSxAB> Tadacoin なら30分に1回、高騰しているビットコインが無料でもらえます！  https://t.co/aB4wMf1pUg #ポイ活 #ウェル活 #BTC #ETH #XRP #仮想通貨 #ポイントサイト #ビットコイン @tadacoinより\n",
      "1144393762291851264 2019-06-28 02:55:09 +0300 <morison49> ✨GAINS SYSTEMS✨日利３% 365日ロック📌毎日配当🎉 投資金額 3.5LTC 本日 💰$11.91💰 LTC下がったからね〜😅  https://t.co/IabEIA11Pj #GAINS_SYSTEMS #Hyip #仮想通貨 #btc #eth #ltc #xrp #trx #eos  https://t.co/GffrKxOcGs\n",
      "1144393718704873474 2019-06-28 02:54:59 +0300 <Zauber0x> #BTC 🧡🧡🧡🧡 #consciousness   https://t.co/j4PhXfeZfn\n",
      "1144393680695877632 2019-06-28 02:54:49 +0300 <XRPRyo_san> 2017年には #BTC に対して否定的な見方で、元建てが消えて市場を混乱させたのに、一変して肯定的。 やっぱり香港ドルが流入してるのか。\n",
      "1144393675633504256 2019-06-28 02:54:48 +0300 <worthofcrypto> @GOExchangeHQ OmiseGO just launched the next TOP 3 Exchange: GO Exchange with their OWN TOKEN GOT. Don´t miss this out. Read our Review.  #omisego #bitcoin #btc #ethereum #eth #binance #goexchange #cryptocurrencies #crypto #litecoin #neo   https://t.co/kNou4P2Jhw\n",
      "1144393615562686464 2019-06-28 02:54:34 +0300 <worthofcrypto> @GOExchangeHQ OmiseGO just launched the next TOP 3 Exchange: GO Exchange with their OWN TOKEN GOT. Don´t miss this out. Read our Review.  #omisego #bitcoin #btc #ethereum #eth #binance #goexchange #cryptocurrencies #crypto #litecoin #neo   https://t.co/kNou4P2Jhw\n",
      "1144393454446874624 2019-06-28 02:53:55 +0300 <cysites> Current Top 3 Dapps by Daily Active Users (DAU)  1. IDEX (9541) 2. ForkDelta (6758) 3. STOX (3141)  For more details. Please visit  https://t.co/FeqCVGaDsg  #crypto #blockchain #ether #technology #BTC #cryptonews #ethereum #currency   #business #entrepreneur\n",
      "[!] No more data! Scraping will stop now.\n",
      "found 0 deleted tweets in this search.\n"
     ]
    }
   ],
   "source": [
    "c = twint.Config()\n",
    "\n",
    "c.Store_object = True\n",
    "c.Pandas = True\n",
    "c.Lang = \"en\"\n",
    "c.Since = start\n",
    "c.Until = end\n",
    "c.Search = search\n",
    "# c.Location = False\n",
    "c.Filter_retweets = True\n",
    "# c.Hide_output = True\n",
    "# c.Limit = 1000\n",
    "twint.run.Search(c)"
   ],
   "metadata": {
    "collapsed": false,
    "pycharm": {
     "name": "#%%\n"
    }
   }
  },
  {
   "cell_type": "code",
   "execution_count": 12,
   "outputs": [],
   "source": [
    "tweet_data = twint.storage.panda.Tweets_df"
   ],
   "metadata": {
    "collapsed": false,
    "pycharm": {
     "name": "#%%\n"
    }
   }
  },
  {
   "cell_type": "code",
   "execution_count": 17,
   "outputs": [
    {
     "data": {
      "text/plain": "                     id      conversation_id    created_at  \\\n0   1144394891528511488  1144394891528511488  1.561680e+12   \n1   1144394756643909632  1144394756643909632  1.561680e+12   \n2   1144394693406388225  1144394693406388225  1.561680e+12   \n3   1144394617024122880  1144394617024122880  1.561680e+12   \n4   1144394563026661377  1144394563026661377  1.561680e+12   \n5   1144394511939985408  1144394511939985408  1.561680e+12   \n6   1144394510799183872  1144394510799183872  1.561680e+12   \n7   1144394477186031616  1144394477186031616  1.561680e+12   \n8   1144394286013845504  1144394286013845504  1.561680e+12   \n9   1144394245341474816  1144394245341474816  1.561680e+12   \n10  1144394198789099521  1144394198789099521  1.561680e+12   \n11  1144394119663329280  1144394119663329280  1.561680e+12   \n12  1144394082153721856  1144394082153721856  1.561680e+12   \n13  1144393866923036672  1144393866923036672  1.561680e+12   \n14  1144393762291851264  1144393762291851264  1.561680e+12   \n15  1144393718704873474  1144393718704873474  1.561680e+12   \n16  1144393680695877632  1144393680695877632  1.561680e+12   \n17  1144393675633504256  1143496465743921153  1.561680e+12   \n18  1144393615562686464  1144221422367268864  1.561680e+12   \n19  1144393454446874624  1144393454446874624  1.561680e+12   \n\n                   date timezone place  \\\n0   2019-06-28 02:59:38    +0300         \n1   2019-06-28 02:59:06    +0300         \n2   2019-06-28 02:58:51    +0300         \n3   2019-06-28 02:58:33    +0300         \n4   2019-06-28 02:58:20    +0300         \n5   2019-06-28 02:58:08    +0300         \n6   2019-06-28 02:58:07    +0300         \n7   2019-06-28 02:57:59    +0300         \n8   2019-06-28 02:57:14    +0300         \n9   2019-06-28 02:57:04    +0300         \n10  2019-06-28 02:56:53    +0300         \n11  2019-06-28 02:56:34    +0300         \n12  2019-06-28 02:56:25    +0300         \n13  2019-06-28 02:55:34    +0300         \n14  2019-06-28 02:55:09    +0300         \n15  2019-06-28 02:54:59    +0300         \n16  2019-06-28 02:54:49    +0300         \n17  2019-06-28 02:54:48    +0300         \n18  2019-06-28 02:54:34    +0300         \n19  2019-06-28 02:53:55    +0300         \n\n                                                tweet language  \\\n0   $BTC | #BTC - bitcoin's Current Price: ▲ $1118...       en   \n1   リップルまた暴落　買い時か　もうやめるべきか  https://t.co/VzefPvLo1...       ja   \n2                                   #BTC 寝ショート完璧に決まった       ja   \n3   I like to hedge shorts on $BTC around defined ...       en   \n4   Scientists Explain The Creation of Space &amp;...       en   \n5   #Bitcoin #btc dumped thousands today. Now what...       en   \n6   🔼 ₿1 = $11,147 (23:58 UTC) $BTC prices rise! #...       en   \n7   I have run out of funds to buy this dip.  So I...       en   \n8   Craig Wright Intends to Call Three Expert Witn...       en   \n9   I know Bitcion doesn't give a shit...  But I r...       en   \n10  $ndyn $intv GROWING.. solid stocks to be in ri...       en   \n11  #BIZpaye #Marketplace #HODL #BarterCredit #cry...      qht   \n12  マイニングの新時代！パソコンがあれば誰でも簡単にBTCが手に入る！  https://t.c...       ja   \n13  Tadacoin なら30分に1回、高騰しているビットコインが無料でもらえます！  http...       ja   \n14  ✨GAINS SYSTEMS✨日利３% 365日ロック📌毎日配当🎉 投資金額 3.5LTC ...       ja   \n15  #BTC 🧡🧡🧡🧡 #consciousness   https://t.co/j4PhXf...      und   \n16  2017年には #BTC に対して否定的な見方で、元建てが消えて市場を混乱させたのに、一変し...       ja   \n17  @GOExchangeHQ OmiseGO just launched the next T...       en   \n18  @GOExchangeHQ OmiseGO just launched the next T...       en   \n19  Current Top 3 Dapps by Daily Active Users (DAU...       en   \n\n                                             hashtags  \\\n0                                               [btc]   \n1                                    [リップル, xrp, btc]   \n2                                               [btc]   \n3              [btc, bitcoin, crypto, cryptocurrency]   \n4   [germany, baltimore, reuters, reuters, seattle...   \n5                                      [bitcoin, btc]   \n6                              [bitcoin, btcusd, btc]   \n7                                  [xrp, btc, crypto]   \n8   [btcpeek, free, bitcoin, freebitcoin, btc, fre...   \n9                              [bitcoin, crypto, btc]   \n10                                              [btc]   \n11  [bizpaye, marketplace, hodl, bartercredit, cry...   \n12                         [btc, 仮想通貨, マイニング, ビットコイン]   \n13  [ポイ活, ウェル活, btc, eth, xrp, 仮想通貨, ポイントサイト, ビットコイン]   \n14  [gains_systems, hyip, 仮想通貨, btc, eth, ltc, xrp...   \n15                               [btc, consciousness]   \n16                                              [btc]   \n17  [omisego, bitcoin, btc, ethereum, eth, binance...   \n18  [omisego, bitcoin, btc, ethereum, eth, binance...   \n19  [crypto, blockchain, ether, technology, btc, c...   \n\n                    cashtags  ...  geo source user_rt_id user_rt  retweet_id  \\\n0                      [btc]  ...                                              \n1                         []  ...                                              \n2                         []  ...                                              \n3                      [btc]  ...                                              \n4                         []  ...                                              \n5                         []  ...                                              \n6              [btc, btcusd]  ...                                              \n7                         []  ...                                              \n8                         []  ...                                              \n9                      [btc]  ...                                              \n10  [ndyn, intv, cbbt, hpil]  ...                                              \n11                        []  ...                                              \n12                        []  ...                                              \n13                        []  ...                                              \n14                        []  ...                                              \n15                        []  ...                                              \n16                        []  ...                                              \n17                        []  ...                                              \n18                        []  ...                                              \n19                        []  ...                                              \n\n                                             reply_to retweet_date translate  \\\n0                                                  []                          \n1                                                  []                          \n2                                                  []                          \n3                                                  []                          \n4                                                  []                          \n5                                                  []                          \n6                                                  []                          \n7                                                  []                          \n8                                                  []                          \n9                                                  []                          \n10                                                 []                          \n11                                                 []                          \n12                                                 []                          \n13                                                 []                          \n14                                                 []                          \n15                                                 []                          \n16                                                 []                          \n17  [{'screen_name': 'GOExchangeHQ', 'name': 'GO.E...                          \n18  [{'screen_name': 'GOExchangeHQ', 'name': 'GO.E...                          \n19                                                 []                          \n\n   trans_src  trans_dest  \n0                         \n1                         \n2                         \n3                         \n4                         \n5                         \n6                         \n7                         \n8                         \n9                         \n10                        \n11                        \n12                        \n13                        \n14                        \n15                        \n16                        \n17                        \n18                        \n19                        \n\n[20 rows x 38 columns]",
      "text/html": "<div>\n<style scoped>\n    .dataframe tbody tr th:only-of-type {\n        vertical-align: middle;\n    }\n\n    .dataframe tbody tr th {\n        vertical-align: top;\n    }\n\n    .dataframe thead th {\n        text-align: right;\n    }\n</style>\n<table border=\"1\" class=\"dataframe\">\n  <thead>\n    <tr style=\"text-align: right;\">\n      <th></th>\n      <th>id</th>\n      <th>conversation_id</th>\n      <th>created_at</th>\n      <th>date</th>\n      <th>timezone</th>\n      <th>place</th>\n      <th>tweet</th>\n      <th>language</th>\n      <th>hashtags</th>\n      <th>cashtags</th>\n      <th>...</th>\n      <th>geo</th>\n      <th>source</th>\n      <th>user_rt_id</th>\n      <th>user_rt</th>\n      <th>retweet_id</th>\n      <th>reply_to</th>\n      <th>retweet_date</th>\n      <th>translate</th>\n      <th>trans_src</th>\n      <th>trans_dest</th>\n    </tr>\n  </thead>\n  <tbody>\n    <tr>\n      <th>0</th>\n      <td>1144394891528511488</td>\n      <td>1144394891528511488</td>\n      <td>1.561680e+12</td>\n      <td>2019-06-28 02:59:38</td>\n      <td>+0300</td>\n      <td></td>\n      <td>$BTC | #BTC - bitcoin's Current Price: ▲ $1118...</td>\n      <td>en</td>\n      <td>[btc]</td>\n      <td>[btc]</td>\n      <td>...</td>\n      <td></td>\n      <td></td>\n      <td></td>\n      <td></td>\n      <td></td>\n      <td>[]</td>\n      <td></td>\n      <td></td>\n      <td></td>\n      <td></td>\n    </tr>\n    <tr>\n      <th>1</th>\n      <td>1144394756643909632</td>\n      <td>1144394756643909632</td>\n      <td>1.561680e+12</td>\n      <td>2019-06-28 02:59:06</td>\n      <td>+0300</td>\n      <td></td>\n      <td>リップルまた暴落　買い時か　もうやめるべきか  https://t.co/VzefPvLo1...</td>\n      <td>ja</td>\n      <td>[リップル, xrp, btc]</td>\n      <td>[]</td>\n      <td>...</td>\n      <td></td>\n      <td></td>\n      <td></td>\n      <td></td>\n      <td></td>\n      <td>[]</td>\n      <td></td>\n      <td></td>\n      <td></td>\n      <td></td>\n    </tr>\n    <tr>\n      <th>2</th>\n      <td>1144394693406388225</td>\n      <td>1144394693406388225</td>\n      <td>1.561680e+12</td>\n      <td>2019-06-28 02:58:51</td>\n      <td>+0300</td>\n      <td></td>\n      <td>#BTC 寝ショート完璧に決まった</td>\n      <td>ja</td>\n      <td>[btc]</td>\n      <td>[]</td>\n      <td>...</td>\n      <td></td>\n      <td></td>\n      <td></td>\n      <td></td>\n      <td></td>\n      <td>[]</td>\n      <td></td>\n      <td></td>\n      <td></td>\n      <td></td>\n    </tr>\n    <tr>\n      <th>3</th>\n      <td>1144394617024122880</td>\n      <td>1144394617024122880</td>\n      <td>1.561680e+12</td>\n      <td>2019-06-28 02:58:33</td>\n      <td>+0300</td>\n      <td></td>\n      <td>I like to hedge shorts on $BTC around defined ...</td>\n      <td>en</td>\n      <td>[btc, bitcoin, crypto, cryptocurrency]</td>\n      <td>[btc]</td>\n      <td>...</td>\n      <td></td>\n      <td></td>\n      <td></td>\n      <td></td>\n      <td></td>\n      <td>[]</td>\n      <td></td>\n      <td></td>\n      <td></td>\n      <td></td>\n    </tr>\n    <tr>\n      <th>4</th>\n      <td>1144394563026661377</td>\n      <td>1144394563026661377</td>\n      <td>1.561680e+12</td>\n      <td>2019-06-28 02:58:20</td>\n      <td>+0300</td>\n      <td></td>\n      <td>Scientists Explain The Creation of Space &amp;amp;...</td>\n      <td>en</td>\n      <td>[germany, baltimore, reuters, reuters, seattle...</td>\n      <td>[]</td>\n      <td>...</td>\n      <td></td>\n      <td></td>\n      <td></td>\n      <td></td>\n      <td></td>\n      <td>[]</td>\n      <td></td>\n      <td></td>\n      <td></td>\n      <td></td>\n    </tr>\n    <tr>\n      <th>5</th>\n      <td>1144394511939985408</td>\n      <td>1144394511939985408</td>\n      <td>1.561680e+12</td>\n      <td>2019-06-28 02:58:08</td>\n      <td>+0300</td>\n      <td></td>\n      <td>#Bitcoin #btc dumped thousands today. Now what...</td>\n      <td>en</td>\n      <td>[bitcoin, btc]</td>\n      <td>[]</td>\n      <td>...</td>\n      <td></td>\n      <td></td>\n      <td></td>\n      <td></td>\n      <td></td>\n      <td>[]</td>\n      <td></td>\n      <td></td>\n      <td></td>\n      <td></td>\n    </tr>\n    <tr>\n      <th>6</th>\n      <td>1144394510799183872</td>\n      <td>1144394510799183872</td>\n      <td>1.561680e+12</td>\n      <td>2019-06-28 02:58:07</td>\n      <td>+0300</td>\n      <td></td>\n      <td>🔼 ₿1 = $11,147 (23:58 UTC) $BTC prices rise! #...</td>\n      <td>en</td>\n      <td>[bitcoin, btcusd, btc]</td>\n      <td>[btc, btcusd]</td>\n      <td>...</td>\n      <td></td>\n      <td></td>\n      <td></td>\n      <td></td>\n      <td></td>\n      <td>[]</td>\n      <td></td>\n      <td></td>\n      <td></td>\n      <td></td>\n    </tr>\n    <tr>\n      <th>7</th>\n      <td>1144394477186031616</td>\n      <td>1144394477186031616</td>\n      <td>1.561680e+12</td>\n      <td>2019-06-28 02:57:59</td>\n      <td>+0300</td>\n      <td></td>\n      <td>I have run out of funds to buy this dip.  So I...</td>\n      <td>en</td>\n      <td>[xrp, btc, crypto]</td>\n      <td>[]</td>\n      <td>...</td>\n      <td></td>\n      <td></td>\n      <td></td>\n      <td></td>\n      <td></td>\n      <td>[]</td>\n      <td></td>\n      <td></td>\n      <td></td>\n      <td></td>\n    </tr>\n    <tr>\n      <th>8</th>\n      <td>1144394286013845504</td>\n      <td>1144394286013845504</td>\n      <td>1.561680e+12</td>\n      <td>2019-06-28 02:57:14</td>\n      <td>+0300</td>\n      <td></td>\n      <td>Craig Wright Intends to Call Three Expert Witn...</td>\n      <td>en</td>\n      <td>[btcpeek, free, bitcoin, freebitcoin, btc, fre...</td>\n      <td>[]</td>\n      <td>...</td>\n      <td></td>\n      <td></td>\n      <td></td>\n      <td></td>\n      <td></td>\n      <td>[]</td>\n      <td></td>\n      <td></td>\n      <td></td>\n      <td></td>\n    </tr>\n    <tr>\n      <th>9</th>\n      <td>1144394245341474816</td>\n      <td>1144394245341474816</td>\n      <td>1.561680e+12</td>\n      <td>2019-06-28 02:57:04</td>\n      <td>+0300</td>\n      <td></td>\n      <td>I know Bitcion doesn't give a shit...  But I r...</td>\n      <td>en</td>\n      <td>[bitcoin, crypto, btc]</td>\n      <td>[btc]</td>\n      <td>...</td>\n      <td></td>\n      <td></td>\n      <td></td>\n      <td></td>\n      <td></td>\n      <td>[]</td>\n      <td></td>\n      <td></td>\n      <td></td>\n      <td></td>\n    </tr>\n    <tr>\n      <th>10</th>\n      <td>1144394198789099521</td>\n      <td>1144394198789099521</td>\n      <td>1.561680e+12</td>\n      <td>2019-06-28 02:56:53</td>\n      <td>+0300</td>\n      <td></td>\n      <td>$ndyn $intv GROWING.. solid stocks to be in ri...</td>\n      <td>en</td>\n      <td>[btc]</td>\n      <td>[ndyn, intv, cbbt, hpil]</td>\n      <td>...</td>\n      <td></td>\n      <td></td>\n      <td></td>\n      <td></td>\n      <td></td>\n      <td>[]</td>\n      <td></td>\n      <td></td>\n      <td></td>\n      <td></td>\n    </tr>\n    <tr>\n      <th>11</th>\n      <td>1144394119663329280</td>\n      <td>1144394119663329280</td>\n      <td>1.561680e+12</td>\n      <td>2019-06-28 02:56:34</td>\n      <td>+0300</td>\n      <td></td>\n      <td>#BIZpaye #Marketplace #HODL #BarterCredit #cry...</td>\n      <td>qht</td>\n      <td>[bizpaye, marketplace, hodl, bartercredit, cry...</td>\n      <td>[]</td>\n      <td>...</td>\n      <td></td>\n      <td></td>\n      <td></td>\n      <td></td>\n      <td></td>\n      <td>[]</td>\n      <td></td>\n      <td></td>\n      <td></td>\n      <td></td>\n    </tr>\n    <tr>\n      <th>12</th>\n      <td>1144394082153721856</td>\n      <td>1144394082153721856</td>\n      <td>1.561680e+12</td>\n      <td>2019-06-28 02:56:25</td>\n      <td>+0300</td>\n      <td></td>\n      <td>マイニングの新時代！パソコンがあれば誰でも簡単にBTCが手に入る！  https://t.c...</td>\n      <td>ja</td>\n      <td>[btc, 仮想通貨, マイニング, ビットコイン]</td>\n      <td>[]</td>\n      <td>...</td>\n      <td></td>\n      <td></td>\n      <td></td>\n      <td></td>\n      <td></td>\n      <td>[]</td>\n      <td></td>\n      <td></td>\n      <td></td>\n      <td></td>\n    </tr>\n    <tr>\n      <th>13</th>\n      <td>1144393866923036672</td>\n      <td>1144393866923036672</td>\n      <td>1.561680e+12</td>\n      <td>2019-06-28 02:55:34</td>\n      <td>+0300</td>\n      <td></td>\n      <td>Tadacoin なら30分に1回、高騰しているビットコインが無料でもらえます！  http...</td>\n      <td>ja</td>\n      <td>[ポイ活, ウェル活, btc, eth, xrp, 仮想通貨, ポイントサイト, ビットコイン]</td>\n      <td>[]</td>\n      <td>...</td>\n      <td></td>\n      <td></td>\n      <td></td>\n      <td></td>\n      <td></td>\n      <td>[]</td>\n      <td></td>\n      <td></td>\n      <td></td>\n      <td></td>\n    </tr>\n    <tr>\n      <th>14</th>\n      <td>1144393762291851264</td>\n      <td>1144393762291851264</td>\n      <td>1.561680e+12</td>\n      <td>2019-06-28 02:55:09</td>\n      <td>+0300</td>\n      <td></td>\n      <td>✨GAINS SYSTEMS✨日利３% 365日ロック📌毎日配当🎉 投資金額 3.5LTC ...</td>\n      <td>ja</td>\n      <td>[gains_systems, hyip, 仮想通貨, btc, eth, ltc, xrp...</td>\n      <td>[]</td>\n      <td>...</td>\n      <td></td>\n      <td></td>\n      <td></td>\n      <td></td>\n      <td></td>\n      <td>[]</td>\n      <td></td>\n      <td></td>\n      <td></td>\n      <td></td>\n    </tr>\n    <tr>\n      <th>15</th>\n      <td>1144393718704873474</td>\n      <td>1144393718704873474</td>\n      <td>1.561680e+12</td>\n      <td>2019-06-28 02:54:59</td>\n      <td>+0300</td>\n      <td></td>\n      <td>#BTC 🧡🧡🧡🧡 #consciousness   https://t.co/j4PhXf...</td>\n      <td>und</td>\n      <td>[btc, consciousness]</td>\n      <td>[]</td>\n      <td>...</td>\n      <td></td>\n      <td></td>\n      <td></td>\n      <td></td>\n      <td></td>\n      <td>[]</td>\n      <td></td>\n      <td></td>\n      <td></td>\n      <td></td>\n    </tr>\n    <tr>\n      <th>16</th>\n      <td>1144393680695877632</td>\n      <td>1144393680695877632</td>\n      <td>1.561680e+12</td>\n      <td>2019-06-28 02:54:49</td>\n      <td>+0300</td>\n      <td></td>\n      <td>2017年には #BTC に対して否定的な見方で、元建てが消えて市場を混乱させたのに、一変し...</td>\n      <td>ja</td>\n      <td>[btc]</td>\n      <td>[]</td>\n      <td>...</td>\n      <td></td>\n      <td></td>\n      <td></td>\n      <td></td>\n      <td></td>\n      <td>[]</td>\n      <td></td>\n      <td></td>\n      <td></td>\n      <td></td>\n    </tr>\n    <tr>\n      <th>17</th>\n      <td>1144393675633504256</td>\n      <td>1143496465743921153</td>\n      <td>1.561680e+12</td>\n      <td>2019-06-28 02:54:48</td>\n      <td>+0300</td>\n      <td></td>\n      <td>@GOExchangeHQ OmiseGO just launched the next T...</td>\n      <td>en</td>\n      <td>[omisego, bitcoin, btc, ethereum, eth, binance...</td>\n      <td>[]</td>\n      <td>...</td>\n      <td></td>\n      <td></td>\n      <td></td>\n      <td></td>\n      <td></td>\n      <td>[{'screen_name': 'GOExchangeHQ', 'name': 'GO.E...</td>\n      <td></td>\n      <td></td>\n      <td></td>\n      <td></td>\n    </tr>\n    <tr>\n      <th>18</th>\n      <td>1144393615562686464</td>\n      <td>1144221422367268864</td>\n      <td>1.561680e+12</td>\n      <td>2019-06-28 02:54:34</td>\n      <td>+0300</td>\n      <td></td>\n      <td>@GOExchangeHQ OmiseGO just launched the next T...</td>\n      <td>en</td>\n      <td>[omisego, bitcoin, btc, ethereum, eth, binance...</td>\n      <td>[]</td>\n      <td>...</td>\n      <td></td>\n      <td></td>\n      <td></td>\n      <td></td>\n      <td></td>\n      <td>[{'screen_name': 'GOExchangeHQ', 'name': 'GO.E...</td>\n      <td></td>\n      <td></td>\n      <td></td>\n      <td></td>\n    </tr>\n    <tr>\n      <th>19</th>\n      <td>1144393454446874624</td>\n      <td>1144393454446874624</td>\n      <td>1.561680e+12</td>\n      <td>2019-06-28 02:53:55</td>\n      <td>+0300</td>\n      <td></td>\n      <td>Current Top 3 Dapps by Daily Active Users (DAU...</td>\n      <td>en</td>\n      <td>[crypto, blockchain, ether, technology, btc, c...</td>\n      <td>[]</td>\n      <td>...</td>\n      <td></td>\n      <td></td>\n      <td></td>\n      <td></td>\n      <td></td>\n      <td>[]</td>\n      <td></td>\n      <td></td>\n      <td></td>\n      <td></td>\n    </tr>\n  </tbody>\n</table>\n<p>20 rows × 38 columns</p>\n</div>"
     },
     "execution_count": 17,
     "metadata": {},
     "output_type": "execute_result"
    }
   ],
   "source": [
    "tweet_data"
   ],
   "metadata": {
    "collapsed": false,
    "pycharm": {
     "name": "#%%\n"
    }
   }
  },
  {
   "cell_type": "code",
   "execution_count": 13,
   "outputs": [
    {
     "data": {
      "text/plain": "20"
     },
     "execution_count": 13,
     "metadata": {},
     "output_type": "execute_result"
    }
   ],
   "source": [
    "len(tweet_data)"
   ],
   "metadata": {
    "collapsed": false,
    "pycharm": {
     "name": "#%%\n"
    }
   }
  },
  {
   "cell_type": "code",
   "execution_count": 18,
   "outputs": [],
   "source": [
    "tweet_data = tweet_data[[\"date\",\"timezone\",\"tweet\",\"username\",\"link\", \"retweet\"]]"
   ],
   "metadata": {
    "collapsed": false,
    "pycharm": {
     "name": "#%%\n"
    }
   }
  },
  {
   "cell_type": "code",
   "execution_count": 19,
   "outputs": [
    {
     "data": {
      "text/plain": "                   date timezone  \\\n0   2019-06-28 02:59:38    +0300   \n1   2019-06-28 02:59:06    +0300   \n2   2019-06-28 02:58:51    +0300   \n3   2019-06-28 02:58:33    +0300   \n4   2019-06-28 02:58:20    +0300   \n5   2019-06-28 02:58:08    +0300   \n6   2019-06-28 02:58:07    +0300   \n7   2019-06-28 02:57:59    +0300   \n8   2019-06-28 02:57:14    +0300   \n9   2019-06-28 02:57:04    +0300   \n10  2019-06-28 02:56:53    +0300   \n11  2019-06-28 02:56:34    +0300   \n12  2019-06-28 02:56:25    +0300   \n13  2019-06-28 02:55:34    +0300   \n14  2019-06-28 02:55:09    +0300   \n15  2019-06-28 02:54:59    +0300   \n16  2019-06-28 02:54:49    +0300   \n17  2019-06-28 02:54:48    +0300   \n18  2019-06-28 02:54:34    +0300   \n19  2019-06-28 02:53:55    +0300   \n\n                                                tweet         username  \\\n0   $BTC | #BTC - bitcoin's Current Price: ▲ $1118...  CryptoPressNews   \n1   リップルまた暴落　買い時か　もうやめるべきか  https://t.co/VzefPvLo1...    akitarou_miya   \n2                                   #BTC 寝ショート完璧に決まった        k_shidesu   \n3   I like to hedge shorts on $BTC around defined ...    TradingHorror   \n4   Scientists Explain The Creation of Space &amp;...    theautomatski   \n5   #Bitcoin #btc dumped thousands today. Now what...    VaderOfCrypto   \n6   🔼 ₿1 = $11,147 (23:58 UTC) $BTC prices rise! #...        btc_alert   \n7   I have run out of funds to buy this dip.  So I...  sirvivalprepper   \n8   Craig Wright Intends to Call Three Expert Witn...           256cub   \n9   I know Bitcion doesn't give a shit...  But I r...         AmateoRa   \n10  $ndyn $intv GROWING.. solid stocks to be in ri...   LowFloatTradez   \n11  #BIZpaye #Marketplace #HODL #BarterCredit #cry...       ally222111   \n12  マイニングの新時代！パソコンがあれば誰でも簡単にBTCが手に入る！  https://t.c...   BITMAN49678402   \n13  Tadacoin なら30分に1回、高騰しているビットコインが無料でもらえます！  http...  iE2bKVdUE9QSxAB   \n14  ✨GAINS SYSTEMS✨日利３% 365日ロック📌毎日配当🎉 投資金額 3.5LTC ...        morison49   \n15  #BTC 🧡🧡🧡🧡 #consciousness   https://t.co/j4PhXf...         Zauber0x   \n16  2017年には #BTC に対して否定的な見方で、元建てが消えて市場を混乱させたのに、一変し...       XRPRyo_san   \n17  @GOExchangeHQ OmiseGO just launched the next T...    worthofcrypto   \n18  @GOExchangeHQ OmiseGO just launched the next T...    worthofcrypto   \n19  Current Top 3 Dapps by Daily Active Users (DAU...          cysites   \n\n                                                 link  \n0   https://twitter.com/CryptoPressNews/status/114...  \n1   https://twitter.com/akitarou_miya/status/11443...  \n2   https://twitter.com/k_shidesu/status/114439469...  \n3   https://twitter.com/TradingHorror/status/11443...  \n4   https://twitter.com/theautomatski/status/11443...  \n5   https://twitter.com/VaderOfCrypto/status/11443...  \n6   https://twitter.com/btc_alert/status/114439451...  \n7   https://twitter.com/sirvivalprepper/status/114...  \n8   https://twitter.com/256cub/status/114439428601...  \n9   https://twitter.com/AmateoRa/status/1144394245...  \n10  https://twitter.com/LowFloatTradez/status/1144...  \n11  https://twitter.com/ally222111/status/11443941...  \n12  https://twitter.com/BITMAN49678402/status/1144...  \n13  https://twitter.com/iE2bKVdUE9QSxAB/status/114...  \n14  https://twitter.com/morison49/status/114439376...  \n15  https://twitter.com/Zauber0x/status/1144393718...  \n16  https://twitter.com/XRPRyo_san/status/11443936...  \n17  https://twitter.com/worthofcrypto/status/11443...  \n18  https://twitter.com/worthofcrypto/status/11443...  \n19  https://twitter.com/cysites/status/11443934544...  ",
      "text/html": "<div>\n<style scoped>\n    .dataframe tbody tr th:only-of-type {\n        vertical-align: middle;\n    }\n\n    .dataframe tbody tr th {\n        vertical-align: top;\n    }\n\n    .dataframe thead th {\n        text-align: right;\n    }\n</style>\n<table border=\"1\" class=\"dataframe\">\n  <thead>\n    <tr style=\"text-align: right;\">\n      <th></th>\n      <th>date</th>\n      <th>timezone</th>\n      <th>tweet</th>\n      <th>username</th>\n      <th>link</th>\n    </tr>\n  </thead>\n  <tbody>\n    <tr>\n      <th>0</th>\n      <td>2019-06-28 02:59:38</td>\n      <td>+0300</td>\n      <td>$BTC | #BTC - bitcoin's Current Price: ▲ $1118...</td>\n      <td>CryptoPressNews</td>\n      <td>https://twitter.com/CryptoPressNews/status/114...</td>\n    </tr>\n    <tr>\n      <th>1</th>\n      <td>2019-06-28 02:59:06</td>\n      <td>+0300</td>\n      <td>リップルまた暴落　買い時か　もうやめるべきか  https://t.co/VzefPvLo1...</td>\n      <td>akitarou_miya</td>\n      <td>https://twitter.com/akitarou_miya/status/11443...</td>\n    </tr>\n    <tr>\n      <th>2</th>\n      <td>2019-06-28 02:58:51</td>\n      <td>+0300</td>\n      <td>#BTC 寝ショート完璧に決まった</td>\n      <td>k_shidesu</td>\n      <td>https://twitter.com/k_shidesu/status/114439469...</td>\n    </tr>\n    <tr>\n      <th>3</th>\n      <td>2019-06-28 02:58:33</td>\n      <td>+0300</td>\n      <td>I like to hedge shorts on $BTC around defined ...</td>\n      <td>TradingHorror</td>\n      <td>https://twitter.com/TradingHorror/status/11443...</td>\n    </tr>\n    <tr>\n      <th>4</th>\n      <td>2019-06-28 02:58:20</td>\n      <td>+0300</td>\n      <td>Scientists Explain The Creation of Space &amp;amp;...</td>\n      <td>theautomatski</td>\n      <td>https://twitter.com/theautomatski/status/11443...</td>\n    </tr>\n    <tr>\n      <th>5</th>\n      <td>2019-06-28 02:58:08</td>\n      <td>+0300</td>\n      <td>#Bitcoin #btc dumped thousands today. Now what...</td>\n      <td>VaderOfCrypto</td>\n      <td>https://twitter.com/VaderOfCrypto/status/11443...</td>\n    </tr>\n    <tr>\n      <th>6</th>\n      <td>2019-06-28 02:58:07</td>\n      <td>+0300</td>\n      <td>🔼 ₿1 = $11,147 (23:58 UTC) $BTC prices rise! #...</td>\n      <td>btc_alert</td>\n      <td>https://twitter.com/btc_alert/status/114439451...</td>\n    </tr>\n    <tr>\n      <th>7</th>\n      <td>2019-06-28 02:57:59</td>\n      <td>+0300</td>\n      <td>I have run out of funds to buy this dip.  So I...</td>\n      <td>sirvivalprepper</td>\n      <td>https://twitter.com/sirvivalprepper/status/114...</td>\n    </tr>\n    <tr>\n      <th>8</th>\n      <td>2019-06-28 02:57:14</td>\n      <td>+0300</td>\n      <td>Craig Wright Intends to Call Three Expert Witn...</td>\n      <td>256cub</td>\n      <td>https://twitter.com/256cub/status/114439428601...</td>\n    </tr>\n    <tr>\n      <th>9</th>\n      <td>2019-06-28 02:57:04</td>\n      <td>+0300</td>\n      <td>I know Bitcion doesn't give a shit...  But I r...</td>\n      <td>AmateoRa</td>\n      <td>https://twitter.com/AmateoRa/status/1144394245...</td>\n    </tr>\n    <tr>\n      <th>10</th>\n      <td>2019-06-28 02:56:53</td>\n      <td>+0300</td>\n      <td>$ndyn $intv GROWING.. solid stocks to be in ri...</td>\n      <td>LowFloatTradez</td>\n      <td>https://twitter.com/LowFloatTradez/status/1144...</td>\n    </tr>\n    <tr>\n      <th>11</th>\n      <td>2019-06-28 02:56:34</td>\n      <td>+0300</td>\n      <td>#BIZpaye #Marketplace #HODL #BarterCredit #cry...</td>\n      <td>ally222111</td>\n      <td>https://twitter.com/ally222111/status/11443941...</td>\n    </tr>\n    <tr>\n      <th>12</th>\n      <td>2019-06-28 02:56:25</td>\n      <td>+0300</td>\n      <td>マイニングの新時代！パソコンがあれば誰でも簡単にBTCが手に入る！  https://t.c...</td>\n      <td>BITMAN49678402</td>\n      <td>https://twitter.com/BITMAN49678402/status/1144...</td>\n    </tr>\n    <tr>\n      <th>13</th>\n      <td>2019-06-28 02:55:34</td>\n      <td>+0300</td>\n      <td>Tadacoin なら30分に1回、高騰しているビットコインが無料でもらえます！  http...</td>\n      <td>iE2bKVdUE9QSxAB</td>\n      <td>https://twitter.com/iE2bKVdUE9QSxAB/status/114...</td>\n    </tr>\n    <tr>\n      <th>14</th>\n      <td>2019-06-28 02:55:09</td>\n      <td>+0300</td>\n      <td>✨GAINS SYSTEMS✨日利３% 365日ロック📌毎日配当🎉 投資金額 3.5LTC ...</td>\n      <td>morison49</td>\n      <td>https://twitter.com/morison49/status/114439376...</td>\n    </tr>\n    <tr>\n      <th>15</th>\n      <td>2019-06-28 02:54:59</td>\n      <td>+0300</td>\n      <td>#BTC 🧡🧡🧡🧡 #consciousness   https://t.co/j4PhXf...</td>\n      <td>Zauber0x</td>\n      <td>https://twitter.com/Zauber0x/status/1144393718...</td>\n    </tr>\n    <tr>\n      <th>16</th>\n      <td>2019-06-28 02:54:49</td>\n      <td>+0300</td>\n      <td>2017年には #BTC に対して否定的な見方で、元建てが消えて市場を混乱させたのに、一変し...</td>\n      <td>XRPRyo_san</td>\n      <td>https://twitter.com/XRPRyo_san/status/11443936...</td>\n    </tr>\n    <tr>\n      <th>17</th>\n      <td>2019-06-28 02:54:48</td>\n      <td>+0300</td>\n      <td>@GOExchangeHQ OmiseGO just launched the next T...</td>\n      <td>worthofcrypto</td>\n      <td>https://twitter.com/worthofcrypto/status/11443...</td>\n    </tr>\n    <tr>\n      <th>18</th>\n      <td>2019-06-28 02:54:34</td>\n      <td>+0300</td>\n      <td>@GOExchangeHQ OmiseGO just launched the next T...</td>\n      <td>worthofcrypto</td>\n      <td>https://twitter.com/worthofcrypto/status/11443...</td>\n    </tr>\n    <tr>\n      <th>19</th>\n      <td>2019-06-28 02:53:55</td>\n      <td>+0300</td>\n      <td>Current Top 3 Dapps by Daily Active Users (DAU...</td>\n      <td>cysites</td>\n      <td>https://twitter.com/cysites/status/11443934544...</td>\n    </tr>\n  </tbody>\n</table>\n</div>"
     },
     "execution_count": 19,
     "metadata": {},
     "output_type": "execute_result"
    }
   ],
   "source": [
    "tweet_data"
   ],
   "metadata": {
    "collapsed": false,
    "pycharm": {
     "name": "#%%\n"
    }
   }
  },
  {
   "cell_type": "code",
   "execution_count": 20,
   "outputs": [
    {
     "data": {
      "text/plain": "                   date timezone  \\\n15  2019-06-28 02:54:59    +0300   \n16  2019-06-28 02:54:49    +0300   \n17  2019-06-28 02:54:48    +0300   \n18  2019-06-28 02:54:34    +0300   \n19  2019-06-28 02:53:55    +0300   \n\n                                                tweet       username  \\\n15  #BTC 🧡🧡🧡🧡 #consciousness   https://t.co/j4PhXf...       Zauber0x   \n16  2017年には #BTC に対して否定的な見方で、元建てが消えて市場を混乱させたのに、一変し...     XRPRyo_san   \n17  @GOExchangeHQ OmiseGO just launched the next T...  worthofcrypto   \n18  @GOExchangeHQ OmiseGO just launched the next T...  worthofcrypto   \n19  Current Top 3 Dapps by Daily Active Users (DAU...        cysites   \n\n                                                 link  \n15  https://twitter.com/Zauber0x/status/1144393718...  \n16  https://twitter.com/XRPRyo_san/status/11443936...  \n17  https://twitter.com/worthofcrypto/status/11443...  \n18  https://twitter.com/worthofcrypto/status/11443...  \n19  https://twitter.com/cysites/status/11443934544...  ",
      "text/html": "<div>\n<style scoped>\n    .dataframe tbody tr th:only-of-type {\n        vertical-align: middle;\n    }\n\n    .dataframe tbody tr th {\n        vertical-align: top;\n    }\n\n    .dataframe thead th {\n        text-align: right;\n    }\n</style>\n<table border=\"1\" class=\"dataframe\">\n  <thead>\n    <tr style=\"text-align: right;\">\n      <th></th>\n      <th>date</th>\n      <th>timezone</th>\n      <th>tweet</th>\n      <th>username</th>\n      <th>link</th>\n    </tr>\n  </thead>\n  <tbody>\n    <tr>\n      <th>15</th>\n      <td>2019-06-28 02:54:59</td>\n      <td>+0300</td>\n      <td>#BTC 🧡🧡🧡🧡 #consciousness   https://t.co/j4PhXf...</td>\n      <td>Zauber0x</td>\n      <td>https://twitter.com/Zauber0x/status/1144393718...</td>\n    </tr>\n    <tr>\n      <th>16</th>\n      <td>2019-06-28 02:54:49</td>\n      <td>+0300</td>\n      <td>2017年には #BTC に対して否定的な見方で、元建てが消えて市場を混乱させたのに、一変し...</td>\n      <td>XRPRyo_san</td>\n      <td>https://twitter.com/XRPRyo_san/status/11443936...</td>\n    </tr>\n    <tr>\n      <th>17</th>\n      <td>2019-06-28 02:54:48</td>\n      <td>+0300</td>\n      <td>@GOExchangeHQ OmiseGO just launched the next T...</td>\n      <td>worthofcrypto</td>\n      <td>https://twitter.com/worthofcrypto/status/11443...</td>\n    </tr>\n    <tr>\n      <th>18</th>\n      <td>2019-06-28 02:54:34</td>\n      <td>+0300</td>\n      <td>@GOExchangeHQ OmiseGO just launched the next T...</td>\n      <td>worthofcrypto</td>\n      <td>https://twitter.com/worthofcrypto/status/11443...</td>\n    </tr>\n    <tr>\n      <th>19</th>\n      <td>2019-06-28 02:53:55</td>\n      <td>+0300</td>\n      <td>Current Top 3 Dapps by Daily Active Users (DAU...</td>\n      <td>cysites</td>\n      <td>https://twitter.com/cysites/status/11443934544...</td>\n    </tr>\n  </tbody>\n</table>\n</div>"
     },
     "execution_count": 20,
     "metadata": {},
     "output_type": "execute_result"
    }
   ],
   "source": [
    "tweet_data.tail()"
   ],
   "metadata": {
    "collapsed": false,
    "pycharm": {
     "name": "#%%\n"
    }
   }
  },
  {
   "cell_type": "code",
   "execution_count": 21,
   "outputs": [],
   "source": [
    "filename = search+\"_\"+start+\"_\"+end+\"_\"+\"_tweets_data.csv\""
   ],
   "metadata": {
    "collapsed": false,
    "pycharm": {
     "name": "#%%\n"
    }
   }
  },
  {
   "cell_type": "code",
   "execution_count": 22,
   "outputs": [],
   "source": [
    "tweet_data.to_csv(\"../datasets/\" + filename)"
   ],
   "metadata": {
    "collapsed": false,
    "pycharm": {
     "name": "#%%\n"
    }
   }
  }
 ],
 "metadata": {
  "kernelspec": {
   "display_name": "Python 3",
   "language": "python",
   "name": "python3"
  },
  "language_info": {
   "codemirror_mode": {
    "name": "ipython",
    "version": 2
   },
   "file_extension": ".py",
   "mimetype": "text/x-python",
   "name": "python",
   "nbconvert_exporter": "python",
   "pygments_lexer": "ipython2",
   "version": "2.7.6"
  }
 },
 "nbformat": 4,
 "nbformat_minor": 0
}