{
 "cells": [
  {
   "cell_type": "markdown",
   "metadata": {
    "collapsed": true,
    "pycharm": {
     "name": "#%% md\n"
    }
   },
   "source": [
    "# Obtaining Crypto prices data from Yahoo"
   ]
  },
  {
   "cell_type": "markdown",
   "source": [
    "Obtain Crypto prices data from Yahoo"
   ],
   "metadata": {
    "collapsed": false,
    "pycharm": {
     "name": "#%% md\n"
    }
   }
  },
  {
   "cell_type": "code",
   "execution_count": 1,
   "outputs": [
    {
     "name": "stdout",
     "output_type": "stream",
     "text": [
      "Collecting numpy\r\n",
      "  Using cached numpy-1.23.1-cp310-cp310-macosx_10_9_x86_64.whl (18.1 MB)\r\n",
      "Collecting pandas\r\n",
      "  Using cached pandas-1.4.3-cp310-cp310-macosx_10_9_x86_64.whl (11.5 MB)\r\n",
      "Collecting yfinance\r\n",
      "  Using cached yfinance-0.1.74-py2.py3-none-any.whl (27 kB)\r\n",
      "Requirement already satisfied: python-dateutil>=2.8.1 in /Users/avivisrael/.virtualenvs/nlp2022_final_project/lib/python3.10/site-packages (from pandas) (2.8.2)\r\n",
      "Collecting pytz>=2020.1\r\n",
      "  Using cached pytz-2022.1-py2.py3-none-any.whl (503 kB)\r\n",
      "Requirement already satisfied: six>=1.5 in /Users/avivisrael/.virtualenvs/nlp2022_final_project/lib/python3.10/site-packages (from python-dateutil>=2.8.1->pandas) (1.16.0)\r\n",
      "Collecting multitasking>=0.0.7\r\n",
      "  Using cached multitasking-0.0.11-py3-none-any.whl (8.5 kB)\r\n",
      "Collecting lxml>=4.5.1\r\n",
      "  Using cached lxml-4.9.1.tar.gz (3.4 MB)\r\n",
      "Collecting requests>=2.26\r\n",
      "  Using cached requests-2.28.1-py3-none-any.whl (62 kB)\r\n",
      "Collecting urllib3<1.27,>=1.21.1\r\n",
      "  Using cached urllib3-1.26.10-py2.py3-none-any.whl (139 kB)\r\n",
      "Collecting idna<4,>=2.5\r\n",
      "  Using cached idna-3.3-py3-none-any.whl (61 kB)\r\n",
      "Collecting certifi>=2017.4.17\r\n",
      "  Using cached certifi-2022.6.15-py3-none-any.whl (160 kB)\r\n",
      "Collecting charset-normalizer<3,>=2\r\n",
      "  Using cached charset_normalizer-2.1.0-py3-none-any.whl (39 kB)\r\n",
      "Building wheels for collected packages: lxml\r\n",
      "  Building wheel for lxml (setup.py) ... \u001B[?25ldone\r\n",
      "\u001B[?25h  Created wheel for lxml: filename=lxml-4.9.1-cp310-cp310-macosx_10_9_universal2.whl size=3011841 sha256=ad8df21510c3b288b6b111618a6ccbdd01436f701a5b939f1258126f270ec387\r\n",
      "  Stored in directory: /Users/avivisrael/Library/Caches/pip/wheels/a4/ec/7b/8acde6da24b5aabeee049213d5bec12d1e9214d3cae276387b\r\n",
      "Successfully built lxml\r\n",
      "Installing collected packages: urllib3, pytz, numpy, idna, charset-normalizer, certifi, requests, pandas, multitasking, lxml, yfinance\r\n",
      "Successfully installed certifi-2022.6.15 charset-normalizer-2.1.0 idna-3.3 lxml-4.9.1 multitasking-0.0.11 numpy-1.23.1 pandas-1.4.3 pytz-2022.1 requests-2.28.1 urllib3-1.26.10 yfinance-0.1.74\r\n",
      "\u001B[33mWARNING: You are using pip version 21.1.2; however, version 22.1.2 is available.\r\n",
      "You should consider upgrading via the '/Users/avivisrael/.virtualenvs/nlp2022_final_project/bin/python -m pip install --upgrade pip' command.\u001B[0m\r\n"
     ]
    }
   ],
   "source": [
    "!pip install numpy pandas yfinance"
   ],
   "metadata": {
    "collapsed": false,
    "pycharm": {
     "name": "#%%\n"
    }
   }
  },
  {
   "cell_type": "code",
   "execution_count": 3,
   "outputs": [],
   "source": [
    "# Raw Package\n",
    "import numpy as np\n",
    "import pandas as pd\n",
    "\n",
    "#Data Source\n",
    "import yfinance as yf\n",
    "import datetime\n",
    "import time"
   ],
   "metadata": {
    "collapsed": false,
    "pycharm": {
     "name": "#%%\n"
    }
   }
  },
  {
   "cell_type": "code",
   "execution_count": 4,
   "outputs": [],
   "source": [
    "def get_financial_data(symbol, interval, start, end):\n",
    "    data = yf.download(tickers=symbol, start=start, end=end, interval=interval)\n",
    "    return data"
   ],
   "metadata": {
    "collapsed": false,
    "pycharm": {
     "name": "#%%\n"
    }
   }
  },
  {
   "cell_type": "code",
   "execution_count": 5,
   "outputs": [
    {
     "name": "stdout",
     "output_type": "stream",
     "text": [
      "[*********************100%***********************]  1 of 1 completed\n"
     ]
    }
   ],
   "source": [
    "symbol = \"BTC-USD\"\n",
    "interval = \"1d\"\n",
    "start = \"2016-01-01\"\n",
    "end = \"2022-07-05\"\n",
    "\n",
    "data = get_financial_data(symbol, interval, start, end)"
   ],
   "metadata": {
    "collapsed": false,
    "pycharm": {
     "name": "#%%\n"
    }
   }
  },
  {
   "cell_type": "code",
   "execution_count": 11,
   "outputs": [
    {
     "data": {
      "text/plain": "                    Open          High           Low         Close  \\\nDate                                                                 \n2015-12-31    425.875000    432.920990    418.734985    430.566986   \n2016-01-01    430.721008    436.246002    427.515015    434.334015   \n2016-01-02    434.622009    436.062012    431.869995    433.437988   \n2016-01-03    433.578003    433.743011    424.705994    430.010986   \n2016-01-04    430.061005    434.516998    429.084015    433.091003   \n...                  ...           ...           ...           ...   \n2022-06-30  20108.312500  20141.160156  18729.656250  19784.726562   \n2022-07-01  19820.470703  20632.671875  19073.708984  19269.367188   \n2022-07-02  19274.835938  19371.748047  19027.082031  19242.255859   \n2022-07-03  19242.095703  19558.269531  18966.951172  19297.076172   \n2022-07-04  19297.314453  20258.748047  19063.066406  20231.261719   \n\n               Adj Close       Volume  \nDate                                   \n2015-12-31    430.566986     45996600  \n2016-01-01    434.334015     36278900  \n2016-01-02    433.437988     30096600  \n2016-01-03    430.010986     39633800  \n2016-01-04    433.091003     38477500  \n...                  ...          ...  \n2022-06-30  19784.726562  26267239923  \n2022-07-01  19269.367188  30767551159  \n2022-07-02  19242.255859  18100418740  \n2022-07-03  19297.076172  16390821947  \n2022-07-04  20231.261719  21594638208  \n\n[2378 rows x 6 columns]",
      "text/html": "<div>\n<style scoped>\n    .dataframe tbody tr th:only-of-type {\n        vertical-align: middle;\n    }\n\n    .dataframe tbody tr th {\n        vertical-align: top;\n    }\n\n    .dataframe thead th {\n        text-align: right;\n    }\n</style>\n<table border=\"1\" class=\"dataframe\">\n  <thead>\n    <tr style=\"text-align: right;\">\n      <th></th>\n      <th>Open</th>\n      <th>High</th>\n      <th>Low</th>\n      <th>Close</th>\n      <th>Adj Close</th>\n      <th>Volume</th>\n    </tr>\n    <tr>\n      <th>Date</th>\n      <th></th>\n      <th></th>\n      <th></th>\n      <th></th>\n      <th></th>\n      <th></th>\n    </tr>\n  </thead>\n  <tbody>\n    <tr>\n      <th>2015-12-31</th>\n      <td>425.875000</td>\n      <td>432.920990</td>\n      <td>418.734985</td>\n      <td>430.566986</td>\n      <td>430.566986</td>\n      <td>45996600</td>\n    </tr>\n    <tr>\n      <th>2016-01-01</th>\n      <td>430.721008</td>\n      <td>436.246002</td>\n      <td>427.515015</td>\n      <td>434.334015</td>\n      <td>434.334015</td>\n      <td>36278900</td>\n    </tr>\n    <tr>\n      <th>2016-01-02</th>\n      <td>434.622009</td>\n      <td>436.062012</td>\n      <td>431.869995</td>\n      <td>433.437988</td>\n      <td>433.437988</td>\n      <td>30096600</td>\n    </tr>\n    <tr>\n      <th>2016-01-03</th>\n      <td>433.578003</td>\n      <td>433.743011</td>\n      <td>424.705994</td>\n      <td>430.010986</td>\n      <td>430.010986</td>\n      <td>39633800</td>\n    </tr>\n    <tr>\n      <th>2016-01-04</th>\n      <td>430.061005</td>\n      <td>434.516998</td>\n      <td>429.084015</td>\n      <td>433.091003</td>\n      <td>433.091003</td>\n      <td>38477500</td>\n    </tr>\n    <tr>\n      <th>...</th>\n      <td>...</td>\n      <td>...</td>\n      <td>...</td>\n      <td>...</td>\n      <td>...</td>\n      <td>...</td>\n    </tr>\n    <tr>\n      <th>2022-06-30</th>\n      <td>20108.312500</td>\n      <td>20141.160156</td>\n      <td>18729.656250</td>\n      <td>19784.726562</td>\n      <td>19784.726562</td>\n      <td>26267239923</td>\n    </tr>\n    <tr>\n      <th>2022-07-01</th>\n      <td>19820.470703</td>\n      <td>20632.671875</td>\n      <td>19073.708984</td>\n      <td>19269.367188</td>\n      <td>19269.367188</td>\n      <td>30767551159</td>\n    </tr>\n    <tr>\n      <th>2022-07-02</th>\n      <td>19274.835938</td>\n      <td>19371.748047</td>\n      <td>19027.082031</td>\n      <td>19242.255859</td>\n      <td>19242.255859</td>\n      <td>18100418740</td>\n    </tr>\n    <tr>\n      <th>2022-07-03</th>\n      <td>19242.095703</td>\n      <td>19558.269531</td>\n      <td>18966.951172</td>\n      <td>19297.076172</td>\n      <td>19297.076172</td>\n      <td>16390821947</td>\n    </tr>\n    <tr>\n      <th>2022-07-04</th>\n      <td>19297.314453</td>\n      <td>20258.748047</td>\n      <td>19063.066406</td>\n      <td>20231.261719</td>\n      <td>20231.261719</td>\n      <td>21594638208</td>\n    </tr>\n  </tbody>\n</table>\n<p>2378 rows × 6 columns</p>\n</div>"
     },
     "execution_count": 11,
     "metadata": {},
     "output_type": "execute_result"
    }
   ],
   "source": [
    "data"
   ],
   "metadata": {
    "collapsed": false,
    "pycharm": {
     "name": "#%%\n"
    }
   }
  },
  {
   "cell_type": "code",
   "execution_count": 7,
   "outputs": [],
   "source": [
    "filename = symbol+\"_\"+start+\"_\"+end+\"_\"+interval+\"_interval.csv\""
   ],
   "metadata": {
    "collapsed": false,
    "pycharm": {
     "name": "#%%\n"
    }
   }
  },
  {
   "cell_type": "code",
   "execution_count": 10,
   "outputs": [],
   "source": [
    "data.to_csv(\"../datasets/\" + filename)"
   ],
   "metadata": {
    "collapsed": false,
    "pycharm": {
     "name": "#%%\n"
    }
   }
  }
 ],
 "metadata": {
  "kernelspec": {
   "display_name": "Python 3",
   "language": "python",
   "name": "python3"
  },
  "language_info": {
   "codemirror_mode": {
    "name": "ipython",
    "version": 2
   },
   "file_extension": ".py",
   "mimetype": "text/x-python",
   "name": "python",
   "nbconvert_exporter": "python",
   "pygments_lexer": "ipython2",
   "version": "2.7.6"
  }
 },
 "nbformat": 4,
 "nbformat_minor": 0
}