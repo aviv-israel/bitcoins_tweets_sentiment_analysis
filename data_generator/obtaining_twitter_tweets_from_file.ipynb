{
 "cells": [
  {
   "cell_type": "markdown",
   "metadata": {
    "collapsed": true,
    "pycharm": {
     "name": "#%% md\n"
    }
   },
   "source": [
    "# Obtaining Twitter tweets from file"
   ]
  },
  {
   "cell_type": "code",
   "execution_count": 14,
   "outputs": [],
   "source": [
    "import pandas as pd"
   ],
   "metadata": {
    "collapsed": false,
    "pycharm": {
     "name": "#%%\n"
    }
   }
  },
  {
   "cell_type": "code",
   "execution_count": 15,
   "outputs": [],
   "source": [
    "start = \"2019-05-25\"\n",
    "end = \"2019-06-25\"\n",
    "file_name = \"../datasets/general/btctweets.csv\""
   ],
   "metadata": {
    "collapsed": false,
    "pycharm": {
     "name": "#%%\n"
    }
   }
  },
  {
   "cell_type": "code",
   "execution_count": 16,
   "outputs": [
    {
     "name": "stderr",
     "output_type": "stream",
     "text": [
      "/var/folders/8k/kjcv8fg107n9xl077vfg2_8m0000gn/T/ipykernel_28278/1782588613.py:1: DtypeWarning: Columns (0,1,2,3,4,8) have mixed types. Specify dtype option on import or set low_memory=False.\n",
      "  tweet_data = pd.read_csv(file_name, sep=';', nrows=1000000000)\n"
     ]
    }
   ],
   "source": [
    "tweet_data = pd.read_csv(file_name, sep=';', nrows=1000000000)"
   ],
   "metadata": {
    "collapsed": false,
    "pycharm": {
     "name": "#%%\n"
    }
   }
  },
  {
   "cell_type": "code",
   "execution_count": 17,
   "outputs": [
    {
     "data": {
      "text/plain": "                           id             user              fullname  url  \\\n0         1132977055300300800     KamdemAbdiel         Abdiel kamdem  NaN   \n1         1132977073402736640        bitcointe             Bitcointe  NaN   \n2         1132977023893139456        3eyedbran   Bran - 3 Eyed Raven  NaN   \n3         1132977089089556481    DetroitCrypto           J. Scardina  NaN   \n4         1132977092340191232     mmursaleen72    Muhammad Mursaleen  NaN   \n...                       ...              ...                   ...  ...   \n20165008  1198262135580741633    JacobCanfield        Jacob Canfield  NaN   \n20165009  1198266433941233664          Vizique               Vizique  NaN   \n20165010  1198266441293860864         torusJKL  Gal Buki ($torusJKL)  NaN   \n20165011  1198266442673733633  Adekunl95628158       Adekunle Daniel  NaN   \n20165012  1198266228583882752       HaraldoXRP                 Harry  NaN   \n\n                       timestamp  replies  likes  retweets  \\\n0         2019-05-27 11:49:14+00      0.0    0.0       0.0   \n1         2019-05-27 11:49:18+00      0.0    0.0       0.0   \n2         2019-05-27 11:49:06+00      0.0    2.0       1.0   \n3         2019-05-27 11:49:22+00      0.0    0.0       0.0   \n4         2019-05-27 11:49:23+00      0.0    0.0       0.0   \n...                          ...      ...    ...       ...   \n20165008  2019-11-23 15:28:50+00      2.0   16.0       3.0   \n20165009  2019-11-23 15:45:55+00      0.0    0.0       0.0   \n20165010  2019-11-23 15:45:56+00      0.0    0.0       0.0   \n20165011  2019-11-23 15:45:57+00      0.0    0.0       0.0   \n20165012  2019-11-23 15:45:06+00      0.0    2.0       1.0   \n\n                                                       text  \n0         È appena uscito un nuovo video! LES CRYPTOMONN...  \n1         Cardano: Digitize Currencies; EOS https://t.co...  \n2         Another Test tweet that wasn't caught in the s...  \n3         Current Crypto Prices! \\n\\nBTC: $8721.99 USD\\n...  \n4         Spiv (Nosar Baz): BITCOIN Is An Asset &amp; NO...  \n...                                                     ...  \n20165008  Happy #FibonacciDay \\n\\nA while back I created...  \n20165009  Bitcoin Suisse Certificates :) https://t.co/nd...  \n20165010  Register now for the early access of the Codug...  \n20165011  @btc \\n@btc \\nDo you know that BTC Baskets isn...  \n20165012  $BTC - an update on the longer term view for B...  \n\n[20165013 rows x 9 columns]",
      "text/html": "<div>\n<style scoped>\n    .dataframe tbody tr th:only-of-type {\n        vertical-align: middle;\n    }\n\n    .dataframe tbody tr th {\n        vertical-align: top;\n    }\n\n    .dataframe thead th {\n        text-align: right;\n    }\n</style>\n<table border=\"1\" class=\"dataframe\">\n  <thead>\n    <tr style=\"text-align: right;\">\n      <th></th>\n      <th>id</th>\n      <th>user</th>\n      <th>fullname</th>\n      <th>url</th>\n      <th>timestamp</th>\n      <th>replies</th>\n      <th>likes</th>\n      <th>retweets</th>\n      <th>text</th>\n    </tr>\n  </thead>\n  <tbody>\n    <tr>\n      <th>0</th>\n      <td>1132977055300300800</td>\n      <td>KamdemAbdiel</td>\n      <td>Abdiel kamdem</td>\n      <td>NaN</td>\n      <td>2019-05-27 11:49:14+00</td>\n      <td>0.0</td>\n      <td>0.0</td>\n      <td>0.0</td>\n      <td>È appena uscito un nuovo video! LES CRYPTOMONN...</td>\n    </tr>\n    <tr>\n      <th>1</th>\n      <td>1132977073402736640</td>\n      <td>bitcointe</td>\n      <td>Bitcointe</td>\n      <td>NaN</td>\n      <td>2019-05-27 11:49:18+00</td>\n      <td>0.0</td>\n      <td>0.0</td>\n      <td>0.0</td>\n      <td>Cardano: Digitize Currencies; EOS https://t.co...</td>\n    </tr>\n    <tr>\n      <th>2</th>\n      <td>1132977023893139456</td>\n      <td>3eyedbran</td>\n      <td>Bran - 3 Eyed Raven</td>\n      <td>NaN</td>\n      <td>2019-05-27 11:49:06+00</td>\n      <td>0.0</td>\n      <td>2.0</td>\n      <td>1.0</td>\n      <td>Another Test tweet that wasn't caught in the s...</td>\n    </tr>\n    <tr>\n      <th>3</th>\n      <td>1132977089089556481</td>\n      <td>DetroitCrypto</td>\n      <td>J. Scardina</td>\n      <td>NaN</td>\n      <td>2019-05-27 11:49:22+00</td>\n      <td>0.0</td>\n      <td>0.0</td>\n      <td>0.0</td>\n      <td>Current Crypto Prices! \\n\\nBTC: $8721.99 USD\\n...</td>\n    </tr>\n    <tr>\n      <th>4</th>\n      <td>1132977092340191232</td>\n      <td>mmursaleen72</td>\n      <td>Muhammad Mursaleen</td>\n      <td>NaN</td>\n      <td>2019-05-27 11:49:23+00</td>\n      <td>0.0</td>\n      <td>0.0</td>\n      <td>0.0</td>\n      <td>Spiv (Nosar Baz): BITCOIN Is An Asset &amp;amp; NO...</td>\n    </tr>\n    <tr>\n      <th>...</th>\n      <td>...</td>\n      <td>...</td>\n      <td>...</td>\n      <td>...</td>\n      <td>...</td>\n      <td>...</td>\n      <td>...</td>\n      <td>...</td>\n      <td>...</td>\n    </tr>\n    <tr>\n      <th>20165008</th>\n      <td>1198262135580741633</td>\n      <td>JacobCanfield</td>\n      <td>Jacob Canfield</td>\n      <td>NaN</td>\n      <td>2019-11-23 15:28:50+00</td>\n      <td>2.0</td>\n      <td>16.0</td>\n      <td>3.0</td>\n      <td>Happy #FibonacciDay \\n\\nA while back I created...</td>\n    </tr>\n    <tr>\n      <th>20165009</th>\n      <td>1198266433941233664</td>\n      <td>Vizique</td>\n      <td>Vizique</td>\n      <td>NaN</td>\n      <td>2019-11-23 15:45:55+00</td>\n      <td>0.0</td>\n      <td>0.0</td>\n      <td>0.0</td>\n      <td>Bitcoin Suisse Certificates :) https://t.co/nd...</td>\n    </tr>\n    <tr>\n      <th>20165010</th>\n      <td>1198266441293860864</td>\n      <td>torusJKL</td>\n      <td>Gal Buki ($torusJKL)</td>\n      <td>NaN</td>\n      <td>2019-11-23 15:45:56+00</td>\n      <td>0.0</td>\n      <td>0.0</td>\n      <td>0.0</td>\n      <td>Register now for the early access of the Codug...</td>\n    </tr>\n    <tr>\n      <th>20165011</th>\n      <td>1198266442673733633</td>\n      <td>Adekunl95628158</td>\n      <td>Adekunle Daniel</td>\n      <td>NaN</td>\n      <td>2019-11-23 15:45:57+00</td>\n      <td>0.0</td>\n      <td>0.0</td>\n      <td>0.0</td>\n      <td>@btc \\n@btc \\nDo you know that BTC Baskets isn...</td>\n    </tr>\n    <tr>\n      <th>20165012</th>\n      <td>1198266228583882752</td>\n      <td>HaraldoXRP</td>\n      <td>Harry</td>\n      <td>NaN</td>\n      <td>2019-11-23 15:45:06+00</td>\n      <td>0.0</td>\n      <td>2.0</td>\n      <td>1.0</td>\n      <td>$BTC - an update on the longer term view for B...</td>\n    </tr>\n  </tbody>\n</table>\n<p>20165013 rows × 9 columns</p>\n</div>"
     },
     "execution_count": 17,
     "metadata": {},
     "output_type": "execute_result"
    }
   ],
   "source": [
    "tweet_data"
   ],
   "metadata": {
    "collapsed": false,
    "pycharm": {
     "name": "#%%\n"
    }
   }
  },
  {
   "cell_type": "code",
   "execution_count": 18,
   "outputs": [],
   "source": [
    "tweet_data = tweet_data.rename(columns={\"timestamp\": \"date\", \"text\": \"tweet\", \"user\": \"username\", \"url\": \"link\"},errors=\"raise\")"
   ],
   "metadata": {
    "collapsed": false,
    "pycharm": {
     "name": "#%%\n"
    }
   }
  },
  {
   "cell_type": "code",
   "execution_count": 19,
   "outputs": [
    {
     "data": {
      "text/plain": "                           id         username              fullname link  \\\n0         1132977055300300800     KamdemAbdiel         Abdiel kamdem  NaN   \n1         1132977073402736640        bitcointe             Bitcointe  NaN   \n2         1132977023893139456        3eyedbran   Bran - 3 Eyed Raven  NaN   \n3         1132977089089556481    DetroitCrypto           J. Scardina  NaN   \n4         1132977092340191232     mmursaleen72    Muhammad Mursaleen  NaN   \n...                       ...              ...                   ...  ...   \n20165008  1198262135580741633    JacobCanfield        Jacob Canfield  NaN   \n20165009  1198266433941233664          Vizique               Vizique  NaN   \n20165010  1198266441293860864         torusJKL  Gal Buki ($torusJKL)  NaN   \n20165011  1198266442673733633  Adekunl95628158       Adekunle Daniel  NaN   \n20165012  1198266228583882752       HaraldoXRP                 Harry  NaN   \n\n                            date  replies  likes  retweets  \\\n0         2019-05-27 11:49:14+00      0.0    0.0       0.0   \n1         2019-05-27 11:49:18+00      0.0    0.0       0.0   \n2         2019-05-27 11:49:06+00      0.0    2.0       1.0   \n3         2019-05-27 11:49:22+00      0.0    0.0       0.0   \n4         2019-05-27 11:49:23+00      0.0    0.0       0.0   \n...                          ...      ...    ...       ...   \n20165008  2019-11-23 15:28:50+00      2.0   16.0       3.0   \n20165009  2019-11-23 15:45:55+00      0.0    0.0       0.0   \n20165010  2019-11-23 15:45:56+00      0.0    0.0       0.0   \n20165011  2019-11-23 15:45:57+00      0.0    0.0       0.0   \n20165012  2019-11-23 15:45:06+00      0.0    2.0       1.0   \n\n                                                      tweet  \n0         È appena uscito un nuovo video! LES CRYPTOMONN...  \n1         Cardano: Digitize Currencies; EOS https://t.co...  \n2         Another Test tweet that wasn't caught in the s...  \n3         Current Crypto Prices! \\n\\nBTC: $8721.99 USD\\n...  \n4         Spiv (Nosar Baz): BITCOIN Is An Asset &amp; NO...  \n...                                                     ...  \n20165008  Happy #FibonacciDay \\n\\nA while back I created...  \n20165009  Bitcoin Suisse Certificates :) https://t.co/nd...  \n20165010  Register now for the early access of the Codug...  \n20165011  @btc \\n@btc \\nDo you know that BTC Baskets isn...  \n20165012  $BTC - an update on the longer term view for B...  \n\n[20165013 rows x 9 columns]",
      "text/html": "<div>\n<style scoped>\n    .dataframe tbody tr th:only-of-type {\n        vertical-align: middle;\n    }\n\n    .dataframe tbody tr th {\n        vertical-align: top;\n    }\n\n    .dataframe thead th {\n        text-align: right;\n    }\n</style>\n<table border=\"1\" class=\"dataframe\">\n  <thead>\n    <tr style=\"text-align: right;\">\n      <th></th>\n      <th>id</th>\n      <th>username</th>\n      <th>fullname</th>\n      <th>link</th>\n      <th>date</th>\n      <th>replies</th>\n      <th>likes</th>\n      <th>retweets</th>\n      <th>tweet</th>\n    </tr>\n  </thead>\n  <tbody>\n    <tr>\n      <th>0</th>\n      <td>1132977055300300800</td>\n      <td>KamdemAbdiel</td>\n      <td>Abdiel kamdem</td>\n      <td>NaN</td>\n      <td>2019-05-27 11:49:14+00</td>\n      <td>0.0</td>\n      <td>0.0</td>\n      <td>0.0</td>\n      <td>È appena uscito un nuovo video! LES CRYPTOMONN...</td>\n    </tr>\n    <tr>\n      <th>1</th>\n      <td>1132977073402736640</td>\n      <td>bitcointe</td>\n      <td>Bitcointe</td>\n      <td>NaN</td>\n      <td>2019-05-27 11:49:18+00</td>\n      <td>0.0</td>\n      <td>0.0</td>\n      <td>0.0</td>\n      <td>Cardano: Digitize Currencies; EOS https://t.co...</td>\n    </tr>\n    <tr>\n      <th>2</th>\n      <td>1132977023893139456</td>\n      <td>3eyedbran</td>\n      <td>Bran - 3 Eyed Raven</td>\n      <td>NaN</td>\n      <td>2019-05-27 11:49:06+00</td>\n      <td>0.0</td>\n      <td>2.0</td>\n      <td>1.0</td>\n      <td>Another Test tweet that wasn't caught in the s...</td>\n    </tr>\n    <tr>\n      <th>3</th>\n      <td>1132977089089556481</td>\n      <td>DetroitCrypto</td>\n      <td>J. Scardina</td>\n      <td>NaN</td>\n      <td>2019-05-27 11:49:22+00</td>\n      <td>0.0</td>\n      <td>0.0</td>\n      <td>0.0</td>\n      <td>Current Crypto Prices! \\n\\nBTC: $8721.99 USD\\n...</td>\n    </tr>\n    <tr>\n      <th>4</th>\n      <td>1132977092340191232</td>\n      <td>mmursaleen72</td>\n      <td>Muhammad Mursaleen</td>\n      <td>NaN</td>\n      <td>2019-05-27 11:49:23+00</td>\n      <td>0.0</td>\n      <td>0.0</td>\n      <td>0.0</td>\n      <td>Spiv (Nosar Baz): BITCOIN Is An Asset &amp;amp; NO...</td>\n    </tr>\n    <tr>\n      <th>...</th>\n      <td>...</td>\n      <td>...</td>\n      <td>...</td>\n      <td>...</td>\n      <td>...</td>\n      <td>...</td>\n      <td>...</td>\n      <td>...</td>\n      <td>...</td>\n    </tr>\n    <tr>\n      <th>20165008</th>\n      <td>1198262135580741633</td>\n      <td>JacobCanfield</td>\n      <td>Jacob Canfield</td>\n      <td>NaN</td>\n      <td>2019-11-23 15:28:50+00</td>\n      <td>2.0</td>\n      <td>16.0</td>\n      <td>3.0</td>\n      <td>Happy #FibonacciDay \\n\\nA while back I created...</td>\n    </tr>\n    <tr>\n      <th>20165009</th>\n      <td>1198266433941233664</td>\n      <td>Vizique</td>\n      <td>Vizique</td>\n      <td>NaN</td>\n      <td>2019-11-23 15:45:55+00</td>\n      <td>0.0</td>\n      <td>0.0</td>\n      <td>0.0</td>\n      <td>Bitcoin Suisse Certificates :) https://t.co/nd...</td>\n    </tr>\n    <tr>\n      <th>20165010</th>\n      <td>1198266441293860864</td>\n      <td>torusJKL</td>\n      <td>Gal Buki ($torusJKL)</td>\n      <td>NaN</td>\n      <td>2019-11-23 15:45:56+00</td>\n      <td>0.0</td>\n      <td>0.0</td>\n      <td>0.0</td>\n      <td>Register now for the early access of the Codug...</td>\n    </tr>\n    <tr>\n      <th>20165011</th>\n      <td>1198266442673733633</td>\n      <td>Adekunl95628158</td>\n      <td>Adekunle Daniel</td>\n      <td>NaN</td>\n      <td>2019-11-23 15:45:57+00</td>\n      <td>0.0</td>\n      <td>0.0</td>\n      <td>0.0</td>\n      <td>@btc \\n@btc \\nDo you know that BTC Baskets isn...</td>\n    </tr>\n    <tr>\n      <th>20165012</th>\n      <td>1198266228583882752</td>\n      <td>HaraldoXRP</td>\n      <td>Harry</td>\n      <td>NaN</td>\n      <td>2019-11-23 15:45:06+00</td>\n      <td>0.0</td>\n      <td>2.0</td>\n      <td>1.0</td>\n      <td>$BTC - an update on the longer term view for B...</td>\n    </tr>\n  </tbody>\n</table>\n<p>20165013 rows × 9 columns</p>\n</div>"
     },
     "execution_count": 19,
     "metadata": {},
     "output_type": "execute_result"
    }
   ],
   "source": [
    "tweet_data\n"
   ],
   "metadata": {
    "collapsed": false,
    "pycharm": {
     "name": "#%%\n"
    }
   }
  },
  {
   "cell_type": "code",
   "execution_count": 20,
   "outputs": [],
   "source": [
    "tweet_data = tweet_data[(tweet_data['date'] > start) & (tweet_data['date'] < end)]"
   ],
   "metadata": {
    "collapsed": false,
    "pycharm": {
     "name": "#%%\n"
    }
   }
  },
  {
   "cell_type": "code",
   "execution_count": 21,
   "outputs": [
    {
     "data": {
      "text/plain": "2554029"
     },
     "execution_count": 21,
     "metadata": {},
     "output_type": "execute_result"
    }
   ],
   "source": [
    "len(tweet_data)"
   ],
   "metadata": {
    "collapsed": false,
    "pycharm": {
     "name": "#%%\n"
    }
   }
  },
  {
   "cell_type": "code",
   "execution_count": 22,
   "outputs": [
    {
     "data": {
      "text/plain": "                           id       username             fullname link  \\\n0         1132977055300300800   KamdemAbdiel        Abdiel kamdem  NaN   \n1         1132977073402736640      bitcointe            Bitcointe  NaN   \n2         1132977023893139456      3eyedbran  Bran - 3 Eyed Raven  NaN   \n3         1132977089089556481  DetroitCrypto          J. Scardina  NaN   \n4         1132977092340191232   mmursaleen72   Muhammad Mursaleen  NaN   \n...                       ...            ...                  ...  ...   \n19987520  1132691235817304065      CryptoN_T                 NT ☣  NaN   \n19995654  1141704378748981248       dogepair            Doge Pair  NaN   \n19996618  1141929737448615942     jamesviggy       James Viggiano  NaN   \n20083373  1136006201416835072  LittleSweetBB        LittleSweetBB  NaN   \n20119136  1141762132826099713     quasagroup                QUASA  NaN   \n\n                            date  replies  likes  retweets  \\\n0         2019-05-27 11:49:14+00      0.0    0.0       0.0   \n1         2019-05-27 11:49:18+00      0.0    0.0       0.0   \n2         2019-05-27 11:49:06+00      0.0    2.0       1.0   \n3         2019-05-27 11:49:22+00      0.0    0.0       0.0   \n4         2019-05-27 11:49:23+00      0.0    0.0       0.0   \n...                          ...      ...    ...       ...   \n19987520  2019-05-26 16:53:29+00      1.0    4.0       2.0   \n19995654  2019-06-20 13:48:30+00      5.0    4.0       1.0   \n19996618  2019-06-21 04:44:00+00      2.0   15.0       2.0   \n20083373  2019-06-04 20:25:59+00      1.0   12.0      82.0   \n20119136  2019-06-20 17:38:00+00      1.0    7.0       1.0   \n\n                                                      tweet  \n0         È appena uscito un nuovo video! LES CRYPTOMONN...  \n1         Cardano: Digitize Currencies; EOS https://t.co...  \n2         Another Test tweet that wasn't caught in the s...  \n3         Current Crypto Prices! \\n\\nBTC: $8721.99 USD\\n...  \n4         Spiv (Nosar Baz): BITCOIN Is An Asset &amp; NO...  \n...                                                     ...  \n19987520  Currently coding safespace coin on top of liqu...  \n19995654  Do you want to be rich? check https://t.co/xSz...  \n19996618  #Bitcoin bear market comparisons $btc\\n\\n2013 ...  \n20083373  Hi #crypto !\\n\\nI see you are not doing so wel...  \n20119136  Logistics and Blockchain: a perfect match\\nBlo...  \n\n[2554029 rows x 9 columns]",
      "text/html": "<div>\n<style scoped>\n    .dataframe tbody tr th:only-of-type {\n        vertical-align: middle;\n    }\n\n    .dataframe tbody tr th {\n        vertical-align: top;\n    }\n\n    .dataframe thead th {\n        text-align: right;\n    }\n</style>\n<table border=\"1\" class=\"dataframe\">\n  <thead>\n    <tr style=\"text-align: right;\">\n      <th></th>\n      <th>id</th>\n      <th>username</th>\n      <th>fullname</th>\n      <th>link</th>\n      <th>date</th>\n      <th>replies</th>\n      <th>likes</th>\n      <th>retweets</th>\n      <th>tweet</th>\n    </tr>\n  </thead>\n  <tbody>\n    <tr>\n      <th>0</th>\n      <td>1132977055300300800</td>\n      <td>KamdemAbdiel</td>\n      <td>Abdiel kamdem</td>\n      <td>NaN</td>\n      <td>2019-05-27 11:49:14+00</td>\n      <td>0.0</td>\n      <td>0.0</td>\n      <td>0.0</td>\n      <td>È appena uscito un nuovo video! LES CRYPTOMONN...</td>\n    </tr>\n    <tr>\n      <th>1</th>\n      <td>1132977073402736640</td>\n      <td>bitcointe</td>\n      <td>Bitcointe</td>\n      <td>NaN</td>\n      <td>2019-05-27 11:49:18+00</td>\n      <td>0.0</td>\n      <td>0.0</td>\n      <td>0.0</td>\n      <td>Cardano: Digitize Currencies; EOS https://t.co...</td>\n    </tr>\n    <tr>\n      <th>2</th>\n      <td>1132977023893139456</td>\n      <td>3eyedbran</td>\n      <td>Bran - 3 Eyed Raven</td>\n      <td>NaN</td>\n      <td>2019-05-27 11:49:06+00</td>\n      <td>0.0</td>\n      <td>2.0</td>\n      <td>1.0</td>\n      <td>Another Test tweet that wasn't caught in the s...</td>\n    </tr>\n    <tr>\n      <th>3</th>\n      <td>1132977089089556481</td>\n      <td>DetroitCrypto</td>\n      <td>J. Scardina</td>\n      <td>NaN</td>\n      <td>2019-05-27 11:49:22+00</td>\n      <td>0.0</td>\n      <td>0.0</td>\n      <td>0.0</td>\n      <td>Current Crypto Prices! \\n\\nBTC: $8721.99 USD\\n...</td>\n    </tr>\n    <tr>\n      <th>4</th>\n      <td>1132977092340191232</td>\n      <td>mmursaleen72</td>\n      <td>Muhammad Mursaleen</td>\n      <td>NaN</td>\n      <td>2019-05-27 11:49:23+00</td>\n      <td>0.0</td>\n      <td>0.0</td>\n      <td>0.0</td>\n      <td>Spiv (Nosar Baz): BITCOIN Is An Asset &amp;amp; NO...</td>\n    </tr>\n    <tr>\n      <th>...</th>\n      <td>...</td>\n      <td>...</td>\n      <td>...</td>\n      <td>...</td>\n      <td>...</td>\n      <td>...</td>\n      <td>...</td>\n      <td>...</td>\n      <td>...</td>\n    </tr>\n    <tr>\n      <th>19987520</th>\n      <td>1132691235817304065</td>\n      <td>CryptoN_T</td>\n      <td>NT ☣</td>\n      <td>NaN</td>\n      <td>2019-05-26 16:53:29+00</td>\n      <td>1.0</td>\n      <td>4.0</td>\n      <td>2.0</td>\n      <td>Currently coding safespace coin on top of liqu...</td>\n    </tr>\n    <tr>\n      <th>19995654</th>\n      <td>1141704378748981248</td>\n      <td>dogepair</td>\n      <td>Doge Pair</td>\n      <td>NaN</td>\n      <td>2019-06-20 13:48:30+00</td>\n      <td>5.0</td>\n      <td>4.0</td>\n      <td>1.0</td>\n      <td>Do you want to be rich? check https://t.co/xSz...</td>\n    </tr>\n    <tr>\n      <th>19996618</th>\n      <td>1141929737448615942</td>\n      <td>jamesviggy</td>\n      <td>James Viggiano</td>\n      <td>NaN</td>\n      <td>2019-06-21 04:44:00+00</td>\n      <td>2.0</td>\n      <td>15.0</td>\n      <td>2.0</td>\n      <td>#Bitcoin bear market comparisons $btc\\n\\n2013 ...</td>\n    </tr>\n    <tr>\n      <th>20083373</th>\n      <td>1136006201416835072</td>\n      <td>LittleSweetBB</td>\n      <td>LittleSweetBB</td>\n      <td>NaN</td>\n      <td>2019-06-04 20:25:59+00</td>\n      <td>1.0</td>\n      <td>12.0</td>\n      <td>82.0</td>\n      <td>Hi #crypto !\\n\\nI see you are not doing so wel...</td>\n    </tr>\n    <tr>\n      <th>20119136</th>\n      <td>1141762132826099713</td>\n      <td>quasagroup</td>\n      <td>QUASA</td>\n      <td>NaN</td>\n      <td>2019-06-20 17:38:00+00</td>\n      <td>1.0</td>\n      <td>7.0</td>\n      <td>1.0</td>\n      <td>Logistics and Blockchain: a perfect match\\nBlo...</td>\n    </tr>\n  </tbody>\n</table>\n<p>2554029 rows × 9 columns</p>\n</div>"
     },
     "execution_count": 22,
     "metadata": {},
     "output_type": "execute_result"
    }
   ],
   "source": [
    "tweet_data"
   ],
   "metadata": {
    "collapsed": false,
    "pycharm": {
     "name": "#%%\n"
    }
   }
  },
  {
   "cell_type": "code",
   "execution_count": 24,
   "outputs": [],
   "source": [
    "tweet_data = tweet_data[[\"date\",\"tweet\",\"username\",\"link\", \"retweets\"]]"
   ],
   "metadata": {
    "collapsed": false,
    "pycharm": {
     "name": "#%%\n"
    }
   }
  },
  {
   "cell_type": "code",
   "execution_count": 25,
   "outputs": [
    {
     "data": {
      "text/plain": "                            date  \\\n19987520  2019-05-26 16:53:29+00   \n19995654  2019-06-20 13:48:30+00   \n19996618  2019-06-21 04:44:00+00   \n20083373  2019-06-04 20:25:59+00   \n20119136  2019-06-20 17:38:00+00   \n\n                                                      tweet       username  \\\n19987520  Currently coding safespace coin on top of liqu...      CryptoN_T   \n19995654  Do you want to be rich? check https://t.co/xSz...       dogepair   \n19996618  #Bitcoin bear market comparisons $btc\\n\\n2013 ...     jamesviggy   \n20083373  Hi #crypto !\\n\\nI see you are not doing so wel...  LittleSweetBB   \n20119136  Logistics and Blockchain: a perfect match\\nBlo...     quasagroup   \n\n         link  retweets  \n19987520  NaN       2.0  \n19995654  NaN       1.0  \n19996618  NaN       2.0  \n20083373  NaN      82.0  \n20119136  NaN       1.0  ",
      "text/html": "<div>\n<style scoped>\n    .dataframe tbody tr th:only-of-type {\n        vertical-align: middle;\n    }\n\n    .dataframe tbody tr th {\n        vertical-align: top;\n    }\n\n    .dataframe thead th {\n        text-align: right;\n    }\n</style>\n<table border=\"1\" class=\"dataframe\">\n  <thead>\n    <tr style=\"text-align: right;\">\n      <th></th>\n      <th>date</th>\n      <th>tweet</th>\n      <th>username</th>\n      <th>link</th>\n      <th>retweets</th>\n    </tr>\n  </thead>\n  <tbody>\n    <tr>\n      <th>19987520</th>\n      <td>2019-05-26 16:53:29+00</td>\n      <td>Currently coding safespace coin on top of liqu...</td>\n      <td>CryptoN_T</td>\n      <td>NaN</td>\n      <td>2.0</td>\n    </tr>\n    <tr>\n      <th>19995654</th>\n      <td>2019-06-20 13:48:30+00</td>\n      <td>Do you want to be rich? check https://t.co/xSz...</td>\n      <td>dogepair</td>\n      <td>NaN</td>\n      <td>1.0</td>\n    </tr>\n    <tr>\n      <th>19996618</th>\n      <td>2019-06-21 04:44:00+00</td>\n      <td>#Bitcoin bear market comparisons $btc\\n\\n2013 ...</td>\n      <td>jamesviggy</td>\n      <td>NaN</td>\n      <td>2.0</td>\n    </tr>\n    <tr>\n      <th>20083373</th>\n      <td>2019-06-04 20:25:59+00</td>\n      <td>Hi #crypto !\\n\\nI see you are not doing so wel...</td>\n      <td>LittleSweetBB</td>\n      <td>NaN</td>\n      <td>82.0</td>\n    </tr>\n    <tr>\n      <th>20119136</th>\n      <td>2019-06-20 17:38:00+00</td>\n      <td>Logistics and Blockchain: a perfect match\\nBlo...</td>\n      <td>quasagroup</td>\n      <td>NaN</td>\n      <td>1.0</td>\n    </tr>\n  </tbody>\n</table>\n</div>"
     },
     "execution_count": 25,
     "metadata": {},
     "output_type": "execute_result"
    }
   ],
   "source": [
    "tweet_data.tail()"
   ],
   "metadata": {
    "collapsed": false,
    "pycharm": {
     "name": "#%%\n"
    }
   }
  },
  {
   "cell_type": "code",
   "execution_count": 26,
   "outputs": [],
   "source": [
    "filename = \"BTC_\"+start+\"_\"+end+\"_\"+\"_tweets_data_from_file.csv\""
   ],
   "metadata": {
    "collapsed": false,
    "pycharm": {
     "name": "#%%\n"
    }
   }
  },
  {
   "cell_type": "code",
   "execution_count": 27,
   "outputs": [],
   "source": [
    "tweet_data.to_csv(\"../datasets/\" + filename)"
   ],
   "metadata": {
    "collapsed": false,
    "pycharm": {
     "name": "#%%\n"
    }
   }
  }
 ],
 "metadata": {
  "kernelspec": {
   "display_name": "Python 3",
   "language": "python",
   "name": "python3"
  },
  "language_info": {
   "codemirror_mode": {
    "name": "ipython",
    "version": 2
   },
   "file_extension": ".py",
   "mimetype": "text/x-python",
   "name": "python",
   "nbconvert_exporter": "python",
   "pygments_lexer": "ipython2",
   "version": "2.7.6"
  }
 },
 "nbformat": 4,
 "nbformat_minor": 0
}