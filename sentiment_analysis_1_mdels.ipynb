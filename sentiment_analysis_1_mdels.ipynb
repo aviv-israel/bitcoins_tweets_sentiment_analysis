{
 "cells": [
  {
   "cell_type": "markdown",
   "metadata": {
    "id": "R2CbYyy71QaB"
   },
   "source": [
    "# Sentiment Analysis Models"
   ]
  },
  {
   "cell_type": "markdown",
   "metadata": {
    "id": "5ciLd0nIu632"
   },
   "source": [
    "In this notebook, our goal is to analyze Twitter's tweets about bitcoin.\n",
    "We want to see if the general sentiment about bitcoin (by searching tweets with the ticker) reflects the trend of the corrency price (positive sentiments are followed by ascending price and negative sentiments followed by descending price).\n",
    "\n",
    "\n",
    "\n",
    "\n",
    "In order to check the above, we compare 3 models for text sentiment analysis and discuss the results later in this notebook:\n",
    "1.   **VADER** Sentiment Analysis (https://github.com/cjhutto/vaderSentiment)\n",
    "> VADER (Valence Aware Dictionary and sEntiment Reasoner) is a lexicon and rule-based sentiment analysis tool that is specifically attuned to sentiments expressed in social media.<br><br>\n",
    "About the Scoring:<br>\n",
    "The sentiment property returns a an object of the following form:\n",
    "```\n",
    "{'pos': 0.303, 'compound': 0.3832, 'neu': 0.697, 'neg': 0.0}\n",
    "```\n",
    "The **compound** score is computed by summing the valence scores of each word in the lexicon, adjusted according to the rules, and then normalized to be between -1 (most extreme negative) and +1 (most extreme positive). This is the most useful metric if you want a single unidimensional measure of sentiment for a given sentence. Calling it a 'normalized, weighted composite score' is accurate.<br>\n",
    "NOTE: The compound score is the one most commonly used for sentiment analysis by most researchers, including the authors.\n",
    "\n",
    "2.   **TextBlob** (https://textblob.readthedocs.io/en/dev)\n",
    "> TextBlob is a Python (2 and 3) library for processing textual data. It provides a simple API for diving into common natural language processing (NLP) tasks such as part-of-speech tagging, noun phrase extraction, **sentiment analysis**, classification, translation, and more.<br><br>\n",
    "The sentiment property returns a namedtuple of the form Sentiment(polarity, subjectivity). The **polarity** score is a float within the range [-1.0, 1.0], and this is the value we extract from each tweet. The subjectivity is a float within the range [0.0, 1.0] where 0.0 is very objective and 1.0 is very subjective.\n",
    "\n",
    "3.   The **BERT** language model (learnt in class and implemented on exercise 4)\n",
    "> BERT, stands for Bidirectional Encoder Representations from Transformers. BERT is designed to pre-train deep bidirectional representations from unlabeled text by jointly conditioning on both left and right context in all layers. As a result, the pre-trained BERT model can be fine-tuned with just one additional output layer to create state-of-the-art models for a wide range of tasks, such as question answering and language inference, without substantial task-specific architecture modifications."
   ]
  },
  {
   "cell_type": "markdown",
   "metadata": {
    "id": "SBAW0GA4f5Bp"
   },
   "source": [
    "---"
   ]
  },
  {
   "cell_type": "markdown",
   "source": [
    "Run on colab:"
   ],
   "metadata": {
    "id": "lR-2z7Pt5KU_"
   }
  },
  {
   "cell_type": "code",
   "execution_count": 1,
   "metadata": {
    "colab": {
     "base_uri": "https://localhost:8080/",
     "height": 1000
    },
    "id": "2p2kY5gXqEWt",
    "outputId": "c8cca7c7-7a48-4c8b-cb2a-19f4ef49ed09"
   },
   "outputs": [
    {
     "output_type": "stream",
     "name": "stdout",
     "text": [
      "Looking in indexes: https://pypi.org/simple, https://us-python.pkg.dev/colab-wheels/public/simple/\n",
      "Requirement already satisfied: Cython in /usr/local/lib/python3.7/dist-packages (0.29.30)\n",
      "Looking in indexes: https://pypi.org/simple, https://us-python.pkg.dev/colab-wheels/public/simple/\n",
      "Collecting whatthelang\n",
      "  Downloading whatthelang-1.0.1.tar.gz (786 kB)\n",
      "\u001B[K     |████████████████████████████████| 786 kB 7.3 MB/s \n",
      "\u001B[?25hRequirement already satisfied: Cython in /usr/local/lib/python3.7/dist-packages (from whatthelang) (0.29.30)\n",
      "Collecting cysignals\n",
      "  Downloading cysignals-1.11.2-cp37-cp37m-manylinux_2_17_x86_64.manylinux2014_x86_64.whl (871 kB)\n",
      "\u001B[K     |████████████████████████████████| 871 kB 62.4 MB/s \n",
      "\u001B[?25hCollecting pyfasttext\n",
      "  Downloading pyfasttext-0.4.6.tar.gz (244 kB)\n",
      "\u001B[K     |████████████████████████████████| 244 kB 87.9 MB/s \n",
      "\u001B[?25hRequirement already satisfied: future in /usr/local/lib/python3.7/dist-packages (from pyfasttext->whatthelang) (0.16.0)\n",
      "Requirement already satisfied: numpy in /usr/local/lib/python3.7/dist-packages (from pyfasttext->whatthelang) (1.21.6)\n",
      "Building wheels for collected packages: whatthelang, pyfasttext\n",
      "  Building wheel for whatthelang (setup.py) ... \u001B[?25l\u001B[?25hdone\n",
      "  Created wheel for whatthelang: filename=whatthelang-1.0.1-py3-none-any.whl size=789818 sha256=a48d6ac5b64c926db89cbaecc1e1032611130d5d9268bd9935cd0ab1ba0d279f\n",
      "  Stored in directory: /root/.cache/pip/wheels/91/5b/fe/43b4b1eb6511aed55a9c5ecf3a178a9b06d783a58907dbc87b\n",
      "  Building wheel for pyfasttext (setup.py) ... \u001B[?25l\u001B[?25hdone\n",
      "  Created wheel for pyfasttext: filename=pyfasttext-0.4.6-cp37-cp37m-linux_x86_64.whl size=1461144 sha256=22f9b02c18f7a4c2305a24224664d5848408c0bed23279456934385de32d1a68\n",
      "  Stored in directory: /root/.cache/pip/wheels/e6/e7/60/c4506ea3173416f3774e221bd741d06bfc2127ec23ceff6619\n",
      "Successfully built whatthelang pyfasttext\n",
      "Installing collected packages: cysignals, pyfasttext, whatthelang\n",
      "Successfully installed cysignals-1.11.2 pyfasttext-0.4.6 whatthelang-1.0.1\n",
      "Looking in indexes: https://pypi.org/simple, https://us-python.pkg.dev/colab-wheels/public/simple/\n",
      "Requirement already satisfied: tensorflow in /usr/local/lib/python3.7/dist-packages (2.8.2+zzzcolab20220719082949)\n",
      "Requirement already satisfied: numpy>=1.20 in /usr/local/lib/python3.7/dist-packages (from tensorflow) (1.21.6)\n",
      "Requirement already satisfied: tensorflow-estimator<2.9,>=2.8 in /usr/local/lib/python3.7/dist-packages (from tensorflow) (2.8.0)\n",
      "Requirement already satisfied: google-pasta>=0.1.1 in /usr/local/lib/python3.7/dist-packages (from tensorflow) (0.2.0)\n",
      "Requirement already satisfied: keras-preprocessing>=1.1.1 in /usr/local/lib/python3.7/dist-packages (from tensorflow) (1.1.2)\n",
      "Requirement already satisfied: protobuf<3.20,>=3.9.2 in /usr/local/lib/python3.7/dist-packages (from tensorflow) (3.17.3)\n",
      "Requirement already satisfied: astunparse>=1.6.0 in /usr/local/lib/python3.7/dist-packages (from tensorflow) (1.6.3)\n",
      "Requirement already satisfied: tensorboard<2.9,>=2.8 in /usr/local/lib/python3.7/dist-packages (from tensorflow) (2.8.0)\n",
      "Requirement already satisfied: grpcio<2.0,>=1.24.3 in /usr/local/lib/python3.7/dist-packages (from tensorflow) (1.47.0)\n",
      "Requirement already satisfied: six>=1.12.0 in /usr/local/lib/python3.7/dist-packages (from tensorflow) (1.15.0)\n",
      "Requirement already satisfied: tensorflow-io-gcs-filesystem>=0.23.1 in /usr/local/lib/python3.7/dist-packages (from tensorflow) (0.26.0)\n",
      "Requirement already satisfied: opt-einsum>=2.3.2 in /usr/local/lib/python3.7/dist-packages (from tensorflow) (3.3.0)\n",
      "Requirement already satisfied: keras<2.9,>=2.8.0rc0 in /usr/local/lib/python3.7/dist-packages (from tensorflow) (2.8.0)\n",
      "Requirement already satisfied: libclang>=9.0.1 in /usr/local/lib/python3.7/dist-packages (from tensorflow) (14.0.1)\n",
      "Requirement already satisfied: gast>=0.2.1 in /usr/local/lib/python3.7/dist-packages (from tensorflow) (0.5.3)\n",
      "Requirement already satisfied: h5py>=2.9.0 in /usr/local/lib/python3.7/dist-packages (from tensorflow) (3.1.0)\n",
      "Requirement already satisfied: setuptools in /usr/local/lib/python3.7/dist-packages (from tensorflow) (57.4.0)\n",
      "Requirement already satisfied: termcolor>=1.1.0 in /usr/local/lib/python3.7/dist-packages (from tensorflow) (1.1.0)\n",
      "Requirement already satisfied: flatbuffers>=1.12 in /usr/local/lib/python3.7/dist-packages (from tensorflow) (2.0)\n",
      "Requirement already satisfied: absl-py>=0.4.0 in /usr/local/lib/python3.7/dist-packages (from tensorflow) (1.2.0)\n",
      "Requirement already satisfied: typing-extensions>=3.6.6 in /usr/local/lib/python3.7/dist-packages (from tensorflow) (4.1.1)\n",
      "Requirement already satisfied: wrapt>=1.11.0 in /usr/local/lib/python3.7/dist-packages (from tensorflow) (1.14.1)\n",
      "Requirement already satisfied: wheel<1.0,>=0.23.0 in /usr/local/lib/python3.7/dist-packages (from astunparse>=1.6.0->tensorflow) (0.37.1)\n",
      "Requirement already satisfied: cached-property in /usr/local/lib/python3.7/dist-packages (from h5py>=2.9.0->tensorflow) (1.5.2)\n",
      "Requirement already satisfied: tensorboard-data-server<0.7.0,>=0.6.0 in /usr/local/lib/python3.7/dist-packages (from tensorboard<2.9,>=2.8->tensorflow) (0.6.1)\n",
      "Requirement already satisfied: google-auth-oauthlib<0.5,>=0.4.1 in /usr/local/lib/python3.7/dist-packages (from tensorboard<2.9,>=2.8->tensorflow) (0.4.6)\n",
      "Requirement already satisfied: tensorboard-plugin-wit>=1.6.0 in /usr/local/lib/python3.7/dist-packages (from tensorboard<2.9,>=2.8->tensorflow) (1.8.1)\n",
      "Requirement already satisfied: google-auth<3,>=1.6.3 in /usr/local/lib/python3.7/dist-packages (from tensorboard<2.9,>=2.8->tensorflow) (1.35.0)\n",
      "Requirement already satisfied: werkzeug>=0.11.15 in /usr/local/lib/python3.7/dist-packages (from tensorboard<2.9,>=2.8->tensorflow) (1.0.1)\n",
      "Requirement already satisfied: requests<3,>=2.21.0 in /usr/local/lib/python3.7/dist-packages (from tensorboard<2.9,>=2.8->tensorflow) (2.23.0)\n",
      "Requirement already satisfied: markdown>=2.6.8 in /usr/local/lib/python3.7/dist-packages (from tensorboard<2.9,>=2.8->tensorflow) (3.4.1)\n",
      "Requirement already satisfied: rsa<5,>=3.1.4 in /usr/local/lib/python3.7/dist-packages (from google-auth<3,>=1.6.3->tensorboard<2.9,>=2.8->tensorflow) (4.9)\n",
      "Requirement already satisfied: pyasn1-modules>=0.2.1 in /usr/local/lib/python3.7/dist-packages (from google-auth<3,>=1.6.3->tensorboard<2.9,>=2.8->tensorflow) (0.2.8)\n",
      "Requirement already satisfied: cachetools<5.0,>=2.0.0 in /usr/local/lib/python3.7/dist-packages (from google-auth<3,>=1.6.3->tensorboard<2.9,>=2.8->tensorflow) (4.2.4)\n",
      "Requirement already satisfied: requests-oauthlib>=0.7.0 in /usr/local/lib/python3.7/dist-packages (from google-auth-oauthlib<0.5,>=0.4.1->tensorboard<2.9,>=2.8->tensorflow) (1.3.1)\n",
      "Requirement already satisfied: importlib-metadata>=4.4 in /usr/local/lib/python3.7/dist-packages (from markdown>=2.6.8->tensorboard<2.9,>=2.8->tensorflow) (4.12.0)\n",
      "Requirement already satisfied: zipp>=0.5 in /usr/local/lib/python3.7/dist-packages (from importlib-metadata>=4.4->markdown>=2.6.8->tensorboard<2.9,>=2.8->tensorflow) (3.8.1)\n",
      "Requirement already satisfied: pyasn1<0.5.0,>=0.4.6 in /usr/local/lib/python3.7/dist-packages (from pyasn1-modules>=0.2.1->google-auth<3,>=1.6.3->tensorboard<2.9,>=2.8->tensorflow) (0.4.8)\n",
      "Requirement already satisfied: urllib3!=1.25.0,!=1.25.1,<1.26,>=1.21.1 in /usr/local/lib/python3.7/dist-packages (from requests<3,>=2.21.0->tensorboard<2.9,>=2.8->tensorflow) (1.24.3)\n",
      "Requirement already satisfied: idna<3,>=2.5 in /usr/local/lib/python3.7/dist-packages (from requests<3,>=2.21.0->tensorboard<2.9,>=2.8->tensorflow) (2.10)\n",
      "Requirement already satisfied: chardet<4,>=3.0.2 in /usr/local/lib/python3.7/dist-packages (from requests<3,>=2.21.0->tensorboard<2.9,>=2.8->tensorflow) (3.0.4)\n",
      "Requirement already satisfied: certifi>=2017.4.17 in /usr/local/lib/python3.7/dist-packages (from requests<3,>=2.21.0->tensorboard<2.9,>=2.8->tensorflow) (2022.6.15)\n",
      "Requirement already satisfied: oauthlib>=3.0.0 in /usr/local/lib/python3.7/dist-packages (from requests-oauthlib>=0.7.0->google-auth-oauthlib<0.5,>=0.4.1->tensorboard<2.9,>=2.8->tensorflow) (3.2.0)\n",
      "Looking in indexes: https://pypi.org/simple, https://us-python.pkg.dev/colab-wheels/public/simple/\n",
      "Requirement already satisfied: nest_asyncio in /usr/local/lib/python3.7/dist-packages (1.5.5)\n",
      "Looking in indexes: https://pypi.org/simple, https://us-python.pkg.dev/colab-wheels/public/simple/\n",
      "Collecting tweet-preprocessor\n",
      "  Downloading tweet_preprocessor-0.6.0-py3-none-any.whl (27 kB)\n",
      "Installing collected packages: tweet-preprocessor\n",
      "Successfully installed tweet-preprocessor-0.6.0\n",
      "Looking in indexes: https://pypi.org/simple, https://us-python.pkg.dev/colab-wheels/public/simple/\n",
      "Collecting twint\n",
      "  Downloading twint-2.1.20.tar.gz (31 kB)\n",
      "Requirement already satisfied: aiohttp in /usr/local/lib/python3.7/dist-packages (from twint) (3.8.1)\n",
      "Collecting aiodns\n",
      "  Downloading aiodns-3.0.0-py3-none-any.whl (5.0 kB)\n",
      "Requirement already satisfied: beautifulsoup4 in /usr/local/lib/python3.7/dist-packages (from twint) (4.6.3)\n",
      "Collecting cchardet\n",
      "  Downloading cchardet-2.1.7-cp37-cp37m-manylinux2010_x86_64.whl (263 kB)\n",
      "\u001B[K     |████████████████████████████████| 263 kB 13.3 MB/s \n",
      "\u001B[?25hCollecting elasticsearch\n",
      "  Downloading elasticsearch-8.3.1-py3-none-any.whl (382 kB)\n",
      "\u001B[K     |████████████████████████████████| 382 kB 70.0 MB/s \n",
      "\u001B[?25hRequirement already satisfied: pysocks in /usr/local/lib/python3.7/dist-packages (from twint) (1.7.1)\n",
      "Requirement already satisfied: pandas in /usr/local/lib/python3.7/dist-packages (from twint) (1.3.5)\n",
      "Collecting aiohttp_socks\n",
      "  Downloading aiohttp_socks-0.7.1-py3-none-any.whl (9.3 kB)\n",
      "Collecting schedule\n",
      "  Downloading schedule-1.1.0-py2.py3-none-any.whl (10 kB)\n",
      "Requirement already satisfied: geopy in /usr/local/lib/python3.7/dist-packages (from twint) (1.17.0)\n",
      "Collecting fake-useragent\n",
      "  Downloading fake-useragent-0.1.11.tar.gz (13 kB)\n",
      "Collecting googletransx\n",
      "  Downloading googletransx-2.4.2.tar.gz (13 kB)\n",
      "Collecting pycares>=4.0.0\n",
      "  Downloading pycares-4.2.1-cp37-cp37m-manylinux_2_5_x86_64.manylinux1_x86_64.manylinux_2_12_x86_64.manylinux2010_x86_64.whl (291 kB)\n",
      "\u001B[K     |████████████████████████████████| 291 kB 68.4 MB/s \n",
      "\u001B[?25hRequirement already satisfied: cffi>=1.5.0 in /usr/local/lib/python3.7/dist-packages (from pycares>=4.0.0->aiodns->twint) (1.15.1)\n",
      "Requirement already satisfied: pycparser in /usr/local/lib/python3.7/dist-packages (from cffi>=1.5.0->pycares>=4.0.0->aiodns->twint) (2.21)\n",
      "Requirement already satisfied: charset-normalizer<3.0,>=2.0 in /usr/local/lib/python3.7/dist-packages (from aiohttp->twint) (2.1.0)\n",
      "Requirement already satisfied: yarl<2.0,>=1.0 in /usr/local/lib/python3.7/dist-packages (from aiohttp->twint) (1.7.2)\n",
      "Requirement already satisfied: asynctest==0.13.0 in /usr/local/lib/python3.7/dist-packages (from aiohttp->twint) (0.13.0)\n",
      "Requirement already satisfied: multidict<7.0,>=4.5 in /usr/local/lib/python3.7/dist-packages (from aiohttp->twint) (6.0.2)\n",
      "Requirement already satisfied: async-timeout<5.0,>=4.0.0a3 in /usr/local/lib/python3.7/dist-packages (from aiohttp->twint) (4.0.2)\n",
      "Requirement already satisfied: typing-extensions>=3.7.4 in /usr/local/lib/python3.7/dist-packages (from aiohttp->twint) (4.1.1)\n",
      "Requirement already satisfied: attrs>=17.3.0 in /usr/local/lib/python3.7/dist-packages (from aiohttp->twint) (21.4.0)\n",
      "Requirement already satisfied: aiosignal>=1.1.2 in /usr/local/lib/python3.7/dist-packages (from aiohttp->twint) (1.2.0)\n",
      "Requirement already satisfied: frozenlist>=1.1.1 in /usr/local/lib/python3.7/dist-packages (from aiohttp->twint) (1.3.0)\n",
      "Requirement already satisfied: idna>=2.0 in /usr/local/lib/python3.7/dist-packages (from yarl<2.0,>=1.0->aiohttp->twint) (2.10)\n",
      "Collecting python-socks[asyncio]<3.0.0,>=2.0.0\n",
      "  Downloading python_socks-2.0.3-py3-none-any.whl (49 kB)\n",
      "\u001B[K     |████████████████████████████████| 49 kB 4.5 MB/s \n",
      "\u001B[?25hCollecting elastic-transport<9,>=8\n",
      "  Downloading elastic_transport-8.1.2-py3-none-any.whl (59 kB)\n",
      "\u001B[K     |████████████████████████████████| 59 kB 9.0 MB/s \n",
      "\u001B[?25hCollecting urllib3<2,>=1.26.2\n",
      "  Downloading urllib3-1.26.11-py2.py3-none-any.whl (139 kB)\n",
      "\u001B[K     |████████████████████████████████| 139 kB 78.5 MB/s \n",
      "\u001B[?25hRequirement already satisfied: certifi in /usr/local/lib/python3.7/dist-packages (from elastic-transport<9,>=8->elasticsearch->twint) (2022.6.15)\n",
      "Requirement already satisfied: geographiclib<2,>=1.49 in /usr/local/lib/python3.7/dist-packages (from geopy->twint) (1.52)\n",
      "Requirement already satisfied: requests in /usr/local/lib/python3.7/dist-packages (from googletransx->twint) (2.23.0)\n",
      "Requirement already satisfied: python-dateutil>=2.7.3 in /usr/local/lib/python3.7/dist-packages (from pandas->twint) (2.8.2)\n",
      "Requirement already satisfied: numpy>=1.17.3 in /usr/local/lib/python3.7/dist-packages (from pandas->twint) (1.21.6)\n",
      "Requirement already satisfied: pytz>=2017.3 in /usr/local/lib/python3.7/dist-packages (from pandas->twint) (2022.1)\n",
      "Requirement already satisfied: six>=1.5 in /usr/local/lib/python3.7/dist-packages (from python-dateutil>=2.7.3->pandas->twint) (1.15.0)\n",
      "Collecting requests\n",
      "  Downloading requests-2.28.1-py3-none-any.whl (62 kB)\n",
      "\u001B[K     |████████████████████████████████| 62 kB 1.7 MB/s \n",
      "\u001B[?25hBuilding wheels for collected packages: twint, fake-useragent, googletransx\n",
      "  Building wheel for twint (setup.py) ... \u001B[?25l\u001B[?25hdone\n",
      "  Created wheel for twint: filename=twint-2.1.20-py3-none-any.whl size=33929 sha256=ed8282cbf732f4e5ac79a2b92fc5172a0627a7a2c5acc2f01e575953e281fde6\n",
      "  Stored in directory: /root/.cache/pip/wheels/44/fc/77/99887a36b5c265a87516158858697d1a0b8f32c4d4dbddbb24\n",
      "  Building wheel for fake-useragent (setup.py) ... \u001B[?25l\u001B[?25hdone\n",
      "  Created wheel for fake-useragent: filename=fake_useragent-0.1.11-py3-none-any.whl size=13502 sha256=fe9bb922053cd1a32e0dc603d26504f2080b81865cff67fb300f646f2f6c0dde\n",
      "  Stored in directory: /root/.cache/pip/wheels/ed/f7/62/50ab6c9a0b5567267ab76a9daa9d06315704209b2c5d032031\n",
      "  Building wheel for googletransx (setup.py) ... \u001B[?25l\u001B[?25hdone\n",
      "  Created wheel for googletransx: filename=googletransx-2.4.2-py3-none-any.whl size=15968 sha256=46ff99fcbf0d7d99d359c3c21b0a025984a300d93685e58e3737e73013144f66\n",
      "  Stored in directory: /root/.cache/pip/wheels/66/d5/b1/31104b338f7fd45aa8f7d22587765db06773b13df48a89735f\n",
      "Successfully built twint fake-useragent googletransx\n",
      "Installing collected packages: urllib3, python-socks, requests, pycares, elastic-transport, schedule, googletransx, fake-useragent, elasticsearch, cchardet, aiohttp-socks, aiodns, twint\n",
      "  Attempting uninstall: urllib3\n",
      "    Found existing installation: urllib3 1.24.3\n",
      "    Uninstalling urllib3-1.24.3:\n",
      "      Successfully uninstalled urllib3-1.24.3\n",
      "  Attempting uninstall: requests\n",
      "    Found existing installation: requests 2.23.0\n",
      "    Uninstalling requests-2.23.0:\n",
      "      Successfully uninstalled requests-2.23.0\n",
      "\u001B[31mERROR: pip's dependency resolver does not currently take into account all the packages that are installed. This behaviour is the source of the following dependency conflicts.\n",
      "google-colab 1.0.0 requires requests~=2.23.0, but you have requests 2.28.1 which is incompatible.\n",
      "datascience 0.10.6 requires folium==0.2.1, but you have folium 0.8.3 which is incompatible.\u001B[0m\n",
      "Successfully installed aiodns-3.0.0 aiohttp-socks-0.7.1 cchardet-2.1.7 elastic-transport-8.1.2 elasticsearch-8.3.1 fake-useragent-0.1.11 googletransx-2.4.2 pycares-4.2.1 python-socks-2.0.3 requests-2.28.1 schedule-1.1.0 twint-2.1.20 urllib3-1.26.11\n",
      "Looking in indexes: https://pypi.org/simple, https://us-python.pkg.dev/colab-wheels/public/simple/\n",
      "Collecting twint\n",
      "  Cloning https://github.com/twintproject/twint.git (to revision origin/master) to /tmp/pip-install-0wg0gqv3/twint_e0aee72472c54a3ea1ba82bf103bd99c\n",
      "  Running command git clone -q https://github.com/twintproject/twint.git /tmp/pip-install-0wg0gqv3/twint_e0aee72472c54a3ea1ba82bf103bd99c\n",
      "\u001B[33m  WARNING: Did not find branch or tag 'origin/master', assuming revision or ref.\u001B[0m\n",
      "  Running command git checkout -q origin/master\n",
      "Requirement already satisfied: aiohttp in /usr/local/lib/python3.7/dist-packages (from twint) (3.8.1)\n",
      "Requirement already satisfied: aiodns in /usr/local/lib/python3.7/dist-packages (from twint) (3.0.0)\n",
      "Requirement already satisfied: beautifulsoup4 in /usr/local/lib/python3.7/dist-packages (from twint) (4.6.3)\n",
      "Requirement already satisfied: cchardet in /usr/local/lib/python3.7/dist-packages (from twint) (2.1.7)\n",
      "Collecting dataclasses\n",
      "  Downloading dataclasses-0.6-py3-none-any.whl (14 kB)\n",
      "Requirement already satisfied: elasticsearch in /usr/local/lib/python3.7/dist-packages (from twint) (8.3.1)\n",
      "Requirement already satisfied: pysocks in /usr/local/lib/python3.7/dist-packages (from twint) (1.7.1)\n",
      "Requirement already satisfied: pandas in /usr/local/lib/python3.7/dist-packages (from twint) (1.3.5)\n",
      "Requirement already satisfied: aiohttp_socks in /usr/local/lib/python3.7/dist-packages (from twint) (0.7.1)\n",
      "Requirement already satisfied: schedule in /usr/local/lib/python3.7/dist-packages (from twint) (1.1.0)\n",
      "Requirement already satisfied: geopy in /usr/local/lib/python3.7/dist-packages (from twint) (1.17.0)\n",
      "Requirement already satisfied: fake-useragent in /usr/local/lib/python3.7/dist-packages (from twint) (0.1.11)\n",
      "Requirement already satisfied: googletransx in /usr/local/lib/python3.7/dist-packages (from twint) (2.4.2)\n",
      "Requirement already satisfied: pycares>=4.0.0 in /usr/local/lib/python3.7/dist-packages (from aiodns->twint) (4.2.1)\n",
      "Requirement already satisfied: cffi>=1.5.0 in /usr/local/lib/python3.7/dist-packages (from pycares>=4.0.0->aiodns->twint) (1.15.1)\n",
      "Requirement already satisfied: pycparser in /usr/local/lib/python3.7/dist-packages (from cffi>=1.5.0->pycares>=4.0.0->aiodns->twint) (2.21)\n",
      "Requirement already satisfied: asynctest==0.13.0 in /usr/local/lib/python3.7/dist-packages (from aiohttp->twint) (0.13.0)\n",
      "Requirement already satisfied: yarl<2.0,>=1.0 in /usr/local/lib/python3.7/dist-packages (from aiohttp->twint) (1.7.2)\n",
      "Requirement already satisfied: multidict<7.0,>=4.5 in /usr/local/lib/python3.7/dist-packages (from aiohttp->twint) (6.0.2)\n",
      "Requirement already satisfied: attrs>=17.3.0 in /usr/local/lib/python3.7/dist-packages (from aiohttp->twint) (21.4.0)\n",
      "Requirement already satisfied: aiosignal>=1.1.2 in /usr/local/lib/python3.7/dist-packages (from aiohttp->twint) (1.2.0)\n",
      "Requirement already satisfied: frozenlist>=1.1.1 in /usr/local/lib/python3.7/dist-packages (from aiohttp->twint) (1.3.0)\n",
      "Requirement already satisfied: charset-normalizer<3.0,>=2.0 in /usr/local/lib/python3.7/dist-packages (from aiohttp->twint) (2.1.0)\n",
      "Requirement already satisfied: typing-extensions>=3.7.4 in /usr/local/lib/python3.7/dist-packages (from aiohttp->twint) (4.1.1)\n",
      "Requirement already satisfied: async-timeout<5.0,>=4.0.0a3 in /usr/local/lib/python3.7/dist-packages (from aiohttp->twint) (4.0.2)\n",
      "Requirement already satisfied: idna>=2.0 in /usr/local/lib/python3.7/dist-packages (from yarl<2.0,>=1.0->aiohttp->twint) (2.10)\n",
      "Requirement already satisfied: python-socks[asyncio]<3.0.0,>=2.0.0 in /usr/local/lib/python3.7/dist-packages (from aiohttp_socks->twint) (2.0.3)\n",
      "Requirement already satisfied: elastic-transport<9,>=8 in /usr/local/lib/python3.7/dist-packages (from elasticsearch->twint) (8.1.2)\n",
      "Requirement already satisfied: urllib3<2,>=1.26.2 in /usr/local/lib/python3.7/dist-packages (from elastic-transport<9,>=8->elasticsearch->twint) (1.26.11)\n",
      "Requirement already satisfied: certifi in /usr/local/lib/python3.7/dist-packages (from elastic-transport<9,>=8->elasticsearch->twint) (2022.6.15)\n",
      "Requirement already satisfied: geographiclib<2,>=1.49 in /usr/local/lib/python3.7/dist-packages (from geopy->twint) (1.52)\n",
      "Requirement already satisfied: requests in /usr/local/lib/python3.7/dist-packages (from googletransx->twint) (2.28.1)\n",
      "Requirement already satisfied: python-dateutil>=2.7.3 in /usr/local/lib/python3.7/dist-packages (from pandas->twint) (2.8.2)\n",
      "Requirement already satisfied: pytz>=2017.3 in /usr/local/lib/python3.7/dist-packages (from pandas->twint) (2022.1)\n",
      "Requirement already satisfied: numpy>=1.17.3 in /usr/local/lib/python3.7/dist-packages (from pandas->twint) (1.21.6)\n",
      "Requirement already satisfied: six>=1.5 in /usr/local/lib/python3.7/dist-packages (from python-dateutil>=2.7.3->pandas->twint) (1.15.0)\n",
      "Building wheels for collected packages: twint\n",
      "  Building wheel for twint (setup.py) ... \u001B[?25l\u001B[?25hdone\n",
      "  Created wheel for twint: filename=twint-2.1.21-py3-none-any.whl size=38871 sha256=ab3198ed1e06b90996c886bfca736e8307386a7581a9327b2ed269618a020201\n",
      "  Stored in directory: /tmp/pip-ephem-wheel-cache-anqwn98u/wheels/8d/dc/9f/74b4483d5f997036f04aec7f42bd4b3c80f04264920c368068\n",
      "Successfully built twint\n",
      "Installing collected packages: dataclasses, twint\n",
      "\u001B[33m  WARNING: The script twint is installed in '/root/.local/bin' which is not on PATH.\n",
      "  Consider adding this directory to PATH or, if you prefer to suppress this warning, use --no-warn-script-location.\u001B[0m\n",
      "Successfully installed dataclasses-0.6 twint-2.1.21\n",
      "Looking in indexes: https://pypi.org/simple, https://us-python.pkg.dev/colab-wheels/public/simple/\n",
      "Requirement already satisfied: ipykernel in /usr/local/lib/python3.7/dist-packages (4.10.1)\n",
      "Collecting ipykernel\n",
      "  Downloading ipykernel-6.15.1-py3-none-any.whl (132 kB)\n",
      "\u001B[K     |████████████████████████████████| 132 kB 9.2 MB/s \n",
      "\u001B[?25hCollecting jupyter-client>=6.1.12\n",
      "  Downloading jupyter_client-7.3.4-py3-none-any.whl (132 kB)\n",
      "\u001B[K     |████████████████████████████████| 132 kB 64.6 MB/s \n",
      "\u001B[?25hRequirement already satisfied: packaging in /usr/local/lib/python3.7/dist-packages (from ipykernel) (21.3)\n",
      "Collecting ipython>=7.23.1\n",
      "  Downloading ipython-7.34.0-py3-none-any.whl (793 kB)\n",
      "\u001B[K     |████████████████████████████████| 793 kB 75.3 MB/s \n",
      "\u001B[?25hRequirement already satisfied: psutil in /usr/local/lib/python3.7/dist-packages (from ipykernel) (5.4.8)\n",
      "Requirement already satisfied: traitlets>=5.1.0 in /usr/local/lib/python3.7/dist-packages (from ipykernel) (5.1.1)\n",
      "Collecting tornado>=6.1\n",
      "  Downloading tornado-6.2-cp37-abi3-manylinux_2_5_x86_64.manylinux1_x86_64.manylinux_2_17_x86_64.manylinux2014_x86_64.whl (423 kB)\n",
      "\u001B[K     |████████████████████████████████| 423 kB 95.9 MB/s \n",
      "\u001B[?25hRequirement already satisfied: pyzmq>=17 in /usr/local/lib/python3.7/dist-packages (from ipykernel) (23.2.0)\n",
      "Requirement already satisfied: matplotlib-inline>=0.1 in /usr/local/lib/python3.7/dist-packages (from ipykernel) (0.1.3)\n",
      "Requirement already satisfied: debugpy>=1.0 in /usr/local/lib/python3.7/dist-packages (from ipykernel) (1.0.0)\n",
      "Requirement already satisfied: nest-asyncio in /usr/local/lib/python3.7/dist-packages (from ipykernel) (1.5.5)\n",
      "Collecting prompt-toolkit!=3.0.0,!=3.0.1,<3.1.0,>=2.0.0\n",
      "  Downloading prompt_toolkit-3.0.30-py3-none-any.whl (381 kB)\n",
      "\u001B[K     |████████████████████████████████| 381 kB 96.8 MB/s \n",
      "\u001B[?25hRequirement already satisfied: pygments in /usr/local/lib/python3.7/dist-packages (from ipython>=7.23.1->ipykernel) (2.6.1)\n",
      "Requirement already satisfied: pickleshare in /usr/local/lib/python3.7/dist-packages (from ipython>=7.23.1->ipykernel) (0.7.5)\n",
      "Requirement already satisfied: decorator in /usr/local/lib/python3.7/dist-packages (from ipython>=7.23.1->ipykernel) (4.4.2)\n",
      "Requirement already satisfied: pexpect>4.3 in /usr/local/lib/python3.7/dist-packages (from ipython>=7.23.1->ipykernel) (4.8.0)\n",
      "Requirement already satisfied: backcall in /usr/local/lib/python3.7/dist-packages (from ipython>=7.23.1->ipykernel) (0.2.0)\n",
      "Requirement already satisfied: setuptools>=18.5 in /usr/local/lib/python3.7/dist-packages (from ipython>=7.23.1->ipykernel) (57.4.0)\n",
      "Requirement already satisfied: jedi>=0.16 in /usr/local/lib/python3.7/dist-packages (from ipython>=7.23.1->ipykernel) (0.18.1)\n",
      "Requirement already satisfied: parso<0.9.0,>=0.8.0 in /usr/local/lib/python3.7/dist-packages (from jedi>=0.16->ipython>=7.23.1->ipykernel) (0.8.3)\n",
      "Requirement already satisfied: entrypoints in /usr/local/lib/python3.7/dist-packages (from jupyter-client>=6.1.12->ipykernel) (0.4)\n",
      "Requirement already satisfied: jupyter-core>=4.9.2 in /usr/local/lib/python3.7/dist-packages (from jupyter-client>=6.1.12->ipykernel) (4.11.1)\n",
      "Requirement already satisfied: python-dateutil>=2.8.2 in /usr/local/lib/python3.7/dist-packages (from jupyter-client>=6.1.12->ipykernel) (2.8.2)\n",
      "Requirement already satisfied: ptyprocess>=0.5 in /usr/local/lib/python3.7/dist-packages (from pexpect>4.3->ipython>=7.23.1->ipykernel) (0.7.0)\n",
      "Requirement already satisfied: wcwidth in /usr/local/lib/python3.7/dist-packages (from prompt-toolkit!=3.0.0,!=3.0.1,<3.1.0,>=2.0.0->ipython>=7.23.1->ipykernel) (0.2.5)\n",
      "Requirement already satisfied: six>=1.5 in /usr/local/lib/python3.7/dist-packages (from python-dateutil>=2.8.2->jupyter-client>=6.1.12->ipykernel) (1.15.0)\n",
      "Requirement already satisfied: pyparsing!=3.0.5,>=2.0.2 in /usr/local/lib/python3.7/dist-packages (from packaging->ipykernel) (3.0.9)\n",
      "Installing collected packages: tornado, prompt-toolkit, jupyter-client, ipython, ipykernel\n",
      "  Attempting uninstall: tornado\n",
      "    Found existing installation: tornado 5.1.1\n",
      "    Uninstalling tornado-5.1.1:\n",
      "      Successfully uninstalled tornado-5.1.1\n",
      "  Attempting uninstall: prompt-toolkit\n",
      "    Found existing installation: prompt-toolkit 1.0.18\n",
      "    Uninstalling prompt-toolkit-1.0.18:\n",
      "      Successfully uninstalled prompt-toolkit-1.0.18\n",
      "  Attempting uninstall: jupyter-client\n",
      "    Found existing installation: jupyter-client 5.3.5\n",
      "    Uninstalling jupyter-client-5.3.5:\n",
      "      Successfully uninstalled jupyter-client-5.3.5\n",
      "  Attempting uninstall: ipython\n",
      "    Found existing installation: ipython 5.5.0\n",
      "    Uninstalling ipython-5.5.0:\n",
      "      Successfully uninstalled ipython-5.5.0\n",
      "  Attempting uninstall: ipykernel\n",
      "    Found existing installation: ipykernel 4.10.1\n",
      "    Uninstalling ipykernel-4.10.1:\n",
      "      Successfully uninstalled ipykernel-4.10.1\n",
      "\u001B[31mERROR: pip's dependency resolver does not currently take into account all the packages that are installed. This behaviour is the source of the following dependency conflicts.\n",
      "nbclient 0.6.6 requires traitlets>=5.2.2, but you have traitlets 5.1.1 which is incompatible.\n",
      "jupyter-console 5.2.0 requires prompt-toolkit<2.0.0,>=1.0.0, but you have prompt-toolkit 3.0.30 which is incompatible.\n",
      "google-colab 1.0.0 requires ipykernel~=4.10, but you have ipykernel 6.15.1 which is incompatible.\n",
      "google-colab 1.0.0 requires ipython~=5.5.0, but you have ipython 7.34.0 which is incompatible.\n",
      "google-colab 1.0.0 requires requests~=2.23.0, but you have requests 2.28.1 which is incompatible.\n",
      "google-colab 1.0.0 requires tornado~=5.1.0, but you have tornado 6.2 which is incompatible.\u001B[0m\n",
      "Successfully installed ipykernel-6.15.1 ipython-7.34.0 jupyter-client-7.3.4 prompt-toolkit-3.0.30 tornado-6.2\n"
     ]
    },
    {
     "output_type": "display_data",
     "data": {
      "application/vnd.colab-display-data+json": {
       "pip_warning": {
        "packages": [
         "IPython",
         "prompt_toolkit",
         "tornado"
        ]
       }
      }
     },
     "metadata": {}
    }
   ],
   "source": [
    "!pip install Cython\n",
    "!pip install whatthelang\n",
    "!pip install tensorflow\n",
    "!pip3 install nest_asyncio\n",
    "!pip install tweet-preprocessor\n",
    "!pip install twint\n",
    "!pip3 install --user --upgrade git+https://github.com/twintproject/twint.git@origin/master#egg=twint\n",
    "!pip install --upgrade ipykernel # important\n",
    "!pip install chart-studio # visualization\n",
    "!pip install wordcloud\n",
    "!pip install yfinance\n",
    "!pip install vaderSentiment\n",
    "!pip install transformers \n",
    "!pip install plotly==5.8\n",
    "!pip install textblob seaborn nltk\n",
    "!pip install pyyaml==5.4.1"
   ]
  },
  {
   "cell_type": "markdown",
   "metadata": {
    "id": "_2VO18Xv9R5q"
   },
   "source": [
    "---"
   ]
  },
  {
   "cell_type": "markdown",
   "metadata": {
    "id": "dKcnlaOv1us7"
   },
   "source": [
    "Use GPU for faster runtime"
   ]
  },
  {
   "cell_type": "code",
   "execution_count": 1,
   "metadata": {
    "colab": {
     "base_uri": "https://localhost:8080/"
    },
    "id": "eZyuBUo_eWWb",
    "outputId": "7599e535-e130-41d4-a23c-97b1e6e04693"
   },
   "outputs": [
    {
     "name": "stderr",
     "output_type": "stream",
     "text": [
      "UsageError: Line magic function `%tensorflow_version` not found.\n"
     ]
    }
   ],
   "source": [
    "%tensorflow_version 2.x\n",
    "import tensorflow as tf\n",
    "\n",
    "device_name = tf.test.gpu_device_name()\n",
    "\n",
    "if device_name != '/device:GPU:0':\n",
    "    raise SystemError('GPU device not found')\n",
    "\n",
    "print('Found GPU at: {}'.format(device_name))"
   ]
  },
  {
   "cell_type": "code",
   "execution_count": 2,
   "metadata": {
    "id": "6pcRkb304sf3"
   },
   "outputs": [],
   "source": [
    "\n",
    "import pandas as pd\n",
    "import numpy as np\n",
    "from textblob import TextBlob\n",
    "from vaderSentiment.vaderSentiment import SentimentIntensityAnalyzer\n",
    "import seaborn as sns\n",
    "\n",
    "\n",
    "import warnings\n",
    "warnings.filterwarnings(\"ignore\")\n",
    "sns.set(font_scale=1.5)\n",
    "sns.set_style(\"whitegrid\")\n",
    "import plotly.graph_objects as go\n",
    "import plotly.express as px"
   ]
  },
  {
   "cell_type": "markdown",
   "metadata": {
    "id": "mLCm4cZNf3iu"
   },
   "source": [
    "---"
   ]
  },
  {
   "cell_type": "code",
   "execution_count": 3,
   "metadata": {
    "id": "LTuDVqGS_GJ_"
   },
   "outputs": [],
   "source": [
    "EPSILON = 0.1\n",
    "TICKER = \"BTC\"\n",
    "SEARCH_WORD = f\"#{TICKER}\"\n",
    "\n",
    "DATE_SINCE = \"2019-05-25\"\n",
    "DATE_UNTIL = \"2019-06-24\" \n",
    "file_name = \"BTC_2019-05-25_2019-06-25__tweets_data_from_file_after_preprocessing.csv\""
   ]
  },
  {
   "cell_type": "markdown",
   "metadata": {
    "id": "eFTVcIiJf2pc"
   },
   "source": [
    "---"
   ]
  },
  {
   "cell_type": "code",
   "execution_count": 4,
   "metadata": {
    "id": "GJSgAb068tNC"
   },
   "outputs": [],
   "source": [
    "tweet_data = pd.read_csv(\"./datasets/\" + file_name)"
   ]
  },
  {
   "cell_type": "code",
   "execution_count": 14,
   "metadata": {
    "id": "RCqQaCOO8tNF",
    "colab": {
     "base_uri": "https://localhost:8080/",
     "height": 728
    },
    "outputId": "062b9a07-93aa-46a4-e5e9-7612563a1d9a"
   },
   "outputs": [
    {
     "data": {
      "text/plain": "       Unnamed: 0.2  Unnamed: 0.1    index  Unnamed: 0  \\\n0            246275        333135   354812     7242079   \n1            986744       1292458  1476476     8374478   \n2           1135815       1494023  1820000     8915720   \n3            714433        938030  1004903     7900185   \n4            575337        757193   809732     7703075   \n...             ...           ...      ...         ...   \n39995        445242        589370   630044     7520827   \n39996        940300       1232112  1411308     8308969   \n39997       1125309       1480630  1686351     8782003   \n39998        319225        426415   455123     7343696   \n39999        578039        760710   813465     7706830   \n\n                         date  \\\n0      2019-05-29 14:55:00+00   \n1      2019-06-14 18:24:23+00   \n2      2019-06-17 23:49:06+00   \n3      2019-06-08 03:01:57+00   \n4      2019-06-04 22:54:29+00   \n...                       ...   \n39995  2019-06-02 08:37:00+00   \n39996  2019-06-13 17:36:13+00   \n39997  2019-06-17 19:25:06+00   \n39998  2019-05-30 18:26:29+00   \n39999  2019-06-05 00:20:56+00   \n\n                                                   tweet         username  \\\n0      $btg / $btc: +9% value, +267% volume at #Binan...  cryptocoinradar   \n1      Cryptocurrency | Cryptocurrency Jewelry | Mens...  ArtHarmony_shop   \n2      @GainsPainsCapit @DavidBCollum @mark_dow The s...     paranoidbull   \n3      Bitcoin price analysis: 8 june, bitcoin is bul...   ClubInvestlife   \n4      @DRomATX Always better to get a bargain price ...         ivanba12   \n...                                                  ...              ...   \n39995  ⏰ LIQUIDATION on BTC-PERPETUAL ☠️️\\n\\n Bought ...      DeribitRekt   \n39996  @Lihams22 @BHoarder1 @CalvinAyre @oudekaas3 bt...     missourapete   \n39997  Sr Platform Engineer - Veear ( San Jose, Unite...   WorkInRobotics   \n39998  Be part of the future App Store https://t.co/D...     Kupi83921604   \n39999  @WinthorpeBot Everyone see that  BTC is  start...          koks_05   \n\n       link  retweets                                               text  \n0       NaN       1.0  $btg / $btc: +9% value, +267% volume at #Binan...  \n1       NaN       0.0  Cryptocurrency | Cryptocurrency Jewelry | Mens...  \n2       NaN       0.0  @GainsPainsCapit @DavidBCollum @mark_dow The s...  \n3       NaN       0.0  Bitcoin price analysis: 8 june, bitcoin is bul...  \n4       NaN       0.0  @DRomATX Always better to get a bargain price ...  \n...     ...       ...                                                ...  \n39995   NaN       0.0  LIQUIDATION on BTC-PERPETUAL Bought $130 of #B...  \n39996   NaN       0.0  @Lihams22 @BHoarder1 @CalvinAyre @oudekaas3 bt...  \n39997   NaN       0.0  Sr Platform Engineer - Veear ( San Jose, Unite...  \n39998   NaN       0.0  Be part of the future App Store @dapp_com Join...  \n39999   NaN       0.0  @WinthorpeBot Everyone see that BTC is startin...  \n\n[40000 rows x 10 columns]",
      "text/html": "<div>\n<style scoped>\n    .dataframe tbody tr th:only-of-type {\n        vertical-align: middle;\n    }\n\n    .dataframe tbody tr th {\n        vertical-align: top;\n    }\n\n    .dataframe thead th {\n        text-align: right;\n    }\n</style>\n<table border=\"1\" class=\"dataframe\">\n  <thead>\n    <tr style=\"text-align: right;\">\n      <th></th>\n      <th>Unnamed: 0.2</th>\n      <th>Unnamed: 0.1</th>\n      <th>index</th>\n      <th>Unnamed: 0</th>\n      <th>date</th>\n      <th>tweet</th>\n      <th>username</th>\n      <th>link</th>\n      <th>retweets</th>\n      <th>text</th>\n    </tr>\n  </thead>\n  <tbody>\n    <tr>\n      <th>0</th>\n      <td>246275</td>\n      <td>333135</td>\n      <td>354812</td>\n      <td>7242079</td>\n      <td>2019-05-29 14:55:00+00</td>\n      <td>$btg / $btc: +9% value, +267% volume at #Binan...</td>\n      <td>cryptocoinradar</td>\n      <td>NaN</td>\n      <td>1.0</td>\n      <td>$btg / $btc: +9% value, +267% volume at #Binan...</td>\n    </tr>\n    <tr>\n      <th>1</th>\n      <td>986744</td>\n      <td>1292458</td>\n      <td>1476476</td>\n      <td>8374478</td>\n      <td>2019-06-14 18:24:23+00</td>\n      <td>Cryptocurrency | Cryptocurrency Jewelry | Mens...</td>\n      <td>ArtHarmony_shop</td>\n      <td>NaN</td>\n      <td>0.0</td>\n      <td>Cryptocurrency | Cryptocurrency Jewelry | Mens...</td>\n    </tr>\n    <tr>\n      <th>2</th>\n      <td>1135815</td>\n      <td>1494023</td>\n      <td>1820000</td>\n      <td>8915720</td>\n      <td>2019-06-17 23:49:06+00</td>\n      <td>@GainsPainsCapit @DavidBCollum @mark_dow The s...</td>\n      <td>paranoidbull</td>\n      <td>NaN</td>\n      <td>0.0</td>\n      <td>@GainsPainsCapit @DavidBCollum @mark_dow The s...</td>\n    </tr>\n    <tr>\n      <th>3</th>\n      <td>714433</td>\n      <td>938030</td>\n      <td>1004903</td>\n      <td>7900185</td>\n      <td>2019-06-08 03:01:57+00</td>\n      <td>Bitcoin price analysis: 8 june, bitcoin is bul...</td>\n      <td>ClubInvestlife</td>\n      <td>NaN</td>\n      <td>0.0</td>\n      <td>Bitcoin price analysis: 8 june, bitcoin is bul...</td>\n    </tr>\n    <tr>\n      <th>4</th>\n      <td>575337</td>\n      <td>757193</td>\n      <td>809732</td>\n      <td>7703075</td>\n      <td>2019-06-04 22:54:29+00</td>\n      <td>@DRomATX Always better to get a bargain price ...</td>\n      <td>ivanba12</td>\n      <td>NaN</td>\n      <td>0.0</td>\n      <td>@DRomATX Always better to get a bargain price ...</td>\n    </tr>\n    <tr>\n      <th>...</th>\n      <td>...</td>\n      <td>...</td>\n      <td>...</td>\n      <td>...</td>\n      <td>...</td>\n      <td>...</td>\n      <td>...</td>\n      <td>...</td>\n      <td>...</td>\n      <td>...</td>\n    </tr>\n    <tr>\n      <th>39995</th>\n      <td>445242</td>\n      <td>589370</td>\n      <td>630044</td>\n      <td>7520827</td>\n      <td>2019-06-02 08:37:00+00</td>\n      <td>⏰ LIQUIDATION on BTC-PERPETUAL ☠️️\\n\\n Bought ...</td>\n      <td>DeribitRekt</td>\n      <td>NaN</td>\n      <td>0.0</td>\n      <td>LIQUIDATION on BTC-PERPETUAL Bought $130 of #B...</td>\n    </tr>\n    <tr>\n      <th>39996</th>\n      <td>940300</td>\n      <td>1232112</td>\n      <td>1411308</td>\n      <td>8308969</td>\n      <td>2019-06-13 17:36:13+00</td>\n      <td>@Lihams22 @BHoarder1 @CalvinAyre @oudekaas3 bt...</td>\n      <td>missourapete</td>\n      <td>NaN</td>\n      <td>0.0</td>\n      <td>@Lihams22 @BHoarder1 @CalvinAyre @oudekaas3 bt...</td>\n    </tr>\n    <tr>\n      <th>39997</th>\n      <td>1125309</td>\n      <td>1480630</td>\n      <td>1686351</td>\n      <td>8782003</td>\n      <td>2019-06-17 19:25:06+00</td>\n      <td>Sr Platform Engineer - Veear ( San Jose, Unite...</td>\n      <td>WorkInRobotics</td>\n      <td>NaN</td>\n      <td>0.0</td>\n      <td>Sr Platform Engineer - Veear ( San Jose, Unite...</td>\n    </tr>\n    <tr>\n      <th>39998</th>\n      <td>319225</td>\n      <td>426415</td>\n      <td>455123</td>\n      <td>7343696</td>\n      <td>2019-05-30 18:26:29+00</td>\n      <td>Be part of the future App Store https://t.co/D...</td>\n      <td>Kupi83921604</td>\n      <td>NaN</td>\n      <td>0.0</td>\n      <td>Be part of the future App Store @dapp_com Join...</td>\n    </tr>\n    <tr>\n      <th>39999</th>\n      <td>578039</td>\n      <td>760710</td>\n      <td>813465</td>\n      <td>7706830</td>\n      <td>2019-06-05 00:20:56+00</td>\n      <td>@WinthorpeBot Everyone see that  BTC is  start...</td>\n      <td>koks_05</td>\n      <td>NaN</td>\n      <td>0.0</td>\n      <td>@WinthorpeBot Everyone see that BTC is startin...</td>\n    </tr>\n  </tbody>\n</table>\n<p>40000 rows × 10 columns</p>\n</div>"
     },
     "execution_count": 14,
     "metadata": {},
     "output_type": "execute_result"
    }
   ],
   "source": [
    "tweet_data"
   ]
  },
  {
   "cell_type": "markdown",
   "metadata": {
    "collapsed": false,
    "id": "iuMOTPDe8tNF"
   },
   "source": [
    "## Vender"
   ]
  },
  {
   "cell_type": "code",
   "execution_count": 15,
   "metadata": {
    "id": "CyG_Q_zY8tNF"
   },
   "outputs": [],
   "source": [
    "analyzer = SentimentIntensityAnalyzer()"
   ]
  },
  {
   "cell_type": "code",
   "execution_count": 16,
   "metadata": {
    "id": "ofjND3Fm8tNG"
   },
   "outputs": [],
   "source": [
    "#Adding key words from Reddit\\Twitter - slang.\n",
    "new_words = {\n",
    "    'rocket': 1.0,\n",
    "    'banana': 1.0,\n",
    "    'full moon': 1.0,\n",
    "    'waxing gibbous moon': 1.0,\n",
    "    'crescent moon': 1.0,\n",
    "    'to the moon': 1.0,\n",
    "    'stonk': 1.0,\n",
    "    'gorila': 1.0,\n",
    "    'gang': 1.0,\n",
    "    'bitcoin': 1.0,\n",
    "    'gme': 1.0,\n",
    "    'hedge fund': -1.0,\n",
    "    'crypto': 1.0,\n",
    "    'Squeeze': 1.0,\n",
    "    'ApeStrongTogether': 1.0,\n",
    "    'Apes': 1.0,\n",
    "    'Ape': 1.0,\n",
    "    'repos': 1.0,\n",
    "    'DarkPoolAbuse ': -1.0,\n",
    "    'dark pool ': -1.0,\n",
    "    'dark MOASS ': 1.0,\n",
    "}\n",
    "analyzer.lexicon.update(new_words)"
   ]
  },
  {
   "cell_type": "code",
   "execution_count": 17,
   "metadata": {
    "colab": {
     "base_uri": "https://localhost:8080/"
    },
    "id": "y1S1LrVt8tNG",
    "outputId": "2ab370db-14bb-4c56-a100-382e31a6787f"
   },
   "outputs": [
    {
     "name": "stdout",
     "output_type": "stream",
     "text": [
      "CPU times: user 8.5 s, sys: 79.9 ms, total: 8.58 s\n",
      "Wall time: 9.63 s\n"
     ]
    }
   ],
   "source": [
    "%%time\n",
    "tweet_data['vader'] = tweet_data['tweet'].apply(lambda x: analyzer.polarity_scores(x)['compound']) # https://github.com/cjhutto/vaderSentiment\n"
   ]
  },
  {
   "cell_type": "markdown",
   "metadata": {
    "collapsed": false,
    "id": "uYmG1aev8tNG"
   },
   "source": [
    "## Textblob"
   ]
  },
  {
   "cell_type": "code",
   "execution_count": 18,
   "metadata": {
    "colab": {
     "base_uri": "https://localhost:8080/"
    },
    "id": "scFwS9Q78tNG",
    "outputId": "ade09bd6-2d31-4163-d779-9d4b2156a708"
   },
   "outputs": [
    {
     "name": "stdout",
     "output_type": "stream",
     "text": [
      "CPU times: user 15.2 s, sys: 105 ms, total: 15.3 s\n",
      "Wall time: 16.3 s\n"
     ]
    }
   ],
   "source": [
    "%%time\n",
    "tweet_data['textblob'] = tweet_data['text'].apply(lambda x: TextBlob(x).polarity)"
   ]
  },
  {
   "cell_type": "code",
   "execution_count": 19,
   "metadata": {
    "colab": {
     "base_uri": "https://localhost:8080/",
     "height": 902
    },
    "id": "oV73RmksJWbJ",
    "outputId": "32a9bb80-faa8-4e4d-ea9d-0eaeacb3489c"
   },
   "outputs": [
    {
     "data": {
      "text/plain": "       Unnamed: 0.2  Unnamed: 0.1    index  Unnamed: 0  \\\n0            246275        333135   354812     7242079   \n1            986744       1292458  1476476     8374478   \n2           1135815       1494023  1820000     8915720   \n3            714433        938030  1004903     7900185   \n4            575337        757193   809732     7703075   \n...             ...           ...      ...         ...   \n39995        445242        589370   630044     7520827   \n39996        940300       1232112  1411308     8308969   \n39997       1125309       1480630  1686351     8782003   \n39998        319225        426415   455123     7343696   \n39999        578039        760710   813465     7706830   \n\n                         date  \\\n0      2019-05-29 14:55:00+00   \n1      2019-06-14 18:24:23+00   \n2      2019-06-17 23:49:06+00   \n3      2019-06-08 03:01:57+00   \n4      2019-06-04 22:54:29+00   \n...                       ...   \n39995  2019-06-02 08:37:00+00   \n39996  2019-06-13 17:36:13+00   \n39997  2019-06-17 19:25:06+00   \n39998  2019-05-30 18:26:29+00   \n39999  2019-06-05 00:20:56+00   \n\n                                                   tweet         username  \\\n0      $btg / $btc: +9% value, +267% volume at #Binan...  cryptocoinradar   \n1      Cryptocurrency | Cryptocurrency Jewelry | Mens...  ArtHarmony_shop   \n2      @GainsPainsCapit @DavidBCollum @mark_dow The s...     paranoidbull   \n3      Bitcoin price analysis: 8 june, bitcoin is bul...   ClubInvestlife   \n4      @DRomATX Always better to get a bargain price ...         ivanba12   \n...                                                  ...              ...   \n39995  ⏰ LIQUIDATION on BTC-PERPETUAL ☠️️\\n\\n Bought ...      DeribitRekt   \n39996  @Lihams22 @BHoarder1 @CalvinAyre @oudekaas3 bt...     missourapete   \n39997  Sr Platform Engineer - Veear ( San Jose, Unite...   WorkInRobotics   \n39998  Be part of the future App Store https://t.co/D...     Kupi83921604   \n39999  @WinthorpeBot Everyone see that  BTC is  start...          koks_05   \n\n       link  retweets                                               text  \\\n0       NaN       1.0  $btg / $btc: +9% value, +267% volume at #Binan...   \n1       NaN       0.0  Cryptocurrency | Cryptocurrency Jewelry | Mens...   \n2       NaN       0.0  @GainsPainsCapit @DavidBCollum @mark_dow The s...   \n3       NaN       0.0  Bitcoin price analysis: 8 june, bitcoin is bul...   \n4       NaN       0.0  @DRomATX Always better to get a bargain price ...   \n...     ...       ...                                                ...   \n39995   NaN       0.0  LIQUIDATION on BTC-PERPETUAL Bought $130 of #B...   \n39996   NaN       0.0  @Lihams22 @BHoarder1 @CalvinAyre @oudekaas3 bt...   \n39997   NaN       0.0  Sr Platform Engineer - Veear ( San Jose, Unite...   \n39998   NaN       0.0  Be part of the future App Store @dapp_com Join...   \n39999   NaN       0.0  @WinthorpeBot Everyone see that BTC is startin...   \n\n        vader  textblob  \n0      0.3400  0.000000  \n1      0.0000  0.000000  \n2     -0.1779  0.025000  \n3      0.0000  0.000000  \n4      0.6693  0.175000  \n...       ...       ...  \n39995 -0.3400  0.000000  \n39996  0.0000  0.000000  \n39997  0.5859  0.000000  \n39998  0.8074  0.133333  \n39999  0.5562  0.250000  \n\n[40000 rows x 12 columns]",
      "text/html": "<div>\n<style scoped>\n    .dataframe tbody tr th:only-of-type {\n        vertical-align: middle;\n    }\n\n    .dataframe tbody tr th {\n        vertical-align: top;\n    }\n\n    .dataframe thead th {\n        text-align: right;\n    }\n</style>\n<table border=\"1\" class=\"dataframe\">\n  <thead>\n    <tr style=\"text-align: right;\">\n      <th></th>\n      <th>Unnamed: 0.2</th>\n      <th>Unnamed: 0.1</th>\n      <th>index</th>\n      <th>Unnamed: 0</th>\n      <th>date</th>\n      <th>tweet</th>\n      <th>username</th>\n      <th>link</th>\n      <th>retweets</th>\n      <th>text</th>\n      <th>vader</th>\n      <th>textblob</th>\n    </tr>\n  </thead>\n  <tbody>\n    <tr>\n      <th>0</th>\n      <td>246275</td>\n      <td>333135</td>\n      <td>354812</td>\n      <td>7242079</td>\n      <td>2019-05-29 14:55:00+00</td>\n      <td>$btg / $btc: +9% value, +267% volume at #Binan...</td>\n      <td>cryptocoinradar</td>\n      <td>NaN</td>\n      <td>1.0</td>\n      <td>$btg / $btc: +9% value, +267% volume at #Binan...</td>\n      <td>0.3400</td>\n      <td>0.000000</td>\n    </tr>\n    <tr>\n      <th>1</th>\n      <td>986744</td>\n      <td>1292458</td>\n      <td>1476476</td>\n      <td>8374478</td>\n      <td>2019-06-14 18:24:23+00</td>\n      <td>Cryptocurrency | Cryptocurrency Jewelry | Mens...</td>\n      <td>ArtHarmony_shop</td>\n      <td>NaN</td>\n      <td>0.0</td>\n      <td>Cryptocurrency | Cryptocurrency Jewelry | Mens...</td>\n      <td>0.0000</td>\n      <td>0.000000</td>\n    </tr>\n    <tr>\n      <th>2</th>\n      <td>1135815</td>\n      <td>1494023</td>\n      <td>1820000</td>\n      <td>8915720</td>\n      <td>2019-06-17 23:49:06+00</td>\n      <td>@GainsPainsCapit @DavidBCollum @mark_dow The s...</td>\n      <td>paranoidbull</td>\n      <td>NaN</td>\n      <td>0.0</td>\n      <td>@GainsPainsCapit @DavidBCollum @mark_dow The s...</td>\n      <td>-0.1779</td>\n      <td>0.025000</td>\n    </tr>\n    <tr>\n      <th>3</th>\n      <td>714433</td>\n      <td>938030</td>\n      <td>1004903</td>\n      <td>7900185</td>\n      <td>2019-06-08 03:01:57+00</td>\n      <td>Bitcoin price analysis: 8 june, bitcoin is bul...</td>\n      <td>ClubInvestlife</td>\n      <td>NaN</td>\n      <td>0.0</td>\n      <td>Bitcoin price analysis: 8 june, bitcoin is bul...</td>\n      <td>0.0000</td>\n      <td>0.000000</td>\n    </tr>\n    <tr>\n      <th>4</th>\n      <td>575337</td>\n      <td>757193</td>\n      <td>809732</td>\n      <td>7703075</td>\n      <td>2019-06-04 22:54:29+00</td>\n      <td>@DRomATX Always better to get a bargain price ...</td>\n      <td>ivanba12</td>\n      <td>NaN</td>\n      <td>0.0</td>\n      <td>@DRomATX Always better to get a bargain price ...</td>\n      <td>0.6693</td>\n      <td>0.175000</td>\n    </tr>\n    <tr>\n      <th>...</th>\n      <td>...</td>\n      <td>...</td>\n      <td>...</td>\n      <td>...</td>\n      <td>...</td>\n      <td>...</td>\n      <td>...</td>\n      <td>...</td>\n      <td>...</td>\n      <td>...</td>\n      <td>...</td>\n      <td>...</td>\n    </tr>\n    <tr>\n      <th>39995</th>\n      <td>445242</td>\n      <td>589370</td>\n      <td>630044</td>\n      <td>7520827</td>\n      <td>2019-06-02 08:37:00+00</td>\n      <td>⏰ LIQUIDATION on BTC-PERPETUAL ☠️️\\n\\n Bought ...</td>\n      <td>DeribitRekt</td>\n      <td>NaN</td>\n      <td>0.0</td>\n      <td>LIQUIDATION on BTC-PERPETUAL Bought $130 of #B...</td>\n      <td>-0.3400</td>\n      <td>0.000000</td>\n    </tr>\n    <tr>\n      <th>39996</th>\n      <td>940300</td>\n      <td>1232112</td>\n      <td>1411308</td>\n      <td>8308969</td>\n      <td>2019-06-13 17:36:13+00</td>\n      <td>@Lihams22 @BHoarder1 @CalvinAyre @oudekaas3 bt...</td>\n      <td>missourapete</td>\n      <td>NaN</td>\n      <td>0.0</td>\n      <td>@Lihams22 @BHoarder1 @CalvinAyre @oudekaas3 bt...</td>\n      <td>0.0000</td>\n      <td>0.000000</td>\n    </tr>\n    <tr>\n      <th>39997</th>\n      <td>1125309</td>\n      <td>1480630</td>\n      <td>1686351</td>\n      <td>8782003</td>\n      <td>2019-06-17 19:25:06+00</td>\n      <td>Sr Platform Engineer - Veear ( San Jose, Unite...</td>\n      <td>WorkInRobotics</td>\n      <td>NaN</td>\n      <td>0.0</td>\n      <td>Sr Platform Engineer - Veear ( San Jose, Unite...</td>\n      <td>0.5859</td>\n      <td>0.000000</td>\n    </tr>\n    <tr>\n      <th>39998</th>\n      <td>319225</td>\n      <td>426415</td>\n      <td>455123</td>\n      <td>7343696</td>\n      <td>2019-05-30 18:26:29+00</td>\n      <td>Be part of the future App Store https://t.co/D...</td>\n      <td>Kupi83921604</td>\n      <td>NaN</td>\n      <td>0.0</td>\n      <td>Be part of the future App Store @dapp_com Join...</td>\n      <td>0.8074</td>\n      <td>0.133333</td>\n    </tr>\n    <tr>\n      <th>39999</th>\n      <td>578039</td>\n      <td>760710</td>\n      <td>813465</td>\n      <td>7706830</td>\n      <td>2019-06-05 00:20:56+00</td>\n      <td>@WinthorpeBot Everyone see that  BTC is  start...</td>\n      <td>koks_05</td>\n      <td>NaN</td>\n      <td>0.0</td>\n      <td>@WinthorpeBot Everyone see that BTC is startin...</td>\n      <td>0.5562</td>\n      <td>0.250000</td>\n    </tr>\n  </tbody>\n</table>\n<p>40000 rows × 12 columns</p>\n</div>"
     },
     "execution_count": 19,
     "metadata": {},
     "output_type": "execute_result"
    }
   ],
   "source": [
    "tweet_data"
   ]
  },
  {
   "cell_type": "markdown",
   "source": [
    "## BERT"
   ],
   "metadata": {
    "collapsed": false
   }
  },
  {
   "cell_type": "code",
   "execution_count": null,
   "outputs": [],
   "source": [
    "from transformers import BertTokenizer, TFBertForSequenceClassification\n",
    "from transformers import InputExample, InputFeatures\n",
    "\n",
    "# Create a new model instance\n",
    "bert_model = TFBertForSequenceClassification.from_pretrained(\"bert-base-uncased\")\n",
    "\n",
    "\n",
    "tokenizer = BertTokenizer.from_pretrained(\"bert-base-uncased\")"
   ],
   "metadata": {
    "collapsed": false,
    "pycharm": {
     "name": "#%%\n"
    }
   }
  },
  {
   "cell_type": "code",
   "execution_count": 20,
   "metadata": {
    "colab": {
     "base_uri": "https://localhost:8080/",
     "height": 206
    },
    "id": "JIynvkVx1TfU",
    "outputId": "0bc27c1a-7fc0-431c-ea0a-abb184d00e87"
   },
   "outputs": [
    {
     "name": "stderr",
     "output_type": "stream",
     "text": [
      "2022-07-29 10:06:03.762107: I tensorflow/core/platform/cpu_feature_guard.cc:193] This TensorFlow binary is optimized with oneAPI Deep Neural Network Library (oneDNN) to use the following CPU instructions in performance-critical operations:  AVX2 FMA\n",
      "To enable them in other operations, rebuild TensorFlow with the appropriate compiler flags.\n",
      "All model checkpoint layers were used when initializing TFBertForSequenceClassification.\n",
      "\n",
      "Some layers of TFBertForSequenceClassification were not initialized from the model checkpoint at bert-base-uncased and are newly initialized: ['classifier']\n",
      "You should probably TRAIN this model on a down-stream task to be able to use it for predictions and inference.\n"
     ]
    }
   ],
   "source": [
    "# Restore the weights\n",
    "# bert_model.load_weights('./models/model_checkpoints/bert_model')\n",
    "bert_model.load_weights('./models/model_checkpoints/bert_model')"
   ]
  },
  {
   "cell_type": "code",
   "execution_count": 20,
   "outputs": [
    {
     "name": "stderr",
     "output_type": "stream",
     "text": [
      "2022-07-29 10:06:03.762107: I tensorflow/core/platform/cpu_feature_guard.cc:193] This TensorFlow binary is optimized with oneAPI Deep Neural Network Library (oneDNN) to use the following CPU instructions in performance-critical operations:  AVX2 FMA\n",
      "To enable them in other operations, rebuild TensorFlow with the appropriate compiler flags.\n",
      "All model checkpoint layers were used when initializing TFBertForSequenceClassification.\n",
      "\n",
      "Some layers of TFBertForSequenceClassification were not initialized from the model checkpoint at bert-base-uncased and are newly initialized: ['classifier']\n",
      "You should probably TRAIN this model on a down-stream task to be able to use it for predictions and inference.\n"
     ]
    }
   ],
   "source": [
    "%%time\n",
    "import tensorflow as tf\n",
    "def Bert_v(x):\n",
    "    tf_batch = tokenizer(x, max_length=128, padding=True, truncation=True, return_tensors='tf')\n",
    "    tf_outputs = bert_model(tf_batch)\n",
    "    tf_predictions = tf.nn.softmax(tf_outputs[0], axis=-1)\n",
    "    labels = [-1,1]\n",
    "    label = tf.argmax(tf_predictions, axis=1)\n",
    "    label = label.numpy()\n",
    "    return labels[label[0]]\n",
    "tweet_data['bert'] = np.vectorize(Bert_v)(tweet_data['text'])"
   ],
   "metadata": {
    "collapsed": false,
    "pycharm": {
     "name": "#%%\n"
    }
   }
  },
  {
   "cell_type": "code",
   "execution_count": 26,
   "outputs": [
    {
     "data": {
      "text/plain": "   Unnamed: 0.2  Unnamed: 0.1    index  Unnamed: 0                    date  \\\n0        246275        333135   354812     7242079  2019-05-29 14:55:00+00   \n1        986744       1292458  1476476     8374478  2019-06-14 18:24:23+00   \n2       1135815       1494023  1820000     8915720  2019-06-17 23:49:06+00   \n3        714433        938030  1004903     7900185  2019-06-08 03:01:57+00   \n4        575337        757193   809732     7703075  2019-06-04 22:54:29+00   \n\n                                               tweet         username  link  \\\n0  $btg / $btc: +9% value, +267% volume at #Binan...  cryptocoinradar   NaN   \n1  Cryptocurrency | Cryptocurrency Jewelry | Mens...  ArtHarmony_shop   NaN   \n2  @GainsPainsCapit @DavidBCollum @mark_dow The s...     paranoidbull   NaN   \n3  Bitcoin price analysis: 8 june, bitcoin is bul...   ClubInvestlife   NaN   \n4  @DRomATX Always better to get a bargain price ...         ivanba12   NaN   \n\n   retweets                                               text   vader  \\\n0       1.0  $btg / $btc: +9% value, +267% volume at #Binan...  0.3400   \n1       0.0  Cryptocurrency | Cryptocurrency Jewelry | Mens...  0.0000   \n2       0.0  @GainsPainsCapit @DavidBCollum @mark_dow The s... -0.1779   \n3       0.0  Bitcoin price analysis: 8 june, bitcoin is bul...  0.0000   \n4       0.0  @DRomATX Always better to get a bargain price ...  0.6693   \n\n   textblob  bert  \n0     0.000    -1  \n1     0.000    -1  \n2     0.025    -1  \n3     0.000    -1  \n4     0.175     1  ",
      "text/html": "<div>\n<style scoped>\n    .dataframe tbody tr th:only-of-type {\n        vertical-align: middle;\n    }\n\n    .dataframe tbody tr th {\n        vertical-align: top;\n    }\n\n    .dataframe thead th {\n        text-align: right;\n    }\n</style>\n<table border=\"1\" class=\"dataframe\">\n  <thead>\n    <tr style=\"text-align: right;\">\n      <th></th>\n      <th>Unnamed: 0.2</th>\n      <th>Unnamed: 0.1</th>\n      <th>index</th>\n      <th>Unnamed: 0</th>\n      <th>date</th>\n      <th>tweet</th>\n      <th>username</th>\n      <th>link</th>\n      <th>retweets</th>\n      <th>text</th>\n      <th>vader</th>\n      <th>textblob</th>\n      <th>bert</th>\n    </tr>\n  </thead>\n  <tbody>\n    <tr>\n      <th>0</th>\n      <td>246275</td>\n      <td>333135</td>\n      <td>354812</td>\n      <td>7242079</td>\n      <td>2019-05-29 14:55:00+00</td>\n      <td>$btg / $btc: +9% value, +267% volume at #Binan...</td>\n      <td>cryptocoinradar</td>\n      <td>NaN</td>\n      <td>1.0</td>\n      <td>$btg / $btc: +9% value, +267% volume at #Binan...</td>\n      <td>0.3400</td>\n      <td>0.000</td>\n      <td>-1</td>\n    </tr>\n    <tr>\n      <th>1</th>\n      <td>986744</td>\n      <td>1292458</td>\n      <td>1476476</td>\n      <td>8374478</td>\n      <td>2019-06-14 18:24:23+00</td>\n      <td>Cryptocurrency | Cryptocurrency Jewelry | Mens...</td>\n      <td>ArtHarmony_shop</td>\n      <td>NaN</td>\n      <td>0.0</td>\n      <td>Cryptocurrency | Cryptocurrency Jewelry | Mens...</td>\n      <td>0.0000</td>\n      <td>0.000</td>\n      <td>-1</td>\n    </tr>\n    <tr>\n      <th>2</th>\n      <td>1135815</td>\n      <td>1494023</td>\n      <td>1820000</td>\n      <td>8915720</td>\n      <td>2019-06-17 23:49:06+00</td>\n      <td>@GainsPainsCapit @DavidBCollum @mark_dow The s...</td>\n      <td>paranoidbull</td>\n      <td>NaN</td>\n      <td>0.0</td>\n      <td>@GainsPainsCapit @DavidBCollum @mark_dow The s...</td>\n      <td>-0.1779</td>\n      <td>0.025</td>\n      <td>-1</td>\n    </tr>\n    <tr>\n      <th>3</th>\n      <td>714433</td>\n      <td>938030</td>\n      <td>1004903</td>\n      <td>7900185</td>\n      <td>2019-06-08 03:01:57+00</td>\n      <td>Bitcoin price analysis: 8 june, bitcoin is bul...</td>\n      <td>ClubInvestlife</td>\n      <td>NaN</td>\n      <td>0.0</td>\n      <td>Bitcoin price analysis: 8 june, bitcoin is bul...</td>\n      <td>0.0000</td>\n      <td>0.000</td>\n      <td>-1</td>\n    </tr>\n    <tr>\n      <th>4</th>\n      <td>575337</td>\n      <td>757193</td>\n      <td>809732</td>\n      <td>7703075</td>\n      <td>2019-06-04 22:54:29+00</td>\n      <td>@DRomATX Always better to get a bargain price ...</td>\n      <td>ivanba12</td>\n      <td>NaN</td>\n      <td>0.0</td>\n      <td>@DRomATX Always better to get a bargain price ...</td>\n      <td>0.6693</td>\n      <td>0.175</td>\n      <td>1</td>\n    </tr>\n  </tbody>\n</table>\n</div>"
     },
     "execution_count": 26,
     "metadata": {},
     "output_type": "execute_result"
    }
   ],
   "source": [
    "tweet_data.head()"
   ],
   "metadata": {
    "collapsed": false,
    "pycharm": {
     "name": "#%%\n"
    }
   }
  },
  {
   "cell_type": "code",
   "execution_count": 27,
   "outputs": [
    {
     "data": {
      "text/plain": "                         date  \\\n0      2019-05-29 14:55:00+00   \n1      2019-06-14 18:24:23+00   \n2      2019-06-17 23:49:06+00   \n3      2019-06-08 03:01:57+00   \n4      2019-06-04 22:54:29+00   \n...                       ...   \n39995  2019-06-02 08:37:00+00   \n39996  2019-06-13 17:36:13+00   \n39997  2019-06-17 19:25:06+00   \n39998  2019-05-30 18:26:29+00   \n39999  2019-06-05 00:20:56+00   \n\n                                                    text  textblob   vader  \\\n0      $btg / $btc: +9% value, +267% volume at #Binan...  0.000000  0.3400   \n1      Cryptocurrency | Cryptocurrency Jewelry | Mens...  0.000000  0.0000   \n2      @GainsPainsCapit @DavidBCollum @mark_dow The s...  0.025000 -0.1779   \n3      Bitcoin price analysis: 8 june, bitcoin is bul...  0.000000  0.0000   \n4      @DRomATX Always better to get a bargain price ...  0.175000  0.6693   \n...                                                  ...       ...     ...   \n39995  LIQUIDATION on BTC-PERPETUAL Bought $130 of #B...  0.000000 -0.3400   \n39996  @Lihams22 @BHoarder1 @CalvinAyre @oudekaas3 bt...  0.000000  0.0000   \n39997  Sr Platform Engineer - Veear ( San Jose, Unite...  0.000000  0.5859   \n39998  Be part of the future App Store @dapp_com Join...  0.133333  0.8074   \n39999  @WinthorpeBot Everyone see that BTC is startin...  0.250000  0.5562   \n\n       bert  \n0        -1  \n1        -1  \n2        -1  \n3        -1  \n4         1  \n...     ...  \n39995     1  \n39996     1  \n39997    -1  \n39998    -1  \n39999     1  \n\n[40000 rows x 5 columns]",
      "text/html": "<div>\n<style scoped>\n    .dataframe tbody tr th:only-of-type {\n        vertical-align: middle;\n    }\n\n    .dataframe tbody tr th {\n        vertical-align: top;\n    }\n\n    .dataframe thead th {\n        text-align: right;\n    }\n</style>\n<table border=\"1\" class=\"dataframe\">\n  <thead>\n    <tr style=\"text-align: right;\">\n      <th></th>\n      <th>date</th>\n      <th>text</th>\n      <th>textblob</th>\n      <th>vader</th>\n      <th>bert</th>\n    </tr>\n  </thead>\n  <tbody>\n    <tr>\n      <th>0</th>\n      <td>2019-05-29 14:55:00+00</td>\n      <td>$btg / $btc: +9% value, +267% volume at #Binan...</td>\n      <td>0.000000</td>\n      <td>0.3400</td>\n      <td>-1</td>\n    </tr>\n    <tr>\n      <th>1</th>\n      <td>2019-06-14 18:24:23+00</td>\n      <td>Cryptocurrency | Cryptocurrency Jewelry | Mens...</td>\n      <td>0.000000</td>\n      <td>0.0000</td>\n      <td>-1</td>\n    </tr>\n    <tr>\n      <th>2</th>\n      <td>2019-06-17 23:49:06+00</td>\n      <td>@GainsPainsCapit @DavidBCollum @mark_dow The s...</td>\n      <td>0.025000</td>\n      <td>-0.1779</td>\n      <td>-1</td>\n    </tr>\n    <tr>\n      <th>3</th>\n      <td>2019-06-08 03:01:57+00</td>\n      <td>Bitcoin price analysis: 8 june, bitcoin is bul...</td>\n      <td>0.000000</td>\n      <td>0.0000</td>\n      <td>-1</td>\n    </tr>\n    <tr>\n      <th>4</th>\n      <td>2019-06-04 22:54:29+00</td>\n      <td>@DRomATX Always better to get a bargain price ...</td>\n      <td>0.175000</td>\n      <td>0.6693</td>\n      <td>1</td>\n    </tr>\n    <tr>\n      <th>...</th>\n      <td>...</td>\n      <td>...</td>\n      <td>...</td>\n      <td>...</td>\n      <td>...</td>\n    </tr>\n    <tr>\n      <th>39995</th>\n      <td>2019-06-02 08:37:00+00</td>\n      <td>LIQUIDATION on BTC-PERPETUAL Bought $130 of #B...</td>\n      <td>0.000000</td>\n      <td>-0.3400</td>\n      <td>1</td>\n    </tr>\n    <tr>\n      <th>39996</th>\n      <td>2019-06-13 17:36:13+00</td>\n      <td>@Lihams22 @BHoarder1 @CalvinAyre @oudekaas3 bt...</td>\n      <td>0.000000</td>\n      <td>0.0000</td>\n      <td>1</td>\n    </tr>\n    <tr>\n      <th>39997</th>\n      <td>2019-06-17 19:25:06+00</td>\n      <td>Sr Platform Engineer - Veear ( San Jose, Unite...</td>\n      <td>0.000000</td>\n      <td>0.5859</td>\n      <td>-1</td>\n    </tr>\n    <tr>\n      <th>39998</th>\n      <td>2019-05-30 18:26:29+00</td>\n      <td>Be part of the future App Store @dapp_com Join...</td>\n      <td>0.133333</td>\n      <td>0.8074</td>\n      <td>-1</td>\n    </tr>\n    <tr>\n      <th>39999</th>\n      <td>2019-06-05 00:20:56+00</td>\n      <td>@WinthorpeBot Everyone see that BTC is startin...</td>\n      <td>0.250000</td>\n      <td>0.5562</td>\n      <td>1</td>\n    </tr>\n  </tbody>\n</table>\n<p>40000 rows × 5 columns</p>\n</div>"
     },
     "execution_count": 27,
     "metadata": {},
     "output_type": "execute_result"
    }
   ],
   "source": [
    "tweets_sentiment_df = tweet_data[[\"date\", \"text\", \"textblob\", \"vader\", \"bert\"]]\n",
    "tweets_sentiment_df"
   ],
   "metadata": {
    "collapsed": false,
    "pycharm": {
     "name": "#%%\n"
    }
   }
  },
  {
   "cell_type": "code",
   "execution_count": 29,
   "outputs": [],
   "source": [
    "tweets_sentiment_df.to_csv(\"./datasets/senitiments_scores.csv\")"
   ],
   "metadata": {
    "collapsed": false,
    "pycharm": {
     "name": "#%%\n"
    }
   }
  }
 ],
 "metadata": {
  "accelerator": "GPU",
  "colab": {
   "collapsed_sections": [],
   "machine_shape": "hm",
   "name": "sentiment_analysis.ipynb",
   "provenance": []
  },
  "kernelspec": {
   "display_name": "Python 3 (ipykernel)",
   "language": "python",
   "name": "python3"
  },
  "language_info": {
   "codemirror_mode": {
    "name": "ipython",
    "version": 3
   },
   "file_extension": ".py",
   "mimetype": "text/x-python",
   "name": "python",
   "nbconvert_exporter": "python",
   "pygments_lexer": "ipython3",
   "version": "3.10.2"
  }
 },
 "nbformat": 4,
 "nbformat_minor": 0
}