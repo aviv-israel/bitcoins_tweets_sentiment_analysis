{
 "cells": [
  {
   "cell_type": "markdown",
   "metadata": {
    "collapsed": true,
    "pycharm": {
     "name": "#%% md\n"
    }
   },
   "source": [
    "# Tweets data reprocessing - Remove non-english and duplicates tweets"
   ]
  },
  {
   "cell_type": "code",
   "execution_count": 14,
   "metadata": {
    "pycharm": {
     "name": "#%%\n"
    }
   },
   "outputs": [
    {
     "name": "stderr",
     "output_type": "stream",
     "text": [
      "[nltk_data] Downloading package words to\n",
      "[nltk_data]     /Users/avivisrael/nltk_data...\n",
      "[nltk_data]   Package words is already up-to-date!\n",
      "[nltk_data] Downloading package wordnet to\n",
      "[nltk_data]     /Users/avivisrael/nltk_data...\n",
      "[nltk_data]   Package wordnet is already up-to-date!\n",
      "[nltk_data] Downloading package stopwords to\n",
      "[nltk_data]     /Users/avivisrael/nltk_data...\n",
      "[nltk_data]   Package stopwords is already up-to-date!\n"
     ]
    }
   ],
   "source": [
    "import pandas as pd\n",
    "import nltk\n",
    "from nltk import word_tokenize, sent_tokenize, FreqDist\n",
    "from nltk.corpus import stopwords\n",
    "from nltk.corpus import words\n",
    "from nltk.stem import LancasterStemmer, WordNetLemmatizer\n",
    "from nltk.tokenize.treebank import TreebankWordDetokenizer\n",
    "import ssl\n",
    "\n",
    "ssl._create_default_https_context = ssl._create_unverified_context\n",
    "nltk.download\n",
    "nltk.download('words')\n",
    "nltk.download('wordnet')\n",
    "nltk.download('stopwords')\n",
    "\n",
    "import langdetect as ld\n"
   ]
  },
  {
   "cell_type": "code",
   "execution_count": 15,
   "metadata": {
    "pycharm": {
     "name": "#%%\n"
    }
   },
   "outputs": [
    {
     "name": "stdout",
     "output_type": "stream",
     "text": [
      "Requirement already satisfied: langdetect in /Users/avivisrael/.virtualenvs/nlp2022_final_project/lib/python3.10/site-packages (1.0.9)\r\n",
      "Requirement already satisfied: six in /Users/avivisrael/.virtualenvs/nlp2022_final_project/lib/python3.10/site-packages (from langdetect) (1.16.0)\r\n",
      "\u001B[33mWARNING: You are using pip version 21.1.2; however, version 22.2 is available.\r\n",
      "You should consider upgrading via the '/Users/avivisrael/.virtualenvs/nlp2022_final_project/bin/python -m pip install --upgrade pip' command.\u001B[0m\r\n"
     ]
    }
   ],
   "source": [
    "!pip install langdetect"
   ]
  },
  {
   "cell_type": "code",
   "execution_count": 16,
   "outputs": [],
   "source": [
    "file_name = \"BTC_2019-05-25_2019-06-25__tweets_data_from_file\"\n",
    "file_path = \"../datasets/\"+ file_name + \".csv\""
   ],
   "metadata": {
    "collapsed": false,
    "pycharm": {
     "name": "#%%\n"
    }
   }
  },
  {
   "cell_type": "code",
   "execution_count": 17,
   "metadata": {
    "pycharm": {
     "name": "#%%\n"
    }
   },
   "outputs": [
    {
     "name": "stderr",
     "output_type": "stream",
     "text": [
      "/var/folders/8k/kjcv8fg107n9xl077vfg2_8m0000gn/T/ipykernel_62557/1967954396.py:1: DtypeWarning: Columns (0) have mixed types. Specify dtype option on import or set low_memory=False.\n",
      "  tweet_data = pd.read_csv(file_path)\n"
     ]
    }
   ],
   "source": [
    "tweet_data = pd.read_csv(file_path)"
   ]
  },
  {
   "cell_type": "code",
   "execution_count": 18,
   "metadata": {
    "pycharm": {
     "name": "#%%\n"
    }
   },
   "outputs": [
    {
     "data": {
      "text/plain": "2554035"
     },
     "execution_count": 18,
     "metadata": {},
     "output_type": "execute_result"
    }
   ],
   "source": [
    "len(tweet_data)"
   ]
  },
  {
   "cell_type": "code",
   "execution_count": 19,
   "outputs": [],
   "source": [
    "# remove retweet\n",
    "# result = tweet_data[tweet_data.retweets == False]"
   ],
   "metadata": {
    "collapsed": false,
    "pycharm": {
     "name": "#%%\n"
    }
   }
  },
  {
   "cell_type": "code",
   "execution_count": 20,
   "metadata": {
    "pycharm": {
     "name": "#%%\n"
    }
   },
   "outputs": [],
   "source": [
    "#drop duplicates\n",
    "tweet_data = tweet_data.drop_duplicates(subset=[\"tweet\",\"username\"]).reset_index()"
   ]
  },
  {
   "cell_type": "code",
   "execution_count": 21,
   "metadata": {
    "pycharm": {
     "name": "#%%\n"
    }
   },
   "outputs": [
    {
     "data": {
      "text/plain": "2024407"
     },
     "execution_count": 21,
     "metadata": {},
     "output_type": "execute_result"
    }
   ],
   "source": [
    "len(tweet_data)"
   ]
  },
  {
   "cell_type": "code",
   "execution_count": 22,
   "outputs": [],
   "source": [
    "counter =0\n",
    "tweets = len(tweet_data)\n",
    "def is_english(tweet):\n",
    "    global counter\n",
    "    counter = counter + 1\n",
    "\n",
    "    if(counter % 10000 == 0):\n",
    "        print(\"Completed: \"+ str(counter) +\"/\"+ str(tweets))\n",
    "    try:\n",
    "        return ld.detect(tweet)=='en'\n",
    "    except:\n",
    "        return False"
   ],
   "metadata": {
    "collapsed": false,
    "pycharm": {
     "name": "#%%\n"
    }
   }
  },
  {
   "cell_type": "code",
   "execution_count": 23,
   "outputs": [
    {
     "name": "stdout",
     "output_type": "stream",
     "text": [
      "Completed: 10000/2024407\n",
      "Completed: 20000/2024407\n",
      "Completed: 30000/2024407\n",
      "Completed: 40000/2024407\n",
      "Completed: 50000/2024407\n",
      "Completed: 60000/2024407\n",
      "Completed: 70000/2024407\n",
      "Completed: 80000/2024407\n",
      "Completed: 90000/2024407\n",
      "Completed: 100000/2024407\n",
      "Completed: 110000/2024407\n",
      "Completed: 120000/2024407\n",
      "Completed: 130000/2024407\n",
      "Completed: 140000/2024407\n",
      "Completed: 150000/2024407\n",
      "Completed: 160000/2024407\n",
      "Completed: 170000/2024407\n",
      "Completed: 180000/2024407\n",
      "Completed: 190000/2024407\n",
      "Completed: 200000/2024407\n",
      "Completed: 210000/2024407\n",
      "Completed: 220000/2024407\n",
      "Completed: 230000/2024407\n",
      "Completed: 240000/2024407\n",
      "Completed: 250000/2024407\n",
      "Completed: 260000/2024407\n",
      "Completed: 270000/2024407\n",
      "Completed: 280000/2024407\n",
      "Completed: 290000/2024407\n",
      "Completed: 300000/2024407\n",
      "Completed: 310000/2024407\n",
      "Completed: 320000/2024407\n",
      "Completed: 330000/2024407\n",
      "Completed: 340000/2024407\n",
      "Completed: 350000/2024407\n",
      "Completed: 360000/2024407\n",
      "Completed: 370000/2024407\n",
      "Completed: 380000/2024407\n",
      "Completed: 390000/2024407\n",
      "Completed: 400000/2024407\n",
      "Completed: 410000/2024407\n",
      "Completed: 420000/2024407\n",
      "Completed: 430000/2024407\n",
      "Completed: 440000/2024407\n",
      "Completed: 450000/2024407\n",
      "Completed: 460000/2024407\n",
      "Completed: 470000/2024407\n",
      "Completed: 480000/2024407\n",
      "Completed: 490000/2024407\n",
      "Completed: 500000/2024407\n",
      "Completed: 510000/2024407\n",
      "Completed: 520000/2024407\n",
      "Completed: 530000/2024407\n",
      "Completed: 540000/2024407\n",
      "Completed: 550000/2024407\n",
      "Completed: 560000/2024407\n",
      "Completed: 570000/2024407\n",
      "Completed: 580000/2024407\n",
      "Completed: 590000/2024407\n",
      "Completed: 600000/2024407\n",
      "Completed: 610000/2024407\n",
      "Completed: 620000/2024407\n",
      "Completed: 630000/2024407\n",
      "Completed: 640000/2024407\n",
      "Completed: 650000/2024407\n",
      "Completed: 660000/2024407\n",
      "Completed: 670000/2024407\n",
      "Completed: 680000/2024407\n",
      "Completed: 690000/2024407\n",
      "Completed: 700000/2024407\n",
      "Completed: 710000/2024407\n",
      "Completed: 720000/2024407\n",
      "Completed: 730000/2024407\n",
      "Completed: 740000/2024407\n",
      "Completed: 750000/2024407\n",
      "Completed: 760000/2024407\n",
      "Completed: 770000/2024407\n",
      "Completed: 780000/2024407\n",
      "Completed: 790000/2024407\n",
      "Completed: 800000/2024407\n",
      "Completed: 810000/2024407\n",
      "Completed: 820000/2024407\n",
      "Completed: 830000/2024407\n",
      "Completed: 840000/2024407\n",
      "Completed: 850000/2024407\n",
      "Completed: 860000/2024407\n",
      "Completed: 870000/2024407\n",
      "Completed: 880000/2024407\n",
      "Completed: 890000/2024407\n",
      "Completed: 900000/2024407\n",
      "Completed: 910000/2024407\n",
      "Completed: 920000/2024407\n",
      "Completed: 930000/2024407\n",
      "Completed: 940000/2024407\n",
      "Completed: 950000/2024407\n",
      "Completed: 960000/2024407\n",
      "Completed: 970000/2024407\n",
      "Completed: 980000/2024407\n",
      "Completed: 990000/2024407\n",
      "Completed: 1000000/2024407\n",
      "Completed: 1010000/2024407\n",
      "Completed: 1020000/2024407\n",
      "Completed: 1030000/2024407\n",
      "Completed: 1040000/2024407\n",
      "Completed: 1050000/2024407\n",
      "Completed: 1060000/2024407\n",
      "Completed: 1070000/2024407\n",
      "Completed: 1080000/2024407\n",
      "Completed: 1090000/2024407\n",
      "Completed: 1100000/2024407\n",
      "Completed: 1110000/2024407\n",
      "Completed: 1120000/2024407\n",
      "Completed: 1130000/2024407\n",
      "Completed: 1140000/2024407\n",
      "Completed: 1150000/2024407\n",
      "Completed: 1160000/2024407\n",
      "Completed: 1170000/2024407\n",
      "Completed: 1180000/2024407\n",
      "Completed: 1190000/2024407\n",
      "Completed: 1200000/2024407\n",
      "Completed: 1210000/2024407\n",
      "Completed: 1220000/2024407\n",
      "Completed: 1230000/2024407\n",
      "Completed: 1240000/2024407\n",
      "Completed: 1250000/2024407\n",
      "Completed: 1260000/2024407\n",
      "Completed: 1270000/2024407\n",
      "Completed: 1280000/2024407\n",
      "Completed: 1290000/2024407\n",
      "Completed: 1300000/2024407\n",
      "Completed: 1310000/2024407\n",
      "Completed: 1320000/2024407\n",
      "Completed: 1330000/2024407\n",
      "Completed: 1340000/2024407\n",
      "Completed: 1350000/2024407\n",
      "Completed: 1360000/2024407\n",
      "Completed: 1370000/2024407\n",
      "Completed: 1380000/2024407\n",
      "Completed: 1390000/2024407\n",
      "Completed: 1400000/2024407\n",
      "Completed: 1410000/2024407\n",
      "Completed: 1420000/2024407\n",
      "Completed: 1430000/2024407\n",
      "Completed: 1440000/2024407\n",
      "Completed: 1450000/2024407\n",
      "Completed: 1460000/2024407\n",
      "Completed: 1470000/2024407\n",
      "Completed: 1480000/2024407\n",
      "Completed: 1490000/2024407\n",
      "Completed: 1500000/2024407\n",
      "Completed: 1510000/2024407\n",
      "Completed: 1520000/2024407\n",
      "Completed: 1530000/2024407\n",
      "Completed: 1540000/2024407\n",
      "Completed: 1550000/2024407\n",
      "Completed: 1560000/2024407\n",
      "Completed: 1570000/2024407\n",
      "Completed: 1580000/2024407\n",
      "Completed: 1590000/2024407\n",
      "Completed: 1600000/2024407\n",
      "Completed: 1610000/2024407\n",
      "Completed: 1620000/2024407\n",
      "Completed: 1630000/2024407\n",
      "Completed: 1640000/2024407\n",
      "Completed: 1650000/2024407\n",
      "Completed: 1660000/2024407\n",
      "Completed: 1670000/2024407\n",
      "Completed: 1680000/2024407\n",
      "Completed: 1690000/2024407\n",
      "Completed: 1700000/2024407\n",
      "Completed: 1710000/2024407\n",
      "Completed: 1720000/2024407\n",
      "Completed: 1730000/2024407\n",
      "Completed: 1740000/2024407\n",
      "Completed: 1750000/2024407\n",
      "Completed: 1760000/2024407\n",
      "Completed: 1770000/2024407\n",
      "Completed: 1780000/2024407\n",
      "Completed: 1790000/2024407\n",
      "Completed: 1800000/2024407\n",
      "Completed: 1810000/2024407\n",
      "Completed: 1820000/2024407\n",
      "Completed: 1830000/2024407\n",
      "Completed: 1840000/2024407\n",
      "Completed: 1850000/2024407\n",
      "Completed: 1860000/2024407\n",
      "Completed: 1870000/2024407\n",
      "Completed: 1880000/2024407\n",
      "Completed: 1890000/2024407\n",
      "Completed: 1900000/2024407\n",
      "Completed: 1910000/2024407\n",
      "Completed: 1920000/2024407\n",
      "Completed: 1930000/2024407\n",
      "Completed: 1940000/2024407\n",
      "Completed: 1950000/2024407\n",
      "Completed: 1960000/2024407\n",
      "Completed: 1970000/2024407\n",
      "Completed: 1980000/2024407\n",
      "Completed: 1990000/2024407\n",
      "Completed: 2000000/2024407\n",
      "Completed: 2010000/2024407\n",
      "Completed: 2020000/2024407\n"
     ]
    }
   ],
   "source": [
    "#remove non english tweets\n",
    "tweet_data = tweet_data[tweet_data['tweet'].apply(is_english)]"
   ],
   "metadata": {
    "collapsed": false,
    "pycharm": {
     "name": "#%%\n"
    }
   }
  },
  {
   "cell_type": "code",
   "execution_count": 24,
   "outputs": [],
   "source": [
    "tweet_data.to_csv(\"./../datasets/\"+ file_name + \"_english_no_duplicates.csv\")"
   ],
   "metadata": {
    "collapsed": false,
    "pycharm": {
     "name": "#%%\n"
    }
   }
  },
  {
   "cell_type": "code",
   "execution_count": 25,
   "outputs": [
    {
     "data": {
      "text/plain": "1539619"
     },
     "execution_count": 25,
     "metadata": {},
     "output_type": "execute_result"
    }
   ],
   "source": [
    "len(tweet_data)"
   ],
   "metadata": {
    "collapsed": false,
    "pycharm": {
     "name": "#%%\n"
    }
   }
  },
  {
   "cell_type": "code",
   "execution_count": 26,
   "outputs": [],
   "source": [
    "tweet_data = pd.read_csv(\"../datasets/BTC_2019-05-25_2019-06-25__tweets_data_from_file_english_no_duplicates.csv\")"
   ],
   "metadata": {
    "collapsed": false,
    "pycharm": {
     "name": "#%%\n"
    }
   }
  },
  {
   "cell_type": "code",
   "execution_count": 27,
   "outputs": [],
   "source": [
    "tweet_data_sample = tweet_data.sample(n=40000)"
   ],
   "metadata": {
    "collapsed": false,
    "pycharm": {
     "name": "#%%\n"
    }
   }
  },
  {
   "cell_type": "code",
   "execution_count": 28,
   "outputs": [
    {
     "data": {
      "text/plain": "         Unnamed: 0.1    index  Unnamed: 0                    date  \\\n246275         333135   354812     7242079  2019-05-29 14:55:00+00   \n986744        1292458  1476476     8374478  2019-06-14 18:24:23+00   \n1135815       1494023  1820000     8915720  2019-06-17 23:49:06+00   \n714433         938030  1004903     7900185  2019-06-08 03:01:57+00   \n575337         757193   809732     7703075  2019-06-04 22:54:29+00   \n...               ...      ...         ...                     ...   \n445242         589370   630044     7520827  2019-06-02 08:37:00+00   \n940300        1232112  1411308     8308969  2019-06-13 17:36:13+00   \n1125309       1480630  1686351     8782003  2019-06-17 19:25:06+00   \n319225         426415   455123     7343696  2019-05-30 18:26:29+00   \n578039         760710   813465     7706830  2019-06-05 00:20:56+00   \n\n                                                     tweet         username  \\\n246275   $btg / $btc: +9% value, +267% volume at #Binan...  cryptocoinradar   \n986744   Cryptocurrency | Cryptocurrency Jewelry | Mens...  ArtHarmony_shop   \n1135815  @GainsPainsCapit @DavidBCollum @mark_dow The s...     paranoidbull   \n714433   Bitcoin price analysis: 8 june, bitcoin is bul...   ClubInvestlife   \n575337   @DRomATX Always better to get a bargain price ...         ivanba12   \n...                                                    ...              ...   \n445242   ⏰ LIQUIDATION on BTC-PERPETUAL ☠️️\\n\\n Bought ...      DeribitRekt   \n940300   @Lihams22 @BHoarder1 @CalvinAyre @oudekaas3 bt...     missourapete   \n1125309  Sr Platform Engineer - Veear ( San Jose, Unite...   WorkInRobotics   \n319225   Be part of the future App Store https://t.co/D...     Kupi83921604   \n578039   @WinthorpeBot Everyone see that  BTC is  start...          koks_05   \n\n         link  retweets  \n246275    NaN       1.0  \n986744    NaN       0.0  \n1135815   NaN       0.0  \n714433    NaN       0.0  \n575337    NaN       0.0  \n...       ...       ...  \n445242    NaN       0.0  \n940300    NaN       0.0  \n1125309   NaN       0.0  \n319225    NaN       0.0  \n578039    NaN       0.0  \n\n[40000 rows x 8 columns]",
      "text/html": "<div>\n<style scoped>\n    .dataframe tbody tr th:only-of-type {\n        vertical-align: middle;\n    }\n\n    .dataframe tbody tr th {\n        vertical-align: top;\n    }\n\n    .dataframe thead th {\n        text-align: right;\n    }\n</style>\n<table border=\"1\" class=\"dataframe\">\n  <thead>\n    <tr style=\"text-align: right;\">\n      <th></th>\n      <th>Unnamed: 0.1</th>\n      <th>index</th>\n      <th>Unnamed: 0</th>\n      <th>date</th>\n      <th>tweet</th>\n      <th>username</th>\n      <th>link</th>\n      <th>retweets</th>\n    </tr>\n  </thead>\n  <tbody>\n    <tr>\n      <th>246275</th>\n      <td>333135</td>\n      <td>354812</td>\n      <td>7242079</td>\n      <td>2019-05-29 14:55:00+00</td>\n      <td>$btg / $btc: +9% value, +267% volume at #Binan...</td>\n      <td>cryptocoinradar</td>\n      <td>NaN</td>\n      <td>1.0</td>\n    </tr>\n    <tr>\n      <th>986744</th>\n      <td>1292458</td>\n      <td>1476476</td>\n      <td>8374478</td>\n      <td>2019-06-14 18:24:23+00</td>\n      <td>Cryptocurrency | Cryptocurrency Jewelry | Mens...</td>\n      <td>ArtHarmony_shop</td>\n      <td>NaN</td>\n      <td>0.0</td>\n    </tr>\n    <tr>\n      <th>1135815</th>\n      <td>1494023</td>\n      <td>1820000</td>\n      <td>8915720</td>\n      <td>2019-06-17 23:49:06+00</td>\n      <td>@GainsPainsCapit @DavidBCollum @mark_dow The s...</td>\n      <td>paranoidbull</td>\n      <td>NaN</td>\n      <td>0.0</td>\n    </tr>\n    <tr>\n      <th>714433</th>\n      <td>938030</td>\n      <td>1004903</td>\n      <td>7900185</td>\n      <td>2019-06-08 03:01:57+00</td>\n      <td>Bitcoin price analysis: 8 june, bitcoin is bul...</td>\n      <td>ClubInvestlife</td>\n      <td>NaN</td>\n      <td>0.0</td>\n    </tr>\n    <tr>\n      <th>575337</th>\n      <td>757193</td>\n      <td>809732</td>\n      <td>7703075</td>\n      <td>2019-06-04 22:54:29+00</td>\n      <td>@DRomATX Always better to get a bargain price ...</td>\n      <td>ivanba12</td>\n      <td>NaN</td>\n      <td>0.0</td>\n    </tr>\n    <tr>\n      <th>...</th>\n      <td>...</td>\n      <td>...</td>\n      <td>...</td>\n      <td>...</td>\n      <td>...</td>\n      <td>...</td>\n      <td>...</td>\n      <td>...</td>\n    </tr>\n    <tr>\n      <th>445242</th>\n      <td>589370</td>\n      <td>630044</td>\n      <td>7520827</td>\n      <td>2019-06-02 08:37:00+00</td>\n      <td>⏰ LIQUIDATION on BTC-PERPETUAL ☠️️\\n\\n Bought ...</td>\n      <td>DeribitRekt</td>\n      <td>NaN</td>\n      <td>0.0</td>\n    </tr>\n    <tr>\n      <th>940300</th>\n      <td>1232112</td>\n      <td>1411308</td>\n      <td>8308969</td>\n      <td>2019-06-13 17:36:13+00</td>\n      <td>@Lihams22 @BHoarder1 @CalvinAyre @oudekaas3 bt...</td>\n      <td>missourapete</td>\n      <td>NaN</td>\n      <td>0.0</td>\n    </tr>\n    <tr>\n      <th>1125309</th>\n      <td>1480630</td>\n      <td>1686351</td>\n      <td>8782003</td>\n      <td>2019-06-17 19:25:06+00</td>\n      <td>Sr Platform Engineer - Veear ( San Jose, Unite...</td>\n      <td>WorkInRobotics</td>\n      <td>NaN</td>\n      <td>0.0</td>\n    </tr>\n    <tr>\n      <th>319225</th>\n      <td>426415</td>\n      <td>455123</td>\n      <td>7343696</td>\n      <td>2019-05-30 18:26:29+00</td>\n      <td>Be part of the future App Store https://t.co/D...</td>\n      <td>Kupi83921604</td>\n      <td>NaN</td>\n      <td>0.0</td>\n    </tr>\n    <tr>\n      <th>578039</th>\n      <td>760710</td>\n      <td>813465</td>\n      <td>7706830</td>\n      <td>2019-06-05 00:20:56+00</td>\n      <td>@WinthorpeBot Everyone see that  BTC is  start...</td>\n      <td>koks_05</td>\n      <td>NaN</td>\n      <td>0.0</td>\n    </tr>\n  </tbody>\n</table>\n<p>40000 rows × 8 columns</p>\n</div>"
     },
     "execution_count": 28,
     "metadata": {},
     "output_type": "execute_result"
    }
   ],
   "source": [
    "tweet_data_sample"
   ],
   "metadata": {
    "collapsed": false,
    "pycharm": {
     "name": "#%%\n"
    }
   }
  },
  {
   "cell_type": "code",
   "execution_count": 30,
   "outputs": [],
   "source": [
    "tweet_data_sample.to_csv(\"./../datasets/\"+ file_name + \"_english_no_duplicates_sampe_40K.csv\")"
   ],
   "metadata": {
    "collapsed": false,
    "pycharm": {
     "name": "#%%\n"
    }
   }
  }
 ],
 "metadata": {
  "kernelspec": {
   "display_name": "Python 3 (ipykernel)",
   "language": "python",
   "name": "python3"
  },
  "language_info": {
   "codemirror_mode": {
    "name": "ipython",
    "version": 2
   },
   "file_extension": ".py",
   "mimetype": "text/x-python",
   "name": "python",
   "nbconvert_exporter": "python",
   "pygments_lexer": "ipython2",
   "version": "2.7.6"
  }
 },
 "nbformat": 4,
 "nbformat_minor": 1
}