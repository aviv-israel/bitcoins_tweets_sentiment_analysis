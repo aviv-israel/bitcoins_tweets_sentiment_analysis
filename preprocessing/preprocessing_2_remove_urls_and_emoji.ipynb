{
 "cells": [
  {
   "cell_type": "markdown",
   "source": [
    "# Tweets data reprocessing - clean urls and emoji from tweets"
   ],
   "metadata": {
    "collapsed": false
   }
  },
  {
   "cell_type": "code",
   "execution_count": 2,
   "metadata": {
    "id": "6pcRkb304sf3"
   },
   "outputs": [],
   "source": [
    "\n",
    "import pandas as pd\n",
    "import seaborn as sns\n",
    "import warnings\n",
    "warnings.filterwarnings(\"ignore\")\n",
    "sns.set(font_scale=1.5)\n",
    "sns.set_style(\"whitegrid\")\n",
    "import preprocessor as p\n"
   ]
  },
  {
   "cell_type": "markdown",
   "metadata": {
    "id": "mLCm4cZNf3iu"
   },
   "source": [
    "---"
   ]
  },
  {
   "cell_type": "code",
   "execution_count": 3,
   "metadata": {
    "id": "LTuDVqGS_GJ_"
   },
   "outputs": [],
   "source": [
    "file_name = \"BTC_2019-05-25_2019-06-25__tweets_data_from_file\""
   ]
  },
  {
   "cell_type": "code",
   "execution_count": 4,
   "metadata": {
    "id": "GJSgAb068tNC"
   },
   "outputs": [],
   "source": [
    "tweet_data = pd.read_csv(\"./datasets/\" + file_name + \"_english_no_duplicates_sampe_40K.csv\")"
   ]
  },
  {
   "cell_type": "code",
   "execution_count": 6,
   "metadata": {
    "colab": {
     "base_uri": "https://localhost:8080/",
     "height": 354
    },
    "id": "VXz4SlBAPVm_",
    "outputId": "6165cf55-984c-4e27-f764-0db44eacb90f"
   },
   "outputs": [
    {
     "data": {
      "text/plain": "       Unnamed: 0.2  Unnamed: 0.1    index  Unnamed: 0  \\\n39995        445242        589370   630044     7520827   \n39996        940300       1232112  1411308     8308969   \n39997       1125309       1480630  1686351     8782003   \n39998        319225        426415   455123     7343696   \n39999        578039        760710   813465     7706830   \n\n                         date  \\\n39995  2019-06-02 08:37:00+00   \n39996  2019-06-13 17:36:13+00   \n39997  2019-06-17 19:25:06+00   \n39998  2019-05-30 18:26:29+00   \n39999  2019-06-05 00:20:56+00   \n\n                                                   tweet        username  \\\n39995  ⏰ LIQUIDATION on BTC-PERPETUAL ☠️️\\n\\n Bought ...     DeribitRekt   \n39996  @Lihams22 @BHoarder1 @CalvinAyre @oudekaas3 bt...    missourapete   \n39997  Sr Platform Engineer - Veear ( San Jose, Unite...  WorkInRobotics   \n39998  Be part of the future App Store https://t.co/D...    Kupi83921604   \n39999  @WinthorpeBot Everyone see that  BTC is  start...         koks_05   \n\n       link  retweets  \n39995   NaN       0.0  \n39996   NaN       0.0  \n39997   NaN       0.0  \n39998   NaN       0.0  \n39999   NaN       0.0  ",
      "text/html": "<div>\n<style scoped>\n    .dataframe tbody tr th:only-of-type {\n        vertical-align: middle;\n    }\n\n    .dataframe tbody tr th {\n        vertical-align: top;\n    }\n\n    .dataframe thead th {\n        text-align: right;\n    }\n</style>\n<table border=\"1\" class=\"dataframe\">\n  <thead>\n    <tr style=\"text-align: right;\">\n      <th></th>\n      <th>Unnamed: 0.2</th>\n      <th>Unnamed: 0.1</th>\n      <th>index</th>\n      <th>Unnamed: 0</th>\n      <th>date</th>\n      <th>tweet</th>\n      <th>username</th>\n      <th>link</th>\n      <th>retweets</th>\n    </tr>\n  </thead>\n  <tbody>\n    <tr>\n      <th>39995</th>\n      <td>445242</td>\n      <td>589370</td>\n      <td>630044</td>\n      <td>7520827</td>\n      <td>2019-06-02 08:37:00+00</td>\n      <td>⏰ LIQUIDATION on BTC-PERPETUAL ☠️️\\n\\n Bought ...</td>\n      <td>DeribitRekt</td>\n      <td>NaN</td>\n      <td>0.0</td>\n    </tr>\n    <tr>\n      <th>39996</th>\n      <td>940300</td>\n      <td>1232112</td>\n      <td>1411308</td>\n      <td>8308969</td>\n      <td>2019-06-13 17:36:13+00</td>\n      <td>@Lihams22 @BHoarder1 @CalvinAyre @oudekaas3 bt...</td>\n      <td>missourapete</td>\n      <td>NaN</td>\n      <td>0.0</td>\n    </tr>\n    <tr>\n      <th>39997</th>\n      <td>1125309</td>\n      <td>1480630</td>\n      <td>1686351</td>\n      <td>8782003</td>\n      <td>2019-06-17 19:25:06+00</td>\n      <td>Sr Platform Engineer - Veear ( San Jose, Unite...</td>\n      <td>WorkInRobotics</td>\n      <td>NaN</td>\n      <td>0.0</td>\n    </tr>\n    <tr>\n      <th>39998</th>\n      <td>319225</td>\n      <td>426415</td>\n      <td>455123</td>\n      <td>7343696</td>\n      <td>2019-05-30 18:26:29+00</td>\n      <td>Be part of the future App Store https://t.co/D...</td>\n      <td>Kupi83921604</td>\n      <td>NaN</td>\n      <td>0.0</td>\n    </tr>\n    <tr>\n      <th>39999</th>\n      <td>578039</td>\n      <td>760710</td>\n      <td>813465</td>\n      <td>7706830</td>\n      <td>2019-06-05 00:20:56+00</td>\n      <td>@WinthorpeBot Everyone see that  BTC is  start...</td>\n      <td>koks_05</td>\n      <td>NaN</td>\n      <td>0.0</td>\n    </tr>\n  </tbody>\n</table>\n</div>"
     },
     "execution_count": 6,
     "metadata": {},
     "output_type": "execute_result"
    }
   ],
   "source": [
    "tweet_data.tail()"
   ]
  },
  {
   "cell_type": "code",
   "execution_count": 7,
   "outputs": [
    {
     "data": {
      "text/plain": "       Unnamed: 0.2  Unnamed: 0.1    index  Unnamed: 0  \\\n0            246275        333135   354812     7242079   \n1            986744       1292458  1476476     8374478   \n2           1135815       1494023  1820000     8915720   \n3            714433        938030  1004903     7900185   \n4            575337        757193   809732     7703075   \n...             ...           ...      ...         ...   \n39995        445242        589370   630044     7520827   \n39996        940300       1232112  1411308     8308969   \n39997       1125309       1480630  1686351     8782003   \n39998        319225        426415   455123     7343696   \n39999        578039        760710   813465     7706830   \n\n                         date  \\\n0      2019-05-29 14:55:00+00   \n1      2019-06-14 18:24:23+00   \n2      2019-06-17 23:49:06+00   \n3      2019-06-08 03:01:57+00   \n4      2019-06-04 22:54:29+00   \n...                       ...   \n39995  2019-06-02 08:37:00+00   \n39996  2019-06-13 17:36:13+00   \n39997  2019-06-17 19:25:06+00   \n39998  2019-05-30 18:26:29+00   \n39999  2019-06-05 00:20:56+00   \n\n                                                   tweet         username  \\\n0      $btg / $btc: +9% value, +267% volume at #Binan...  cryptocoinradar   \n1      Cryptocurrency | Cryptocurrency Jewelry | Mens...  ArtHarmony_shop   \n2      @GainsPainsCapit @DavidBCollum @mark_dow The s...     paranoidbull   \n3      Bitcoin price analysis: 8 june, bitcoin is bul...   ClubInvestlife   \n4      @DRomATX Always better to get a bargain price ...         ivanba12   \n...                                                  ...              ...   \n39995  ⏰ LIQUIDATION on BTC-PERPETUAL ☠️️\\n\\n Bought ...      DeribitRekt   \n39996  @Lihams22 @BHoarder1 @CalvinAyre @oudekaas3 bt...     missourapete   \n39997  Sr Platform Engineer - Veear ( San Jose, Unite...   WorkInRobotics   \n39998  Be part of the future App Store https://t.co/D...     Kupi83921604   \n39999  @WinthorpeBot Everyone see that  BTC is  start...          koks_05   \n\n       link  retweets  \n0       NaN       1.0  \n1       NaN       0.0  \n2       NaN       0.0  \n3       NaN       0.0  \n4       NaN       0.0  \n...     ...       ...  \n39995   NaN       0.0  \n39996   NaN       0.0  \n39997   NaN       0.0  \n39998   NaN       0.0  \n39999   NaN       0.0  \n\n[40000 rows x 9 columns]",
      "text/html": "<div>\n<style scoped>\n    .dataframe tbody tr th:only-of-type {\n        vertical-align: middle;\n    }\n\n    .dataframe tbody tr th {\n        vertical-align: top;\n    }\n\n    .dataframe thead th {\n        text-align: right;\n    }\n</style>\n<table border=\"1\" class=\"dataframe\">\n  <thead>\n    <tr style=\"text-align: right;\">\n      <th></th>\n      <th>Unnamed: 0.2</th>\n      <th>Unnamed: 0.1</th>\n      <th>index</th>\n      <th>Unnamed: 0</th>\n      <th>date</th>\n      <th>tweet</th>\n      <th>username</th>\n      <th>link</th>\n      <th>retweets</th>\n    </tr>\n  </thead>\n  <tbody>\n    <tr>\n      <th>0</th>\n      <td>246275</td>\n      <td>333135</td>\n      <td>354812</td>\n      <td>7242079</td>\n      <td>2019-05-29 14:55:00+00</td>\n      <td>$btg / $btc: +9% value, +267% volume at #Binan...</td>\n      <td>cryptocoinradar</td>\n      <td>NaN</td>\n      <td>1.0</td>\n    </tr>\n    <tr>\n      <th>1</th>\n      <td>986744</td>\n      <td>1292458</td>\n      <td>1476476</td>\n      <td>8374478</td>\n      <td>2019-06-14 18:24:23+00</td>\n      <td>Cryptocurrency | Cryptocurrency Jewelry | Mens...</td>\n      <td>ArtHarmony_shop</td>\n      <td>NaN</td>\n      <td>0.0</td>\n    </tr>\n    <tr>\n      <th>2</th>\n      <td>1135815</td>\n      <td>1494023</td>\n      <td>1820000</td>\n      <td>8915720</td>\n      <td>2019-06-17 23:49:06+00</td>\n      <td>@GainsPainsCapit @DavidBCollum @mark_dow The s...</td>\n      <td>paranoidbull</td>\n      <td>NaN</td>\n      <td>0.0</td>\n    </tr>\n    <tr>\n      <th>3</th>\n      <td>714433</td>\n      <td>938030</td>\n      <td>1004903</td>\n      <td>7900185</td>\n      <td>2019-06-08 03:01:57+00</td>\n      <td>Bitcoin price analysis: 8 june, bitcoin is bul...</td>\n      <td>ClubInvestlife</td>\n      <td>NaN</td>\n      <td>0.0</td>\n    </tr>\n    <tr>\n      <th>4</th>\n      <td>575337</td>\n      <td>757193</td>\n      <td>809732</td>\n      <td>7703075</td>\n      <td>2019-06-04 22:54:29+00</td>\n      <td>@DRomATX Always better to get a bargain price ...</td>\n      <td>ivanba12</td>\n      <td>NaN</td>\n      <td>0.0</td>\n    </tr>\n    <tr>\n      <th>...</th>\n      <td>...</td>\n      <td>...</td>\n      <td>...</td>\n      <td>...</td>\n      <td>...</td>\n      <td>...</td>\n      <td>...</td>\n      <td>...</td>\n      <td>...</td>\n    </tr>\n    <tr>\n      <th>39995</th>\n      <td>445242</td>\n      <td>589370</td>\n      <td>630044</td>\n      <td>7520827</td>\n      <td>2019-06-02 08:37:00+00</td>\n      <td>⏰ LIQUIDATION on BTC-PERPETUAL ☠️️\\n\\n Bought ...</td>\n      <td>DeribitRekt</td>\n      <td>NaN</td>\n      <td>0.0</td>\n    </tr>\n    <tr>\n      <th>39996</th>\n      <td>940300</td>\n      <td>1232112</td>\n      <td>1411308</td>\n      <td>8308969</td>\n      <td>2019-06-13 17:36:13+00</td>\n      <td>@Lihams22 @BHoarder1 @CalvinAyre @oudekaas3 bt...</td>\n      <td>missourapete</td>\n      <td>NaN</td>\n      <td>0.0</td>\n    </tr>\n    <tr>\n      <th>39997</th>\n      <td>1125309</td>\n      <td>1480630</td>\n      <td>1686351</td>\n      <td>8782003</td>\n      <td>2019-06-17 19:25:06+00</td>\n      <td>Sr Platform Engineer - Veear ( San Jose, Unite...</td>\n      <td>WorkInRobotics</td>\n      <td>NaN</td>\n      <td>0.0</td>\n    </tr>\n    <tr>\n      <th>39998</th>\n      <td>319225</td>\n      <td>426415</td>\n      <td>455123</td>\n      <td>7343696</td>\n      <td>2019-05-30 18:26:29+00</td>\n      <td>Be part of the future App Store https://t.co/D...</td>\n      <td>Kupi83921604</td>\n      <td>NaN</td>\n      <td>0.0</td>\n    </tr>\n    <tr>\n      <th>39999</th>\n      <td>578039</td>\n      <td>760710</td>\n      <td>813465</td>\n      <td>7706830</td>\n      <td>2019-06-05 00:20:56+00</td>\n      <td>@WinthorpeBot Everyone see that  BTC is  start...</td>\n      <td>koks_05</td>\n      <td>NaN</td>\n      <td>0.0</td>\n    </tr>\n  </tbody>\n</table>\n<p>40000 rows × 9 columns</p>\n</div>"
     },
     "execution_count": 7,
     "metadata": {},
     "output_type": "execute_result"
    }
   ],
   "source": [
    "tweet_data"
   ],
   "metadata": {
    "collapsed": false,
    "pycharm": {
     "name": "#%%\n"
    }
   }
  },
  {
   "cell_type": "code",
   "execution_count": 8,
   "metadata": {
    "id": "9kyiG3KnzzSP"
   },
   "outputs": [],
   "source": [
    "tweet_data.index = range(len(tweet_data)) # Reindex"
   ]
  },
  {
   "cell_type": "code",
   "execution_count": 10,
   "metadata": {
    "id": "SLmq0Seo8tNE"
   },
   "outputs": [],
   "source": [
    "tweet_data['tweet'] = tweet_data['tweet'].astype('str')"
   ]
  },
  {
   "cell_type": "code",
   "execution_count": 11,
   "metadata": {
    "colab": {
     "base_uri": "https://localhost:8080/",
     "height": 659
    },
    "id": "xL7AqGFz8tNE",
    "outputId": "317f0449-c683-4e62-d838-318b71e0269d"
   },
   "outputs": [
    {
     "data": {
      "text/plain": "       Unnamed: 0.2  Unnamed: 0.1    index  Unnamed: 0  \\\n0            246275        333135   354812     7242079   \n1            986744       1292458  1476476     8374478   \n2           1135815       1494023  1820000     8915720   \n3            714433        938030  1004903     7900185   \n4            575337        757193   809732     7703075   \n...             ...           ...      ...         ...   \n39995        445242        589370   630044     7520827   \n39996        940300       1232112  1411308     8308969   \n39997       1125309       1480630  1686351     8782003   \n39998        319225        426415   455123     7343696   \n39999        578039        760710   813465     7706830   \n\n                         date  \\\n0      2019-05-29 14:55:00+00   \n1      2019-06-14 18:24:23+00   \n2      2019-06-17 23:49:06+00   \n3      2019-06-08 03:01:57+00   \n4      2019-06-04 22:54:29+00   \n...                       ...   \n39995  2019-06-02 08:37:00+00   \n39996  2019-06-13 17:36:13+00   \n39997  2019-06-17 19:25:06+00   \n39998  2019-05-30 18:26:29+00   \n39999  2019-06-05 00:20:56+00   \n\n                                                   tweet         username  \\\n0      $btg / $btc: +9% value, +267% volume at #Binan...  cryptocoinradar   \n1      Cryptocurrency | Cryptocurrency Jewelry | Mens...  ArtHarmony_shop   \n2      @GainsPainsCapit @DavidBCollum @mark_dow The s...     paranoidbull   \n3      Bitcoin price analysis: 8 june, bitcoin is bul...   ClubInvestlife   \n4      @DRomATX Always better to get a bargain price ...         ivanba12   \n...                                                  ...              ...   \n39995  ⏰ LIQUIDATION on BTC-PERPETUAL ☠️️\\n\\n Bought ...      DeribitRekt   \n39996  @Lihams22 @BHoarder1 @CalvinAyre @oudekaas3 bt...     missourapete   \n39997  Sr Platform Engineer - Veear ( San Jose, Unite...   WorkInRobotics   \n39998  Be part of the future App Store https://t.co/D...     Kupi83921604   \n39999  @WinthorpeBot Everyone see that  BTC is  start...          koks_05   \n\n       link  retweets  \n0       NaN       1.0  \n1       NaN       0.0  \n2       NaN       0.0  \n3       NaN       0.0  \n4       NaN       0.0  \n...     ...       ...  \n39995   NaN       0.0  \n39996   NaN       0.0  \n39997   NaN       0.0  \n39998   NaN       0.0  \n39999   NaN       0.0  \n\n[40000 rows x 9 columns]",
      "text/html": "<div>\n<style scoped>\n    .dataframe tbody tr th:only-of-type {\n        vertical-align: middle;\n    }\n\n    .dataframe tbody tr th {\n        vertical-align: top;\n    }\n\n    .dataframe thead th {\n        text-align: right;\n    }\n</style>\n<table border=\"1\" class=\"dataframe\">\n  <thead>\n    <tr style=\"text-align: right;\">\n      <th></th>\n      <th>Unnamed: 0.2</th>\n      <th>Unnamed: 0.1</th>\n      <th>index</th>\n      <th>Unnamed: 0</th>\n      <th>date</th>\n      <th>tweet</th>\n      <th>username</th>\n      <th>link</th>\n      <th>retweets</th>\n    </tr>\n  </thead>\n  <tbody>\n    <tr>\n      <th>0</th>\n      <td>246275</td>\n      <td>333135</td>\n      <td>354812</td>\n      <td>7242079</td>\n      <td>2019-05-29 14:55:00+00</td>\n      <td>$btg / $btc: +9% value, +267% volume at #Binan...</td>\n      <td>cryptocoinradar</td>\n      <td>NaN</td>\n      <td>1.0</td>\n    </tr>\n    <tr>\n      <th>1</th>\n      <td>986744</td>\n      <td>1292458</td>\n      <td>1476476</td>\n      <td>8374478</td>\n      <td>2019-06-14 18:24:23+00</td>\n      <td>Cryptocurrency | Cryptocurrency Jewelry | Mens...</td>\n      <td>ArtHarmony_shop</td>\n      <td>NaN</td>\n      <td>0.0</td>\n    </tr>\n    <tr>\n      <th>2</th>\n      <td>1135815</td>\n      <td>1494023</td>\n      <td>1820000</td>\n      <td>8915720</td>\n      <td>2019-06-17 23:49:06+00</td>\n      <td>@GainsPainsCapit @DavidBCollum @mark_dow The s...</td>\n      <td>paranoidbull</td>\n      <td>NaN</td>\n      <td>0.0</td>\n    </tr>\n    <tr>\n      <th>3</th>\n      <td>714433</td>\n      <td>938030</td>\n      <td>1004903</td>\n      <td>7900185</td>\n      <td>2019-06-08 03:01:57+00</td>\n      <td>Bitcoin price analysis: 8 june, bitcoin is bul...</td>\n      <td>ClubInvestlife</td>\n      <td>NaN</td>\n      <td>0.0</td>\n    </tr>\n    <tr>\n      <th>4</th>\n      <td>575337</td>\n      <td>757193</td>\n      <td>809732</td>\n      <td>7703075</td>\n      <td>2019-06-04 22:54:29+00</td>\n      <td>@DRomATX Always better to get a bargain price ...</td>\n      <td>ivanba12</td>\n      <td>NaN</td>\n      <td>0.0</td>\n    </tr>\n    <tr>\n      <th>...</th>\n      <td>...</td>\n      <td>...</td>\n      <td>...</td>\n      <td>...</td>\n      <td>...</td>\n      <td>...</td>\n      <td>...</td>\n      <td>...</td>\n      <td>...</td>\n    </tr>\n    <tr>\n      <th>39995</th>\n      <td>445242</td>\n      <td>589370</td>\n      <td>630044</td>\n      <td>7520827</td>\n      <td>2019-06-02 08:37:00+00</td>\n      <td>⏰ LIQUIDATION on BTC-PERPETUAL ☠️️\\n\\n Bought ...</td>\n      <td>DeribitRekt</td>\n      <td>NaN</td>\n      <td>0.0</td>\n    </tr>\n    <tr>\n      <th>39996</th>\n      <td>940300</td>\n      <td>1232112</td>\n      <td>1411308</td>\n      <td>8308969</td>\n      <td>2019-06-13 17:36:13+00</td>\n      <td>@Lihams22 @BHoarder1 @CalvinAyre @oudekaas3 bt...</td>\n      <td>missourapete</td>\n      <td>NaN</td>\n      <td>0.0</td>\n    </tr>\n    <tr>\n      <th>39997</th>\n      <td>1125309</td>\n      <td>1480630</td>\n      <td>1686351</td>\n      <td>8782003</td>\n      <td>2019-06-17 19:25:06+00</td>\n      <td>Sr Platform Engineer - Veear ( San Jose, Unite...</td>\n      <td>WorkInRobotics</td>\n      <td>NaN</td>\n      <td>0.0</td>\n    </tr>\n    <tr>\n      <th>39998</th>\n      <td>319225</td>\n      <td>426415</td>\n      <td>455123</td>\n      <td>7343696</td>\n      <td>2019-05-30 18:26:29+00</td>\n      <td>Be part of the future App Store https://t.co/D...</td>\n      <td>Kupi83921604</td>\n      <td>NaN</td>\n      <td>0.0</td>\n    </tr>\n    <tr>\n      <th>39999</th>\n      <td>578039</td>\n      <td>760710</td>\n      <td>813465</td>\n      <td>7706830</td>\n      <td>2019-06-05 00:20:56+00</td>\n      <td>@WinthorpeBot Everyone see that  BTC is  start...</td>\n      <td>koks_05</td>\n      <td>NaN</td>\n      <td>0.0</td>\n    </tr>\n  </tbody>\n</table>\n<p>40000 rows × 9 columns</p>\n</div>"
     },
     "execution_count": 11,
     "metadata": {},
     "output_type": "execute_result"
    }
   ],
   "source": [
    "tweet_data"
   ]
  },
  {
   "cell_type": "code",
   "execution_count": 12,
   "metadata": {
    "id": "v2Xyr7hn8tNF"
   },
   "outputs": [],
   "source": [
    "p.set_options(p.OPT.URL, p.OPT.EMOJI)"
   ]
  },
  {
   "cell_type": "code",
   "execution_count": 13,
   "metadata": {
    "colab": {
     "base_uri": "https://localhost:8080/"
    },
    "id": "zT8xGvAeHTwn",
    "outputId": "96e10de7-2d93-42d6-d2b0-324413accf98"
   },
   "outputs": [
    {
     "name": "stdout",
     "output_type": "stream",
     "text": [
      "CPU times: user 4.13 s, sys: 39 ms, total: 4.17 s\n",
      "Wall time: 4.52 s\n"
     ]
    }
   ],
   "source": [
    "%%time\n",
    "tweet_data['text'] = tweet_data['tweet'].apply(lambda x: p.clean(x))"
   ]
  },
  {
   "cell_type": "code",
   "execution_count": 19,
   "metadata": {
    "colab": {
     "base_uri": "https://localhost:8080/",
     "height": 902
    },
    "id": "oV73RmksJWbJ",
    "outputId": "32a9bb80-faa8-4e4d-ea9d-0eaeacb3489c",
    "pycharm": {
     "name": "#%%\n"
    }
   },
   "outputs": [
    {
     "data": {
      "text/plain": "       Unnamed: 0.2  Unnamed: 0.1    index  Unnamed: 0  \\\n0            246275        333135   354812     7242079   \n1            986744       1292458  1476476     8374478   \n2           1135815       1494023  1820000     8915720   \n3            714433        938030  1004903     7900185   \n4            575337        757193   809732     7703075   \n...             ...           ...      ...         ...   \n39995        445242        589370   630044     7520827   \n39996        940300       1232112  1411308     8308969   \n39997       1125309       1480630  1686351     8782003   \n39998        319225        426415   455123     7343696   \n39999        578039        760710   813465     7706830   \n\n                         date  \\\n0      2019-05-29 14:55:00+00   \n1      2019-06-14 18:24:23+00   \n2      2019-06-17 23:49:06+00   \n3      2019-06-08 03:01:57+00   \n4      2019-06-04 22:54:29+00   \n...                       ...   \n39995  2019-06-02 08:37:00+00   \n39996  2019-06-13 17:36:13+00   \n39997  2019-06-17 19:25:06+00   \n39998  2019-05-30 18:26:29+00   \n39999  2019-06-05 00:20:56+00   \n\n                                                   tweet         username  \\\n0      $btg / $btc: +9% value, +267% volume at #Binan...  cryptocoinradar   \n1      Cryptocurrency | Cryptocurrency Jewelry | Mens...  ArtHarmony_shop   \n2      @GainsPainsCapit @DavidBCollum @mark_dow The s...     paranoidbull   \n3      Bitcoin price analysis: 8 june, bitcoin is bul...   ClubInvestlife   \n4      @DRomATX Always better to get a bargain price ...         ivanba12   \n...                                                  ...              ...   \n39995  ⏰ LIQUIDATION on BTC-PERPETUAL ☠️️\\n\\n Bought ...      DeribitRekt   \n39996  @Lihams22 @BHoarder1 @CalvinAyre @oudekaas3 bt...     missourapete   \n39997  Sr Platform Engineer - Veear ( San Jose, Unite...   WorkInRobotics   \n39998  Be part of the future App Store https://t.co/D...     Kupi83921604   \n39999  @WinthorpeBot Everyone see that  BTC is  start...          koks_05   \n\n       link  retweets                                               text  \\\n0       NaN       1.0  $btg / $btc: +9% value, +267% volume at #Binan...   \n1       NaN       0.0  Cryptocurrency | Cryptocurrency Jewelry | Mens...   \n2       NaN       0.0  @GainsPainsCapit @DavidBCollum @mark_dow The s...   \n3       NaN       0.0  Bitcoin price analysis: 8 june, bitcoin is bul...   \n4       NaN       0.0  @DRomATX Always better to get a bargain price ...   \n...     ...       ...                                                ...   \n39995   NaN       0.0  LIQUIDATION on BTC-PERPETUAL Bought $130 of #B...   \n39996   NaN       0.0  @Lihams22 @BHoarder1 @CalvinAyre @oudekaas3 bt...   \n39997   NaN       0.0  Sr Platform Engineer - Veear ( San Jose, Unite...   \n39998   NaN       0.0  Be part of the future App Store @dapp_com Join...   \n39999   NaN       0.0  @WinthorpeBot Everyone see that BTC is startin...   \n\n        vader  textblob  \n0      0.3400  0.000000  \n1      0.0000  0.000000  \n2     -0.1779  0.025000  \n3      0.0000  0.000000  \n4      0.6693  0.175000  \n...       ...       ...  \n39995 -0.3400  0.000000  \n39996  0.0000  0.000000  \n39997  0.5859  0.000000  \n39998  0.8074  0.133333  \n39999  0.5562  0.250000  \n\n[40000 rows x 12 columns]",
      "text/html": "<div>\n<style scoped>\n    .dataframe tbody tr th:only-of-type {\n        vertical-align: middle;\n    }\n\n    .dataframe tbody tr th {\n        vertical-align: top;\n    }\n\n    .dataframe thead th {\n        text-align: right;\n    }\n</style>\n<table border=\"1\" class=\"dataframe\">\n  <thead>\n    <tr style=\"text-align: right;\">\n      <th></th>\n      <th>Unnamed: 0.2</th>\n      <th>Unnamed: 0.1</th>\n      <th>index</th>\n      <th>Unnamed: 0</th>\n      <th>date</th>\n      <th>tweet</th>\n      <th>username</th>\n      <th>link</th>\n      <th>retweets</th>\n      <th>text</th>\n      <th>vader</th>\n      <th>textblob</th>\n    </tr>\n  </thead>\n  <tbody>\n    <tr>\n      <th>0</th>\n      <td>246275</td>\n      <td>333135</td>\n      <td>354812</td>\n      <td>7242079</td>\n      <td>2019-05-29 14:55:00+00</td>\n      <td>$btg / $btc: +9% value, +267% volume at #Binan...</td>\n      <td>cryptocoinradar</td>\n      <td>NaN</td>\n      <td>1.0</td>\n      <td>$btg / $btc: +9% value, +267% volume at #Binan...</td>\n      <td>0.3400</td>\n      <td>0.000000</td>\n    </tr>\n    <tr>\n      <th>1</th>\n      <td>986744</td>\n      <td>1292458</td>\n      <td>1476476</td>\n      <td>8374478</td>\n      <td>2019-06-14 18:24:23+00</td>\n      <td>Cryptocurrency | Cryptocurrency Jewelry | Mens...</td>\n      <td>ArtHarmony_shop</td>\n      <td>NaN</td>\n      <td>0.0</td>\n      <td>Cryptocurrency | Cryptocurrency Jewelry | Mens...</td>\n      <td>0.0000</td>\n      <td>0.000000</td>\n    </tr>\n    <tr>\n      <th>2</th>\n      <td>1135815</td>\n      <td>1494023</td>\n      <td>1820000</td>\n      <td>8915720</td>\n      <td>2019-06-17 23:49:06+00</td>\n      <td>@GainsPainsCapit @DavidBCollum @mark_dow The s...</td>\n      <td>paranoidbull</td>\n      <td>NaN</td>\n      <td>0.0</td>\n      <td>@GainsPainsCapit @DavidBCollum @mark_dow The s...</td>\n      <td>-0.1779</td>\n      <td>0.025000</td>\n    </tr>\n    <tr>\n      <th>3</th>\n      <td>714433</td>\n      <td>938030</td>\n      <td>1004903</td>\n      <td>7900185</td>\n      <td>2019-06-08 03:01:57+00</td>\n      <td>Bitcoin price analysis: 8 june, bitcoin is bul...</td>\n      <td>ClubInvestlife</td>\n      <td>NaN</td>\n      <td>0.0</td>\n      <td>Bitcoin price analysis: 8 june, bitcoin is bul...</td>\n      <td>0.0000</td>\n      <td>0.000000</td>\n    </tr>\n    <tr>\n      <th>4</th>\n      <td>575337</td>\n      <td>757193</td>\n      <td>809732</td>\n      <td>7703075</td>\n      <td>2019-06-04 22:54:29+00</td>\n      <td>@DRomATX Always better to get a bargain price ...</td>\n      <td>ivanba12</td>\n      <td>NaN</td>\n      <td>0.0</td>\n      <td>@DRomATX Always better to get a bargain price ...</td>\n      <td>0.6693</td>\n      <td>0.175000</td>\n    </tr>\n    <tr>\n      <th>...</th>\n      <td>...</td>\n      <td>...</td>\n      <td>...</td>\n      <td>...</td>\n      <td>...</td>\n      <td>...</td>\n      <td>...</td>\n      <td>...</td>\n      <td>...</td>\n      <td>...</td>\n      <td>...</td>\n      <td>...</td>\n    </tr>\n    <tr>\n      <th>39995</th>\n      <td>445242</td>\n      <td>589370</td>\n      <td>630044</td>\n      <td>7520827</td>\n      <td>2019-06-02 08:37:00+00</td>\n      <td>⏰ LIQUIDATION on BTC-PERPETUAL ☠️️\\n\\n Bought ...</td>\n      <td>DeribitRekt</td>\n      <td>NaN</td>\n      <td>0.0</td>\n      <td>LIQUIDATION on BTC-PERPETUAL Bought $130 of #B...</td>\n      <td>-0.3400</td>\n      <td>0.000000</td>\n    </tr>\n    <tr>\n      <th>39996</th>\n      <td>940300</td>\n      <td>1232112</td>\n      <td>1411308</td>\n      <td>8308969</td>\n      <td>2019-06-13 17:36:13+00</td>\n      <td>@Lihams22 @BHoarder1 @CalvinAyre @oudekaas3 bt...</td>\n      <td>missourapete</td>\n      <td>NaN</td>\n      <td>0.0</td>\n      <td>@Lihams22 @BHoarder1 @CalvinAyre @oudekaas3 bt...</td>\n      <td>0.0000</td>\n      <td>0.000000</td>\n    </tr>\n    <tr>\n      <th>39997</th>\n      <td>1125309</td>\n      <td>1480630</td>\n      <td>1686351</td>\n      <td>8782003</td>\n      <td>2019-06-17 19:25:06+00</td>\n      <td>Sr Platform Engineer - Veear ( San Jose, Unite...</td>\n      <td>WorkInRobotics</td>\n      <td>NaN</td>\n      <td>0.0</td>\n      <td>Sr Platform Engineer - Veear ( San Jose, Unite...</td>\n      <td>0.5859</td>\n      <td>0.000000</td>\n    </tr>\n    <tr>\n      <th>39998</th>\n      <td>319225</td>\n      <td>426415</td>\n      <td>455123</td>\n      <td>7343696</td>\n      <td>2019-05-30 18:26:29+00</td>\n      <td>Be part of the future App Store https://t.co/D...</td>\n      <td>Kupi83921604</td>\n      <td>NaN</td>\n      <td>0.0</td>\n      <td>Be part of the future App Store @dapp_com Join...</td>\n      <td>0.8074</td>\n      <td>0.133333</td>\n    </tr>\n    <tr>\n      <th>39999</th>\n      <td>578039</td>\n      <td>760710</td>\n      <td>813465</td>\n      <td>7706830</td>\n      <td>2019-06-05 00:20:56+00</td>\n      <td>@WinthorpeBot Everyone see that  BTC is  start...</td>\n      <td>koks_05</td>\n      <td>NaN</td>\n      <td>0.0</td>\n      <td>@WinthorpeBot Everyone see that BTC is startin...</td>\n      <td>0.5562</td>\n      <td>0.250000</td>\n    </tr>\n  </tbody>\n</table>\n<p>40000 rows × 12 columns</p>\n</div>"
     },
     "execution_count": 19,
     "metadata": {},
     "output_type": "execute_result"
    }
   ],
   "source": [
    "tweet_data"
   ]
  },
  {
   "cell_type": "code",
   "execution_count": null,
   "outputs": [],
   "source": [
    "tweet_data.to_csv(\"./../datasets/\"+ file_name + \"_after_preprocessing.csv\")\n",
    "# \"BTC_2019-05-25_2019-06-25__tweets_data_from_file_after_preprocessing.csv\""
   ],
   "metadata": {
    "collapsed": false,
    "pycharm": {
     "name": "#%%\n"
    }
   }
  }
 ],
 "metadata": {
  "accelerator": "GPU",
  "colab": {
   "collapsed_sections": [],
   "machine_shape": "hm",
   "name": "sentiment_analysis.ipynb",
   "provenance": []
  },
  "kernelspec": {
   "display_name": "Python 3 (ipykernel)",
   "language": "python",
   "name": "python3"
  },
  "language_info": {
   "codemirror_mode": {
    "name": "ipython",
    "version": 3
   },
   "file_extension": ".py",
   "mimetype": "text/x-python",
   "name": "python",
   "nbconvert_exporter": "python",
   "pygments_lexer": "ipython3",
   "version": "3.10.2"
  }
 },
 "nbformat": 4,
 "nbformat_minor": 0
}